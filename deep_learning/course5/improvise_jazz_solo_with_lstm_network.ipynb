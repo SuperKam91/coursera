{
 "cells": [
  {
   "cell_type": "markdown",
   "metadata": {},
   "source": [
    "# Improvise a Jazz Solo with an LSTM Network\n",
    "\n",
    "Welcome to your final programming assignment of this week! In this notebook, you will implement a model that uses an LSTM to generate music. You will even be able to listen to your own music at the end of the assignment. \n",
    "\n",
    "**You will learn to:**\n",
    "- Apply an LSTM to music generation.\n",
    "- Generate your own jazz music with deep learning.\n",
    "\n",
    "Please run the following cell to load all the packages required in this assignment. This may take a few minutes. "
   ]
  },
  {
   "cell_type": "code",
   "execution_count": 11,
   "metadata": {},
   "outputs": [],
   "source": [
    "from __future__ import print_function\n",
    "import IPython\n",
    "import sys\n",
    "from music21 import *\n",
    "import numpy as np\n",
    "from grammar import *\n",
    "from qa import *\n",
    "from preprocess import * \n",
    "from music_utils import *\n",
    "from data_utils import *\n",
    "from keras.models import load_model, Model\n",
    "from keras.layers import Dense, Activation, Dropout, Input, LSTM, Reshape, Lambda, RepeatVector\n",
    "from keras.initializers import glorot_uniform\n",
    "from keras.utils import to_categorical\n",
    "from keras.optimizers import Adam\n",
    "from keras import backend as K"
   ]
  },
  {
   "cell_type": "markdown",
   "metadata": {},
   "source": [
    "## 1 - Problem statement\n",
    "\n",
    "You would like to create a jazz music piece specially for a friend's birthday. However, you don't know any instruments or music composition. Fortunately, you know deep learning and will solve this problem using an LSTM netwok.  \n",
    "\n",
    "You will train a network to generate novel jazz solos in a style representative of a body of performed work.\n",
    "\n",
    "<img src=\"images/jazz.jpg\" style=\"width:450;height:300px;\">\n",
    "\n",
    "\n",
    "### 1.1 - Dataset\n",
    "\n",
    "You will train your algorithm on a corpus of Jazz music. Run the cell below to listen to a snippet of the audio from the training set:"
   ]
  },
  {
   "cell_type": "code",
   "execution_count": null,
   "metadata": {
    "collapsed": true
   },
   "outputs": [],
   "source": [
    "IPython.display.Audio('./data/30s_seq.mp3')"
   ]
  },
  {
   "cell_type": "markdown",
   "metadata": {},
   "source": [
    "We have taken care of the preprocessing of the musical data to render it in terms of musical \"values.\" You can informally think of each \"value\" as a note, which comprises a pitch and a duration. For example, if you press down a specific piano key for 0.5 seconds, then you have just played a note. In music theory, a \"value\" is actually more complicated than this--specifically, it also captures the information needed to play multiple notes at the same time. For example, when playing a music piece, you might press down two piano keys at the same time (playng multiple notes at the same time generates what's called a \"chord\"). But we don't need to worry about the details of music theory for this assignment. For the purpose of this assignment, all you need to know is that we will obtain a dataset of values, and will learn an RNN model to generate sequences of values. \n",
    "\n",
    "Our music generation system will use 78 unique values. Run the following code to load the raw music data and preprocess it into values. This might take a few minutes."
   ]
  },
  {
   "cell_type": "code",
   "execution_count": 12,
   "metadata": {},
   "outputs": [
    {
     "name": "stdout",
     "output_type": "stream",
     "text": [
      "shape of X: (60, 30, 78)\n",
      "number of training examples: 60\n",
      "Tx (length of sequence): 30\n",
      "total # of unique values: 78\n",
      "Shape of Y: (30, 60, 78)\n"
     ]
    }
   ],
   "source": [
    "X, Y, n_values, indices_values = load_music_utils()\n",
    "print('shape of X:', X.shape)\n",
    "print('number of training examples:', X.shape[0])\n",
    "print('Tx (length of sequence):', X.shape[1])\n",
    "print('total # of unique values:', n_values)\n",
    "print('Shape of Y:', Y.shape)"
   ]
  },
  {
   "cell_type": "markdown",
   "metadata": {},
   "source": [
    "You have just loaded the following:\n",
    "\n",
    "- `X`: This is an (m, $T_x$, 78) dimensional array. We have m training examples, each of which is a snippet of $T_x =30$ musical values. At each time step, the input is one of 78 different possible values, represented as a one-hot vector. Thus for example, X[i,t,:] is a one-hot vector representating the value of the i-th example at time t. \n",
    "\n",
    "- `Y`: This is essentially the same as `X`, but shifted one step to the left (to the past). Similar to the dinosaurus assignment, we're interested in the network using the previous values to predict the next value, so our sequence model will try to predict $y^{\\langle t \\rangle}$ given $x^{\\langle 1\\rangle}, \\ldots, x^{\\langle t \\rangle}$. However, the data in `Y` is reordered to be dimension $(T_y, m, 78)$, where $T_y = T_x$. This format makes it more convenient to feed to the LSTM later. \n",
    "\n",
    "- `n_values`: The number of unique values in this dataset. This should be 78. \n",
    "\n",
    "- `indices_values`: python dictionary mapping from 0-77 to musical values."
   ]
  },
  {
   "cell_type": "markdown",
   "metadata": {},
   "source": [
    "### 1.2 - Overview of our model\n",
    "\n",
    "Here is the architecture of the model we will use. This is similar to the Dinosaurus model you had used in the previous notebook, except that in you will be implementing it in Keras. The architecture is as follows: \n",
    "\n",
    "<img src=\"images/music_generation.png\" style=\"width:600;height:400px;\">\n",
    "\n",
    "<!--\n",
    "<img src=\"images/djmodel.png\" style=\"width:600;height:400px;\">\n",
    "<br>\n",
    "<caption><center> **Figure 1**: LSTM model. $X = (x^{\\langle 1 \\rangle}, x^{\\langle 2 \\rangle}, ..., x^{\\langle T_x \\rangle})$ is a window of size $T_x$ scanned over the musical corpus. Each $x^{\\langle t \\rangle}$ is an index corresponding to a value (ex: \"A,0.250,< m2,P-4 >\") while $\\hat{y}$ is the prediction for the next value  </center></caption>\n",
    "!--> \n",
    "\n",
    "We will be training the model on random snippets of 30 values taken from a much longer piece of music. Thus, we won't bother to set the first input $x^{\\langle 1 \\rangle} = \\vec{0}$, which we had done previously to denote the start of a dinosaur name, since now most of these snippets of audio start somewhere in the middle of a piece of music. We are setting each of the snippts to have the same length $T_x = 30$ to make vectorization easier. \n"
   ]
  },
  {
   "cell_type": "markdown",
   "metadata": {},
   "source": [
    "## 2 - Building the model\n",
    "\n",
    "In this part you will build and train a model that will learn musical patterns. To do so, you will need to build a model that takes in X of shape $(m, T_x, 78)$ and Y of shape $(T_y, m, 78)$. We will use an LSTM with 64 dimensional hidden states. Lets set `n_a = 64`. \n"
   ]
  },
  {
   "cell_type": "code",
   "execution_count": 13,
   "metadata": {
    "collapsed": true
   },
   "outputs": [],
   "source": [
    "n_a = 64 "
   ]
  },
  {
   "cell_type": "markdown",
   "metadata": {},
   "source": [
    "\n",
    "Here's how you can create a Keras model with multiple inputs and outputs. If you're building an RNN where even at test time entire input sequence $x^{\\langle 1 \\rangle}, x^{\\langle 2 \\rangle}, \\ldots, x^{\\langle T_x \\rangle}$ were *given in advance*, for example if the inputs were words and the output was a label, then Keras has simple built-in functions to build the model. However, for sequence generation, at test time we don't know all the values of $x^{\\langle t\\rangle}$ in advance; instead we generate them one at a time using $x^{\\langle t\\rangle} = y^{\\langle t-1 \\rangle}$. So the code will be a bit more complicated, and you'll need to implement your own for-loop to iterate over the different time steps. \n",
    "\n",
    "The function `djmodel()` will call the LSTM layer $T_x$ times using a for-loop, and it is important that all $T_x$ copies have the same weights. I.e., it should not re-initiaiize the weights every time---the $T_x$ steps should have shared weights. The key steps for implementing layers with shareable weights in Keras are: \n",
    "1. Define the layer objects (we will use global variables for this).\n",
    "2. Call these objects when propagating the input.\n",
    "\n",
    "We have defined the layers objects you need as global variables. Please run the next cell to create them. Please check the Keras documentation to make sure you understand what these layers are: [Reshape()](https://keras.io/layers/core/#reshape), [LSTM()](https://keras.io/layers/recurrent/#lstm), [Dense()](https://keras.io/layers/core/#dense).\n"
   ]
  },
  {
   "cell_type": "code",
   "execution_count": 14,
   "metadata": {
    "collapsed": true
   },
   "outputs": [],
   "source": [
    "reshapor = Reshape((1, 78))                        # Used in Step 2.B of djmodel(), below\n",
    "LSTM_cell = LSTM(n_a, return_state = True)         # Used in Step 2.C\n",
    "densor = Dense(n_values, activation='softmax')     # Used in Step 2.D"
   ]
  },
  {
   "cell_type": "markdown",
   "metadata": {},
   "source": [
    "Each of `reshapor`, `LSTM_cell` and `densor` are now layer objects, and you can use them to implement `djmodel()`. In order to propagate a Keras tensor object X through one of these layers, use `layer_object(X)` (or `layer_object([X,Y])` if it requires multiple inputs.). For example, `reshapor(X)` will propagate X through the `Reshape((1,78))` layer defined above."
   ]
  },
  {
   "cell_type": "markdown",
   "metadata": {},
   "source": [
    " \n",
    "**Exercise**: Implement `djmodel()`. You will need to carry out 2 steps:\n",
    "\n",
    "1. Create an empty list \"outputs\" to save the outputs of the LSTM Cell at every time step.\n",
    "2. Loop for $t \\in 1, \\ldots, T_x$:\n",
    "\n",
    "    A. Select the \"t\"th time-step vector from X. The shape of this selection should be (78,). To do so, create a custom [Lambda](https://keras.io/layers/core/#lambda) layer in Keras by using this line of code:\n",
    "```    \n",
    "           x = Lambda(lambda x: X[:,t,:])(X)\n",
    "``` \n",
    "Look over the Keras documentation to figure out what this does. It is creating a \"temporary\" or \"unnamed\" function (that's what Lambda functions are) that extracts out the appropriate one-hot vector, and making this function a Keras `Layer` object to apply to `X`. \n",
    "\n",
    "    B. Reshape x to be (1,78). You may find the `reshapor()` layer (defined below) helpful.\n",
    "\n",
    "    C. Run x through one step of LSTM_cell. Remember to initialize the LSTM_cell with the previous step's hidden state $a$ and cell state $c$. Use the following formatting:\n",
    "```python\n",
    "a, _, c = LSTM_cell(input_x, initial_state=[previous hidden state, previous cell state])\n",
    "```\n",
    "\n",
    "    D. Propagate the LSTM's output activation value through a dense+softmax layer using `densor`. \n",
    "    \n",
    "    E. Append the predicted value to the list of \"outputs\"\n",
    " \n"
   ]
  },
  {
   "cell_type": "code",
   "execution_count": 25,
   "metadata": {
    "collapsed": true
   },
   "outputs": [],
   "source": [
    "# GRADED FUNCTION: djmodel\n",
    "\n",
    "def djmodel(Tx, n_a, n_values):\n",
    "    \"\"\"\n",
    "    Implement the model\n",
    "    \n",
    "    Arguments:\n",
    "    Tx -- length of the sequence in a corpus\n",
    "    n_a -- the number of activations used in our model\n",
    "    n_values -- number of unique values in the music data \n",
    "    \n",
    "    Returns:\n",
    "    model -- a keras model with the \n",
    "    \"\"\"\n",
    "    \n",
    "    # Define the input of your model with a shape \n",
    "    X = Input(shape=(Tx, n_values), name='X')\n",
    "    \n",
    "    # Define s0, initial hidden state for the decoder LSTM\n",
    "    a0 = Input(shape=(n_a,), name='a0')\n",
    "    c0 = Input(shape=(n_a,), name='c0')\n",
    "    a = a0\n",
    "    c = c0\n",
    "    \n",
    "    ### START CODE HERE ### \n",
    "    # Step 1: Create empty list to append the outputs while you iterate (≈1 line)\n",
    "    outputs = []\n",
    "    \n",
    "    # Step 2: Loop\n",
    "    for t in range(Tx):\n",
    "        \n",
    "        # Step 2.A: select the \"t\"th time step vector from X. \n",
    "        x = Lambda(lambda x: X[:,t,:])(X)\n",
    "        # Step 2.B: Use reshapor to reshape x to be (1, n_values) (≈1 line)\n",
    "        x = reshapor(x)\n",
    "        # Step 2.C: Perform one step of the LSTM_cell\n",
    "        a, _, c = LSTM_cell(x, initial_state=[a, c])\n",
    "        # Step 2.D: Apply densor to the hidden state output of LSTM_Cell\n",
    "        out = densor(a)\n",
    "        # Step 2.E: add the output to \"outputs\"\n",
    "        outputs.append(out)\n",
    "        \n",
    "    # Step 3: Create model instance\n",
    "    model = Model(inputs=[X, a0, c0], outputs=outputs)\n",
    "    \n",
    "    ### END CODE HERE ###\n",
    "    \n",
    "    return model"
   ]
  },
  {
   "cell_type": "markdown",
   "metadata": {},
   "source": [
    "Run the following cell to define your model. We will use `Tx=30`, `n_a=64` (the dimension of the LSTM activations), and `n_values=78`. This cell may take a few seconds to run. "
   ]
  },
  {
   "cell_type": "code",
   "execution_count": 26,
   "metadata": {
    "collapsed": true
   },
   "outputs": [],
   "source": [
    "model = djmodel(Tx = 30 , n_a = 64, n_values = 78)"
   ]
  },
  {
   "cell_type": "markdown",
   "metadata": {},
   "source": [
    "You now need to compile your model to be trained. We will Adam and a categorical cross-entropy loss."
   ]
  },
  {
   "cell_type": "code",
   "execution_count": 27,
   "metadata": {
    "collapsed": true
   },
   "outputs": [],
   "source": [
    "opt = Adam(lr=0.01, beta_1=0.9, beta_2=0.999, decay=0.01)\n",
    "\n",
    "model.compile(optimizer=opt, loss='categorical_crossentropy', metrics=['accuracy'])"
   ]
  },
  {
   "cell_type": "markdown",
   "metadata": {},
   "source": [
    "Finally, lets initialize `a0` and `c0` for the LSTM's initial state to be zero. "
   ]
  },
  {
   "cell_type": "code",
   "execution_count": 28,
   "metadata": {
    "collapsed": true,
    "scrolled": true
   },
   "outputs": [],
   "source": [
    "m = 60\n",
    "a0 = np.zeros((m, n_a))\n",
    "c0 = np.zeros((m, n_a))"
   ]
  },
  {
   "cell_type": "markdown",
   "metadata": {},
   "source": [
    "Lets now fit the model! We will turn `Y` to a list before doing so, since the cost function expects `Y` to be provided in this format (one list item per time-step). So `list(Y)` is a list with 30 items, where each of the list items is of shape (60,78). Lets train for 100 epochs. This will take a few minutes. \n",
    "\n"
   ]
  },
  {
   "cell_type": "code",
   "execution_count": 29,
   "metadata": {
    "scrolled": true
   },
   "outputs": [
    {
     "name": "stdout",
     "output_type": "stream",
     "text": [
      "Epoch 1/100\n",
      "60/60 [==============================] - 6s - loss: 125.6827 - dense_2_loss_1: 4.3551 - dense_2_loss_2: 4.3496 - dense_2_loss_3: 4.3405 - dense_2_loss_4: 4.3466 - dense_2_loss_5: 4.3421 - dense_2_loss_6: 4.3358 - dense_2_loss_7: 4.3385 - dense_2_loss_8: 4.3314 - dense_2_loss_9: 4.3368 - dense_2_loss_10: 4.3327 - dense_2_loss_11: 4.3294 - dense_2_loss_12: 4.3323 - dense_2_loss_13: 4.3352 - dense_2_loss_14: 4.3305 - dense_2_loss_15: 4.3284 - dense_2_loss_16: 4.3239 - dense_2_loss_17: 4.3292 - dense_2_loss_18: 4.3315 - dense_2_loss_19: 4.3321 - dense_2_loss_20: 4.3407 - dense_2_loss_21: 4.3337 - dense_2_loss_22: 4.3276 - dense_2_loss_23: 4.3319 - dense_2_loss_24: 4.3229 - dense_2_loss_25: 4.3294 - dense_2_loss_26: 4.3283 - dense_2_loss_27: 4.3261 - dense_2_loss_28: 4.3312 - dense_2_loss_29: 4.3292 - dense_2_loss_30: 0.0000e+00 - dense_2_acc_1: 0.0167 - dense_2_acc_2: 0.0167 - dense_2_acc_3: 0.0333 - dense_2_acc_4: 0.0167 - dense_2_acc_5: 0.0667 - dense_2_acc_6: 0.0167 - dense_2_acc_7: 0.0167 - dense_2_acc_8: 0.1000 - dense_2_acc_9: 0.0500 - dense_2_acc_10: 0.0333 - dense_2_acc_11: 0.0833 - dense_2_acc_12: 0.0667 - dense_2_acc_13: 0.0833 - dense_2_acc_14: 0.0667 - dense_2_acc_15: 0.0667 - dense_2_acc_16: 0.1000 - dense_2_acc_17: 0.0833 - dense_2_acc_18: 0.0667 - dense_2_acc_19: 0.0667 - dense_2_acc_20: 0.0167 - dense_2_acc_21: 0.0667 - dense_2_acc_22: 0.0833 - dense_2_acc_23: 0.0667 - dense_2_acc_24: 0.0333 - dense_2_acc_25: 0.0500 - dense_2_acc_26: 0.0833 - dense_2_acc_27: 0.0333 - dense_2_acc_28: 0.1000 - dense_2_acc_29: 0.0333 - dense_2_acc_30: 0.0000e+00                                                     \n",
      "Epoch 2/100\n",
      "60/60 [==============================] - 0s - loss: 121.6010 - dense_2_loss_1: 4.3332 - dense_2_loss_2: 4.3045 - dense_2_loss_3: 4.2674 - dense_2_loss_4: 4.2785 - dense_2_loss_5: 4.2430 - dense_2_loss_6: 4.2415 - dense_2_loss_7: 4.2361 - dense_2_loss_8: 4.2022 - dense_2_loss_9: 4.2252 - dense_2_loss_10: 4.1962 - dense_2_loss_11: 4.1798 - dense_2_loss_12: 4.1984 - dense_2_loss_13: 4.1926 - dense_2_loss_14: 4.1642 - dense_2_loss_15: 4.1477 - dense_2_loss_16: 4.1585 - dense_2_loss_17: 4.1691 - dense_2_loss_18: 4.1796 - dense_2_loss_19: 4.1357 - dense_2_loss_20: 4.1822 - dense_2_loss_21: 4.1876 - dense_2_loss_22: 4.1445 - dense_2_loss_23: 4.1735 - dense_2_loss_24: 4.1559 - dense_2_loss_25: 4.1674 - dense_2_loss_26: 4.0867 - dense_2_loss_27: 4.1089 - dense_2_loss_28: 4.1784 - dense_2_loss_29: 4.1625 - dense_2_loss_30: 0.0000e+00 - dense_2_acc_1: 0.0333 - dense_2_acc_2: 0.1167 - dense_2_acc_3: 0.2000 - dense_2_acc_4: 0.1000 - dense_2_acc_5: 0.2333 - dense_2_acc_6: 0.0833 - dense_2_acc_7: 0.1167 - dense_2_acc_8: 0.2500 - dense_2_acc_9: 0.1000 - dense_2_acc_10: 0.0667 - dense_2_acc_11: 0.1500 - dense_2_acc_12: 0.1667 - dense_2_acc_13: 0.1333 - dense_2_acc_14: 0.1833 - dense_2_acc_15: 0.1167 - dense_2_acc_16: 0.1167 - dense_2_acc_17: 0.1500 - dense_2_acc_18: 0.1333 - dense_2_acc_19: 0.0833 - dense_2_acc_20: 0.0833 - dense_2_acc_21: 0.1167 - dense_2_acc_22: 0.1500 - dense_2_acc_23: 0.0333 - dense_2_acc_24: 0.0167 - dense_2_acc_25: 0.1333 - dense_2_acc_26: 0.1667 - dense_2_acc_27: 0.1167 - dense_2_acc_28: 0.1167 - dense_2_acc_29: 0.1000 - dense_2_acc_30: 0.0000e+00         \n",
      "Epoch 3/100\n",
      "60/60 [==============================] - 0s - loss: 116.0916 - dense_2_loss_1: 4.3120 - dense_2_loss_2: 4.2532 - dense_2_loss_3: 4.1767 - dense_2_loss_4: 4.1765 - dense_2_loss_5: 4.1040 - dense_2_loss_6: 4.1022 - dense_2_loss_7: 4.0618 - dense_2_loss_8: 3.9655 - dense_2_loss_9: 3.9854 - dense_2_loss_10: 3.8603 - dense_2_loss_11: 3.8433 - dense_2_loss_12: 4.0119 - dense_2_loss_13: 3.9468 - dense_2_loss_14: 3.8341 - dense_2_loss_15: 3.9136 - dense_2_loss_16: 3.9132 - dense_2_loss_17: 4.0040 - dense_2_loss_18: 4.0085 - dense_2_loss_19: 3.8300 - dense_2_loss_20: 4.0432 - dense_2_loss_21: 4.0695 - dense_2_loss_22: 3.9191 - dense_2_loss_23: 3.9520 - dense_2_loss_24: 3.8832 - dense_2_loss_25: 4.0994 - dense_2_loss_26: 3.7188 - dense_2_loss_27: 3.9137 - dense_2_loss_28: 3.9839 - dense_2_loss_29: 4.2060 - dense_2_loss_30: 0.0000e+00 - dense_2_acc_1: 0.0333 - dense_2_acc_2: 0.1333 - dense_2_acc_3: 0.1500 - dense_2_acc_4: 0.0833 - dense_2_acc_5: 0.1833 - dense_2_acc_6: 0.0833 - dense_2_acc_7: 0.0500 - dense_2_acc_8: 0.1667 - dense_2_acc_9: 0.0500 - dense_2_acc_10: 0.0500 - dense_2_acc_11: 0.1000 - dense_2_acc_12: 0.1167 - dense_2_acc_13: 0.1167 - dense_2_acc_14: 0.1167 - dense_2_acc_15: 0.1000 - dense_2_acc_16: 0.0667 - dense_2_acc_17: 0.0833 - dense_2_acc_18: 0.1167 - dense_2_acc_19: 0.0667 - dense_2_acc_20: 0.0333 - dense_2_acc_21: 0.0500 - dense_2_acc_22: 0.1167 - dense_2_acc_23: 0.1000 - dense_2_acc_24: 0.0333 - dense_2_acc_25: 0.0500 - dense_2_acc_26: 0.0667 - dense_2_acc_27: 0.0833 - dense_2_acc_28: 0.0833 - dense_2_acc_29: 0.0167 - dense_2_acc_30: 0.0000e+00             \n",
      "Epoch 4/100\n",
      "60/60 [==============================] - 0s - loss: 112.4073 - dense_2_loss_1: 4.2894 - dense_2_loss_2: 4.2030 - dense_2_loss_3: 4.0864 - dense_2_loss_4: 4.0780 - dense_2_loss_5: 3.9595 - dense_2_loss_6: 3.9604 - dense_2_loss_7: 3.9176 - dense_2_loss_8: 3.7255 - dense_2_loss_9: 3.8402 - dense_2_loss_10: 3.6849 - dense_2_loss_11: 3.7567 - dense_2_loss_12: 3.9944 - dense_2_loss_13: 3.8401 - dense_2_loss_14: 3.6996 - dense_2_loss_15: 3.7974 - dense_2_loss_16: 3.7751 - dense_2_loss_17: 3.9192 - dense_2_loss_18: 3.9140 - dense_2_loss_19: 3.7676 - dense_2_loss_20: 3.9413 - dense_2_loss_21: 3.9579 - dense_2_loss_22: 3.8714 - dense_2_loss_23: 3.7805 - dense_2_loss_24: 3.6900 - dense_2_loss_25: 3.9250 - dense_2_loss_26: 3.5786 - dense_2_loss_27: 3.7427 - dense_2_loss_28: 3.7694 - dense_2_loss_29: 3.9413 - dense_2_loss_30: 0.0000e+00 - dense_2_acc_1: 0.1000 - dense_2_acc_2: 0.2333 - dense_2_acc_3: 0.2000 - dense_2_acc_4: 0.1500 - dense_2_acc_5: 0.1833 - dense_2_acc_6: 0.1167 - dense_2_acc_7: 0.0667 - dense_2_acc_8: 0.1667 - dense_2_acc_9: 0.1000 - dense_2_acc_10: 0.0833 - dense_2_acc_11: 0.1333 - dense_2_acc_12: 0.0833 - dense_2_acc_13: 0.0667 - dense_2_acc_14: 0.1333 - dense_2_acc_15: 0.0667 - dense_2_acc_16: 0.1000 - dense_2_acc_17: 0.1500 - dense_2_acc_18: 0.0667 - dense_2_acc_19: 0.1167 - dense_2_acc_20: 0.1000 - dense_2_acc_21: 0.1000 - dense_2_acc_22: 0.1167 - dense_2_acc_23: 0.0667 - dense_2_acc_24: 0.0500 - dense_2_acc_25: 0.1000 - dense_2_acc_26: 0.1667 - dense_2_acc_27: 0.0167 - dense_2_acc_28: 0.1167 - dense_2_acc_29: 0.1333 - dense_2_acc_30: 0.0000e+00         \n",
      "Epoch 5/100\n",
      "60/60 [==============================] - 0s - loss: 109.3889 - dense_2_loss_1: 4.2701 - dense_2_loss_2: 4.1568 - dense_2_loss_3: 4.0133 - dense_2_loss_4: 4.0031 - dense_2_loss_5: 3.8604 - dense_2_loss_6: 3.8808 - dense_2_loss_7: 3.8578 - dense_2_loss_8: 3.6391 - dense_2_loss_9: 3.7306 - dense_2_loss_10: 3.5625 - dense_2_loss_11: 3.6820 - dense_2_loss_12: 3.9226 - dense_2_loss_13: 3.6724 - dense_2_loss_14: 3.6047 - dense_2_loss_15: 3.6900 - dense_2_loss_16: 3.6802 - dense_2_loss_17: 3.7666 - dense_2_loss_18: 3.7978 - dense_2_loss_19: 3.6458 - dense_2_loss_20: 3.8007 - dense_2_loss_21: 3.8177 - dense_2_loss_22: 3.7608 - dense_2_loss_23: 3.6167 - dense_2_loss_24: 3.5926 - dense_2_loss_25: 3.8445 - dense_2_loss_26: 3.5014 - dense_2_loss_27: 3.6150 - dense_2_loss_28: 3.6365 - dense_2_loss_29: 3.7663 - dense_2_loss_30: 0.0000e+00 - dense_2_acc_1: 0.1000 - dense_2_acc_2: 0.2333 - dense_2_acc_3: 0.2167 - dense_2_acc_4: 0.1667 - dense_2_acc_5: 0.2000 - dense_2_acc_6: 0.1333 - dense_2_acc_7: 0.1167 - dense_2_acc_8: 0.2000 - dense_2_acc_9: 0.1500 - dense_2_acc_10: 0.1167 - dense_2_acc_11: 0.0833 - dense_2_acc_12: 0.0667 - dense_2_acc_13: 0.0833 - dense_2_acc_14: 0.1667 - dense_2_acc_15: 0.0833 - dense_2_acc_16: 0.1167 - dense_2_acc_17: 0.2000 - dense_2_acc_18: 0.0833 - dense_2_acc_19: 0.1333 - dense_2_acc_20: 0.1167 - dense_2_acc_21: 0.1000 - dense_2_acc_22: 0.0667 - dense_2_acc_23: 0.1000 - dense_2_acc_24: 0.1167 - dense_2_acc_25: 0.0333 - dense_2_acc_26: 0.1667 - dense_2_acc_27: 0.0500 - dense_2_acc_28: 0.1667 - dense_2_acc_29: 0.1167 - dense_2_acc_30: 0.0000e+00         \n",
      "Epoch 6/100\n",
      "60/60 [==============================] - 0s - loss: 106.7098 - dense_2_loss_1: 4.2525 - dense_2_loss_2: 4.1134 - dense_2_loss_3: 3.9384 - dense_2_loss_4: 3.9205 - dense_2_loss_5: 3.7715 - dense_2_loss_6: 3.8084 - dense_2_loss_7: 3.7915 - dense_2_loss_8: 3.5334 - dense_2_loss_9: 3.6123 - dense_2_loss_10: 3.4448 - dense_2_loss_11: 3.5958 - dense_2_loss_12: 3.8606 - dense_2_loss_13: 3.5603 - dense_2_loss_14: 3.4851 - dense_2_loss_15: 3.5932 - dense_2_loss_16: 3.6151 - dense_2_loss_17: 3.6136 - dense_2_loss_18: 3.6684 - dense_2_loss_19: 3.5301 - dense_2_loss_20: 3.7216 - dense_2_loss_21: 3.7385 - dense_2_loss_22: 3.6235 - dense_2_loss_23: 3.5112 - dense_2_loss_24: 3.4841 - dense_2_loss_25: 3.7411 - dense_2_loss_26: 3.4231 - dense_2_loss_27: 3.5887 - dense_2_loss_28: 3.5427 - dense_2_loss_29: 3.6266 - dense_2_loss_30: 0.0000e+00 - dense_2_acc_1: 0.1000 - dense_2_acc_2: 0.1500 - dense_2_acc_3: 0.2000 - dense_2_acc_4: 0.1833 - dense_2_acc_5: 0.2333 - dense_2_acc_6: 0.1333 - dense_2_acc_7: 0.1333 - dense_2_acc_8: 0.1333 - dense_2_acc_9: 0.1833 - dense_2_acc_10: 0.1500 - dense_2_acc_11: 0.1000 - dense_2_acc_12: 0.0667 - dense_2_acc_13: 0.1167 - dense_2_acc_14: 0.1500 - dense_2_acc_15: 0.0833 - dense_2_acc_16: 0.1167 - dense_2_acc_17: 0.2000 - dense_2_acc_18: 0.1000 - dense_2_acc_19: 0.1333 - dense_2_acc_20: 0.1167 - dense_2_acc_21: 0.0833 - dense_2_acc_22: 0.0500 - dense_2_acc_23: 0.1167 - dense_2_acc_24: 0.1167 - dense_2_acc_25: 0.0667 - dense_2_acc_26: 0.1500 - dense_2_acc_27: 0.0667 - dense_2_acc_28: 0.1333 - dense_2_acc_29: 0.1167 - dense_2_acc_30: 0.0000e+00         \n",
      "Epoch 7/100\n",
      "60/60 [==============================] - 0s - loss: 104.2083 - dense_2_loss_1: 4.2370 - dense_2_loss_2: 4.0759 - dense_2_loss_3: 3.8653 - dense_2_loss_4: 3.8407 - dense_2_loss_5: 3.6601 - dense_2_loss_6: 3.7503 - dense_2_loss_7: 3.7314 - dense_2_loss_8: 3.4211 - dense_2_loss_9: 3.4850 - dense_2_loss_10: 3.3241 - dense_2_loss_11: 3.4951 - dense_2_loss_12: 3.7293 - dense_2_loss_13: 3.3629 - dense_2_loss_14: 3.3493 - dense_2_loss_15: 3.5114 - dense_2_loss_16: 3.4772 - dense_2_loss_17: 3.4583 - dense_2_loss_18: 3.5954 - dense_2_loss_19: 3.3897 - dense_2_loss_20: 3.6102 - dense_2_loss_21: 3.5845 - dense_2_loss_22: 3.5231 - dense_2_loss_23: 3.4203 - dense_2_loss_24: 3.4808 - dense_2_loss_25: 3.6644 - dense_2_loss_26: 3.3948 - dense_2_loss_27: 3.5930 - dense_2_loss_28: 3.4839 - dense_2_loss_29: 3.6937 - dense_2_loss_30: 0.0000e+00 - dense_2_acc_1: 0.1000 - dense_2_acc_2: 0.1667 - dense_2_acc_3: 0.1833 - dense_2_acc_4: 0.1833 - dense_2_acc_5: 0.2667 - dense_2_acc_6: 0.1167 - dense_2_acc_7: 0.1833 - dense_2_acc_8: 0.1833 - dense_2_acc_9: 0.1667 - dense_2_acc_10: 0.1667 - dense_2_acc_11: 0.1167 - dense_2_acc_12: 0.1167 - dense_2_acc_13: 0.1667 - dense_2_acc_14: 0.1667 - dense_2_acc_15: 0.1000 - dense_2_acc_16: 0.1667 - dense_2_acc_17: 0.2000 - dense_2_acc_18: 0.0833 - dense_2_acc_19: 0.1500 - dense_2_acc_20: 0.1167 - dense_2_acc_21: 0.0833 - dense_2_acc_22: 0.0667 - dense_2_acc_23: 0.1000 - dense_2_acc_24: 0.0833 - dense_2_acc_25: 0.0333 - dense_2_acc_26: 0.1167 - dense_2_acc_27: 0.0667 - dense_2_acc_28: 0.1167 - dense_2_acc_29: 0.0667 - dense_2_acc_30: 0.0000e+00             \n",
      "Epoch 8/100\n",
      "60/60 [==============================] - 0s - loss: 100.0186 - dense_2_loss_1: 4.2247 - dense_2_loss_2: 4.0372 - dense_2_loss_3: 3.8027 - dense_2_loss_4: 3.7566 - dense_2_loss_5: 3.5568 - dense_2_loss_6: 3.6531 - dense_2_loss_7: 3.6276 - dense_2_loss_8: 3.2821 - dense_2_loss_9: 3.3663 - dense_2_loss_10: 3.2159 - dense_2_loss_11: 3.3541 - dense_2_loss_12: 3.5628 - dense_2_loss_13: 3.2177 - dense_2_loss_14: 3.2116 - dense_2_loss_15: 3.4233 - dense_2_loss_16: 3.3627 - dense_2_loss_17: 3.2399 - dense_2_loss_18: 3.3959 - dense_2_loss_19: 3.2948 - dense_2_loss_20: 3.4607 - dense_2_loss_21: 3.3986 - dense_2_loss_22: 3.3321 - dense_2_loss_23: 3.3302 - dense_2_loss_24: 3.2384 - dense_2_loss_25: 3.4584 - dense_2_loss_26: 3.1637 - dense_2_loss_27: 3.3708 - dense_2_loss_28: 3.2348 - dense_2_loss_29: 3.4449 - dense_2_loss_30: 0.0000e+00 - dense_2_acc_1: 0.1000 - dense_2_acc_2: 0.1500 - dense_2_acc_3: 0.2000 - dense_2_acc_4: 0.1667 - dense_2_acc_5: 0.2333 - dense_2_acc_6: 0.1167 - dense_2_acc_7: 0.1333 - dense_2_acc_8: 0.1667 - dense_2_acc_9: 0.2000 - dense_2_acc_10: 0.1833 - dense_2_acc_11: 0.1500 - dense_2_acc_12: 0.1167 - dense_2_acc_13: 0.1667 - dense_2_acc_14: 0.1667 - dense_2_acc_15: 0.1500 - dense_2_acc_16: 0.1167 - dense_2_acc_17: 0.2167 - dense_2_acc_18: 0.1333 - dense_2_acc_19: 0.1833 - dense_2_acc_20: 0.1333 - dense_2_acc_21: 0.1000 - dense_2_acc_22: 0.0333 - dense_2_acc_23: 0.1167 - dense_2_acc_24: 0.1333 - dense_2_acc_25: 0.0833 - dense_2_acc_26: 0.1667 - dense_2_acc_27: 0.0833 - dense_2_acc_28: 0.1333 - dense_2_acc_29: 0.1333 - dense_2_acc_30: 0.0000e+00     \n",
      "Epoch 9/100\n",
      "60/60 [==============================] - 0s - loss: 95.8398 - dense_2_loss_1: 4.2155 - dense_2_loss_2: 4.0022 - dense_2_loss_3: 3.7299 - dense_2_loss_4: 3.6815 - dense_2_loss_5: 3.4443 - dense_2_loss_6: 3.5363 - dense_2_loss_7: 3.5184 - dense_2_loss_8: 3.1528 - dense_2_loss_9: 3.2454 - dense_2_loss_10: 3.0674 - dense_2_loss_11: 3.2143 - dense_2_loss_12: 3.3896 - dense_2_loss_13: 3.0644 - dense_2_loss_14: 3.0875 - dense_2_loss_15: 3.2703 - dense_2_loss_16: 3.2475 - dense_2_loss_17: 3.0476 - dense_2_loss_18: 3.2406 - dense_2_loss_19: 3.0544 - dense_2_loss_20: 3.2596 - dense_2_loss_21: 3.2750 - dense_2_loss_22: 3.1108 - dense_2_loss_23: 3.1870 - dense_2_loss_24: 3.1403 - dense_2_loss_25: 3.2795 - dense_2_loss_26: 2.9215 - dense_2_loss_27: 3.1673 - dense_2_loss_28: 3.0316 - dense_2_loss_29: 3.2572 - dense_2_loss_30: 0.0000e+00 - dense_2_acc_1: 0.1000 - dense_2_acc_2: 0.1500 - dense_2_acc_3: 0.2000 - dense_2_acc_4: 0.1833 - dense_2_acc_5: 0.2667 - dense_2_acc_6: 0.1333 - dense_2_acc_7: 0.1333 - dense_2_acc_8: 0.1667 - dense_2_acc_9: 0.2167 - dense_2_acc_10: 0.1667 - dense_2_acc_11: 0.1500 - dense_2_acc_12: 0.1000 - dense_2_acc_13: 0.1500 - dense_2_acc_14: 0.2000 - dense_2_acc_15: 0.1667 - dense_2_acc_16: 0.2000 - dense_2_acc_17: 0.2667 - dense_2_acc_18: 0.1500 - dense_2_acc_19: 0.1833 - dense_2_acc_20: 0.2000 - dense_2_acc_21: 0.1167 - dense_2_acc_22: 0.1167 - dense_2_acc_23: 0.1500 - dense_2_acc_24: 0.1500 - dense_2_acc_25: 0.1167 - dense_2_acc_26: 0.2333 - dense_2_acc_27: 0.1000 - dense_2_acc_28: 0.2333 - dense_2_acc_29: 0.1500 - dense_2_acc_30: 0.0000e+00     \n",
      "Epoch 10/100\n",
      "60/60 [==============================] - 0s - loss: 91.6995 - dense_2_loss_1: 4.2072 - dense_2_loss_2: 3.9654 - dense_2_loss_3: 3.6614 - dense_2_loss_4: 3.5997 - dense_2_loss_5: 3.3246 - dense_2_loss_6: 3.3957 - dense_2_loss_7: 3.3762 - dense_2_loss_8: 3.0142 - dense_2_loss_9: 3.0914 - dense_2_loss_10: 2.9396 - dense_2_loss_11: 3.0800 - dense_2_loss_12: 3.1704 - dense_2_loss_13: 2.9078 - dense_2_loss_14: 2.8790 - dense_2_loss_15: 3.0866 - dense_2_loss_16: 3.0815 - dense_2_loss_17: 2.8693 - dense_2_loss_18: 3.0995 - dense_2_loss_19: 2.8500 - dense_2_loss_20: 3.0188 - dense_2_loss_21: 3.0671 - dense_2_loss_22: 2.9797 - dense_2_loss_23: 2.9969 - dense_2_loss_24: 2.9982 - dense_2_loss_25: 3.1599 - dense_2_loss_26: 2.7261 - dense_2_loss_27: 3.0968 - dense_2_loss_28: 2.9136 - dense_2_loss_29: 3.1428 - dense_2_loss_30: 0.0000e+00 - dense_2_acc_1: 0.1000 - dense_2_acc_2: 0.1833 - dense_2_acc_3: 0.2667 - dense_2_acc_4: 0.1833 - dense_2_acc_5: 0.3000 - dense_2_acc_6: 0.1500 - dense_2_acc_7: 0.1167 - dense_2_acc_8: 0.1667 - dense_2_acc_9: 0.1667 - dense_2_acc_10: 0.2000 - dense_2_acc_11: 0.1833 - dense_2_acc_12: 0.1833 - dense_2_acc_13: 0.2500 - dense_2_acc_14: 0.2667 - dense_2_acc_15: 0.1833 - dense_2_acc_16: 0.1500 - dense_2_acc_17: 0.3500 - dense_2_acc_18: 0.1333 - dense_2_acc_19: 0.2333 - dense_2_acc_20: 0.2333 - dense_2_acc_21: 0.1500 - dense_2_acc_22: 0.1500 - dense_2_acc_23: 0.1833 - dense_2_acc_24: 0.1500 - dense_2_acc_25: 0.1833 - dense_2_acc_26: 0.3167 - dense_2_acc_27: 0.1167 - dense_2_acc_28: 0.2000 - dense_2_acc_29: 0.2167 - dense_2_acc_30: 0.0000e+00     \n",
      "Epoch 11/100\n"
     ]
    },
    {
     "name": "stdout",
     "output_type": "stream",
     "text": [
      "60/60 [==============================] - 0s - loss: 87.2802 - dense_2_loss_1: 4.2000 - dense_2_loss_2: 3.9325 - dense_2_loss_3: 3.5938 - dense_2_loss_4: 3.5181 - dense_2_loss_5: 3.2087 - dense_2_loss_6: 3.2483 - dense_2_loss_7: 3.2163 - dense_2_loss_8: 2.8687 - dense_2_loss_9: 2.9403 - dense_2_loss_10: 2.8206 - dense_2_loss_11: 2.9496 - dense_2_loss_12: 2.9921 - dense_2_loss_13: 2.6997 - dense_2_loss_14: 2.6964 - dense_2_loss_15: 2.9115 - dense_2_loss_16: 2.8605 - dense_2_loss_17: 2.7187 - dense_2_loss_18: 2.9455 - dense_2_loss_19: 2.6749 - dense_2_loss_20: 2.8530 - dense_2_loss_21: 2.7810 - dense_2_loss_22: 2.8203 - dense_2_loss_23: 2.8798 - dense_2_loss_24: 2.8372 - dense_2_loss_25: 2.9862 - dense_2_loss_26: 2.5762 - dense_2_loss_27: 2.8972 - dense_2_loss_28: 2.7701 - dense_2_loss_29: 2.8829 - dense_2_loss_30: 0.0000e+00 - dense_2_acc_1: 0.1000 - dense_2_acc_2: 0.2000 - dense_2_acc_3: 0.2667 - dense_2_acc_4: 0.1833 - dense_2_acc_5: 0.3167 - dense_2_acc_6: 0.1500 - dense_2_acc_7: 0.1333 - dense_2_acc_8: 0.1667 - dense_2_acc_9: 0.2333 - dense_2_acc_10: 0.2667 - dense_2_acc_11: 0.2333 - dense_2_acc_12: 0.2000 - dense_2_acc_13: 0.3667 - dense_2_acc_14: 0.3167 - dense_2_acc_15: 0.1833 - dense_2_acc_16: 0.2500 - dense_2_acc_17: 0.3667 - dense_2_acc_18: 0.2000 - dense_2_acc_19: 0.2667 - dense_2_acc_20: 0.2667 - dense_2_acc_21: 0.2333 - dense_2_acc_22: 0.2000 - dense_2_acc_23: 0.2000 - dense_2_acc_24: 0.1833 - dense_2_acc_25: 0.1833 - dense_2_acc_26: 0.3000 - dense_2_acc_27: 0.1500 - dense_2_acc_28: 0.2333 - dense_2_acc_29: 0.2333 - dense_2_acc_30: 0.0000e+00     \n",
      "Epoch 12/100\n",
      "60/60 [==============================] - 0s - loss: 83.4548 - dense_2_loss_1: 4.1936 - dense_2_loss_2: 3.8998 - dense_2_loss_3: 3.5217 - dense_2_loss_4: 3.4275 - dense_2_loss_5: 3.1087 - dense_2_loss_6: 3.1163 - dense_2_loss_7: 3.0745 - dense_2_loss_8: 2.7427 - dense_2_loss_9: 2.8256 - dense_2_loss_10: 2.6924 - dense_2_loss_11: 2.7936 - dense_2_loss_12: 2.7773 - dense_2_loss_13: 2.5737 - dense_2_loss_14: 2.6243 - dense_2_loss_15: 2.7506 - dense_2_loss_16: 2.7814 - dense_2_loss_17: 2.6308 - dense_2_loss_18: 2.7217 - dense_2_loss_19: 2.6280 - dense_2_loss_20: 2.6723 - dense_2_loss_21: 2.6526 - dense_2_loss_22: 2.5948 - dense_2_loss_23: 2.6882 - dense_2_loss_24: 2.6605 - dense_2_loss_25: 2.8397 - dense_2_loss_26: 2.4377 - dense_2_loss_27: 2.7197 - dense_2_loss_28: 2.5856 - dense_2_loss_29: 2.7198 - dense_2_loss_30: 0.0000e+00 - dense_2_acc_1: 0.0333 - dense_2_acc_2: 0.1833 - dense_2_acc_3: 0.2667 - dense_2_acc_4: 0.1833 - dense_2_acc_5: 0.3500 - dense_2_acc_6: 0.1500 - dense_2_acc_7: 0.2000 - dense_2_acc_8: 0.2833 - dense_2_acc_9: 0.2167 - dense_2_acc_10: 0.2833 - dense_2_acc_11: 0.2667 - dense_2_acc_12: 0.2333 - dense_2_acc_13: 0.3667 - dense_2_acc_14: 0.2667 - dense_2_acc_15: 0.2667 - dense_2_acc_16: 0.2167 - dense_2_acc_17: 0.3333 - dense_2_acc_18: 0.2500 - dense_2_acc_19: 0.2667 - dense_2_acc_20: 0.3000 - dense_2_acc_21: 0.3500 - dense_2_acc_22: 0.2167 - dense_2_acc_23: 0.2500 - dense_2_acc_24: 0.2833 - dense_2_acc_25: 0.2167 - dense_2_acc_26: 0.2667 - dense_2_acc_27: 0.3000 - dense_2_acc_28: 0.3333 - dense_2_acc_29: 0.3000 - dense_2_acc_30: 0.0000e+00     \n",
      "Epoch 13/100\n",
      "60/60 [==============================] - 0s - loss: 79.3991 - dense_2_loss_1: 4.1849 - dense_2_loss_2: 3.8659 - dense_2_loss_3: 3.4435 - dense_2_loss_4: 3.3286 - dense_2_loss_5: 2.9824 - dense_2_loss_6: 2.9613 - dense_2_loss_7: 2.9249 - dense_2_loss_8: 2.5844 - dense_2_loss_9: 2.7222 - dense_2_loss_10: 2.5532 - dense_2_loss_11: 2.6541 - dense_2_loss_12: 2.6314 - dense_2_loss_13: 2.4313 - dense_2_loss_14: 2.3982 - dense_2_loss_15: 2.5394 - dense_2_loss_16: 2.5410 - dense_2_loss_17: 2.3820 - dense_2_loss_18: 2.6060 - dense_2_loss_19: 2.3820 - dense_2_loss_20: 2.5172 - dense_2_loss_21: 2.5355 - dense_2_loss_22: 2.5069 - dense_2_loss_23: 2.5343 - dense_2_loss_24: 2.5177 - dense_2_loss_25: 2.7337 - dense_2_loss_26: 2.2523 - dense_2_loss_27: 2.6641 - dense_2_loss_28: 2.4164 - dense_2_loss_29: 2.6043 - dense_2_loss_30: 0.0000e+00 - dense_2_acc_1: 0.0333 - dense_2_acc_2: 0.2000 - dense_2_acc_3: 0.2667 - dense_2_acc_4: 0.1833 - dense_2_acc_5: 0.3500 - dense_2_acc_6: 0.1667 - dense_2_acc_7: 0.2000 - dense_2_acc_8: 0.2833 - dense_2_acc_9: 0.2333 - dense_2_acc_10: 0.3500 - dense_2_acc_11: 0.2333 - dense_2_acc_12: 0.2500 - dense_2_acc_13: 0.3833 - dense_2_acc_14: 0.3500 - dense_2_acc_15: 0.2833 - dense_2_acc_16: 0.2500 - dense_2_acc_17: 0.3333 - dense_2_acc_18: 0.2167 - dense_2_acc_19: 0.2167 - dense_2_acc_20: 0.3333 - dense_2_acc_21: 0.2833 - dense_2_acc_22: 0.2000 - dense_2_acc_23: 0.2333 - dense_2_acc_24: 0.2333 - dense_2_acc_25: 0.1667 - dense_2_acc_26: 0.3333 - dense_2_acc_27: 0.2333 - dense_2_acc_28: 0.3000 - dense_2_acc_29: 0.2833 - dense_2_acc_30: 0.0000e+00         \n",
      "Epoch 14/100\n",
      "60/60 [==============================] - 0s - loss: 75.3666 - dense_2_loss_1: 4.1787 - dense_2_loss_2: 3.8294 - dense_2_loss_3: 3.3635 - dense_2_loss_4: 3.2075 - dense_2_loss_5: 2.8635 - dense_2_loss_6: 2.8276 - dense_2_loss_7: 2.7839 - dense_2_loss_8: 2.4344 - dense_2_loss_9: 2.5813 - dense_2_loss_10: 2.4450 - dense_2_loss_11: 2.4671 - dense_2_loss_12: 2.4802 - dense_2_loss_13: 2.2653 - dense_2_loss_14: 2.2513 - dense_2_loss_15: 2.4195 - dense_2_loss_16: 2.4286 - dense_2_loss_17: 2.2576 - dense_2_loss_18: 2.4625 - dense_2_loss_19: 2.2258 - dense_2_loss_20: 2.3621 - dense_2_loss_21: 2.3672 - dense_2_loss_22: 2.3278 - dense_2_loss_23: 2.3452 - dense_2_loss_24: 2.3705 - dense_2_loss_25: 2.5667 - dense_2_loss_26: 2.0845 - dense_2_loss_27: 2.4682 - dense_2_loss_28: 2.2679 - dense_2_loss_29: 2.4337 - dense_2_loss_30: 0.0000e+00 - dense_2_acc_1: 0.0333 - dense_2_acc_2: 0.1833 - dense_2_acc_3: 0.2833 - dense_2_acc_4: 0.2000 - dense_2_acc_5: 0.3500 - dense_2_acc_6: 0.1833 - dense_2_acc_7: 0.2500 - dense_2_acc_8: 0.3333 - dense_2_acc_9: 0.3167 - dense_2_acc_10: 0.3500 - dense_2_acc_11: 0.3333 - dense_2_acc_12: 0.2833 - dense_2_acc_13: 0.3667 - dense_2_acc_14: 0.4000 - dense_2_acc_15: 0.3667 - dense_2_acc_16: 0.2333 - dense_2_acc_17: 0.3167 - dense_2_acc_18: 0.2000 - dense_2_acc_19: 0.3500 - dense_2_acc_20: 0.3833 - dense_2_acc_21: 0.3000 - dense_2_acc_22: 0.2167 - dense_2_acc_23: 0.2833 - dense_2_acc_24: 0.3000 - dense_2_acc_25: 0.2167 - dense_2_acc_26: 0.4333 - dense_2_acc_27: 0.3333 - dense_2_acc_28: 0.3667 - dense_2_acc_29: 0.3667 - dense_2_acc_30: 0.0000e+00         \n",
      "Epoch 15/100\n",
      "60/60 [==============================] - 0s - loss: 71.7773 - dense_2_loss_1: 4.1700 - dense_2_loss_2: 3.7903 - dense_2_loss_3: 3.2832 - dense_2_loss_4: 3.0901 - dense_2_loss_5: 2.7529 - dense_2_loss_6: 2.6932 - dense_2_loss_7: 2.6528 - dense_2_loss_8: 2.3080 - dense_2_loss_9: 2.4613 - dense_2_loss_10: 2.3726 - dense_2_loss_11: 2.3840 - dense_2_loss_12: 2.3368 - dense_2_loss_13: 2.1066 - dense_2_loss_14: 2.1526 - dense_2_loss_15: 2.3022 - dense_2_loss_16: 2.3189 - dense_2_loss_17: 2.1462 - dense_2_loss_18: 2.3165 - dense_2_loss_19: 2.1229 - dense_2_loss_20: 2.2359 - dense_2_loss_21: 2.2255 - dense_2_loss_22: 2.1427 - dense_2_loss_23: 2.1727 - dense_2_loss_24: 2.2415 - dense_2_loss_25: 2.4014 - dense_2_loss_26: 2.0045 - dense_2_loss_27: 2.2348 - dense_2_loss_28: 2.0796 - dense_2_loss_29: 2.2778 - dense_2_loss_30: 0.0000e+00 - dense_2_acc_1: 0.0333 - dense_2_acc_2: 0.1833 - dense_2_acc_3: 0.3000 - dense_2_acc_4: 0.2167 - dense_2_acc_5: 0.3333 - dense_2_acc_6: 0.2333 - dense_2_acc_7: 0.2500 - dense_2_acc_8: 0.3667 - dense_2_acc_9: 0.3167 - dense_2_acc_10: 0.3667 - dense_2_acc_11: 0.3667 - dense_2_acc_12: 0.3000 - dense_2_acc_13: 0.4167 - dense_2_acc_14: 0.4833 - dense_2_acc_15: 0.3167 - dense_2_acc_16: 0.2833 - dense_2_acc_17: 0.3000 - dense_2_acc_18: 0.2833 - dense_2_acc_19: 0.3500 - dense_2_acc_20: 0.4000 - dense_2_acc_21: 0.4000 - dense_2_acc_22: 0.3000 - dense_2_acc_23: 0.4500 - dense_2_acc_24: 0.3667 - dense_2_acc_25: 0.2000 - dense_2_acc_26: 0.3833 - dense_2_acc_27: 0.4167 - dense_2_acc_28: 0.4167 - dense_2_acc_29: 0.3333 - dense_2_acc_30: 0.0000e+00         \n",
      "Epoch 16/100\n",
      "60/60 [==============================] - 0s - loss: 67.9066 - dense_2_loss_1: 4.1601 - dense_2_loss_2: 3.7457 - dense_2_loss_3: 3.1928 - dense_2_loss_4: 2.9702 - dense_2_loss_5: 2.6333 - dense_2_loss_6: 2.5558 - dense_2_loss_7: 2.5282 - dense_2_loss_8: 2.1678 - dense_2_loss_9: 2.2989 - dense_2_loss_10: 2.2104 - dense_2_loss_11: 2.2459 - dense_2_loss_12: 2.1885 - dense_2_loss_13: 1.9933 - dense_2_loss_14: 2.0097 - dense_2_loss_15: 2.1124 - dense_2_loss_16: 2.1360 - dense_2_loss_17: 1.9463 - dense_2_loss_18: 2.1755 - dense_2_loss_19: 2.0326 - dense_2_loss_20: 2.1038 - dense_2_loss_21: 2.0694 - dense_2_loss_22: 2.0333 - dense_2_loss_23: 2.0818 - dense_2_loss_24: 2.0574 - dense_2_loss_25: 2.2205 - dense_2_loss_26: 1.8725 - dense_2_loss_27: 2.1644 - dense_2_loss_28: 1.9422 - dense_2_loss_29: 2.0580 - dense_2_loss_30: 0.0000e+00 - dense_2_acc_1: 0.0333 - dense_2_acc_2: 0.2000 - dense_2_acc_3: 0.3333 - dense_2_acc_4: 0.2333 - dense_2_acc_5: 0.2833 - dense_2_acc_6: 0.2833 - dense_2_acc_7: 0.3167 - dense_2_acc_8: 0.3667 - dense_2_acc_9: 0.3500 - dense_2_acc_10: 0.3833 - dense_2_acc_11: 0.3667 - dense_2_acc_12: 0.3500 - dense_2_acc_13: 0.4833 - dense_2_acc_14: 0.4667 - dense_2_acc_15: 0.4000 - dense_2_acc_16: 0.3500 - dense_2_acc_17: 0.5000 - dense_2_acc_18: 0.3333 - dense_2_acc_19: 0.4500 - dense_2_acc_20: 0.4667 - dense_2_acc_21: 0.3667 - dense_2_acc_22: 0.3167 - dense_2_acc_23: 0.4333 - dense_2_acc_24: 0.3833 - dense_2_acc_25: 0.2500 - dense_2_acc_26: 0.4667 - dense_2_acc_27: 0.4667 - dense_2_acc_28: 0.4833 - dense_2_acc_29: 0.4833 - dense_2_acc_30: 0.0000e+00     \n",
      "Epoch 17/100\n",
      "60/60 [==============================] - 0s - loss: 64.4603 - dense_2_loss_1: 4.1512 - dense_2_loss_2: 3.7004 - dense_2_loss_3: 3.0991 - dense_2_loss_4: 2.8490 - dense_2_loss_5: 2.5122 - dense_2_loss_6: 2.4141 - dense_2_loss_7: 2.3892 - dense_2_loss_8: 2.0370 - dense_2_loss_9: 2.1476 - dense_2_loss_10: 2.0835 - dense_2_loss_11: 2.0541 - dense_2_loss_12: 2.0154 - dense_2_loss_13: 1.8758 - dense_2_loss_14: 1.8910 - dense_2_loss_15: 2.0140 - dense_2_loss_16: 2.0368 - dense_2_loss_17: 1.8615 - dense_2_loss_18: 2.0174 - dense_2_loss_19: 1.9252 - dense_2_loss_20: 1.9948 - dense_2_loss_21: 1.8938 - dense_2_loss_22: 1.9057 - dense_2_loss_23: 1.9390 - dense_2_loss_24: 1.9407 - dense_2_loss_25: 2.0481 - dense_2_loss_26: 1.7924 - dense_2_loss_27: 2.0687 - dense_2_loss_28: 1.8503 - dense_2_loss_29: 1.9524 - dense_2_loss_30: 0.0000e+00 - dense_2_acc_1: 0.0667 - dense_2_acc_2: 0.2333 - dense_2_acc_3: 0.2833 - dense_2_acc_4: 0.2333 - dense_2_acc_5: 0.2833 - dense_2_acc_6: 0.3833 - dense_2_acc_7: 0.3500 - dense_2_acc_8: 0.4167 - dense_2_acc_9: 0.3667 - dense_2_acc_10: 0.3667 - dense_2_acc_11: 0.3500 - dense_2_acc_12: 0.4333 - dense_2_acc_13: 0.4167 - dense_2_acc_14: 0.4833 - dense_2_acc_15: 0.3667 - dense_2_acc_16: 0.3500 - dense_2_acc_17: 0.5167 - dense_2_acc_18: 0.3500 - dense_2_acc_19: 0.4333 - dense_2_acc_20: 0.4167 - dense_2_acc_21: 0.3833 - dense_2_acc_22: 0.3167 - dense_2_acc_23: 0.4000 - dense_2_acc_24: 0.3500 - dense_2_acc_25: 0.3167 - dense_2_acc_26: 0.4500 - dense_2_acc_27: 0.4167 - dense_2_acc_28: 0.4333 - dense_2_acc_29: 0.5000 - dense_2_acc_30: 0.0000e+00     \n",
      "Epoch 18/100\n",
      "60/60 [==============================] - 0s - loss: 61.0852 - dense_2_loss_1: 4.1420 - dense_2_loss_2: 3.6501 - dense_2_loss_3: 3.0107 - dense_2_loss_4: 2.7199 - dense_2_loss_5: 2.4092 - dense_2_loss_6: 2.2878 - dense_2_loss_7: 2.2590 - dense_2_loss_8: 1.9228 - dense_2_loss_9: 2.0244 - dense_2_loss_10: 1.9424 - dense_2_loss_11: 1.9071 - dense_2_loss_12: 1.8906 - dense_2_loss_13: 1.7982 - dense_2_loss_14: 1.8187 - dense_2_loss_15: 1.8417 - dense_2_loss_16: 1.8808 - dense_2_loss_17: 1.7457 - dense_2_loss_18: 1.8805 - dense_2_loss_19: 1.7632 - dense_2_loss_20: 1.8633 - dense_2_loss_21: 1.7987 - dense_2_loss_22: 1.8208 - dense_2_loss_23: 1.8323 - dense_2_loss_24: 1.8089 - dense_2_loss_25: 1.9138 - dense_2_loss_26: 1.6990 - dense_2_loss_27: 1.8955 - dense_2_loss_28: 1.7306 - dense_2_loss_29: 1.8275 - dense_2_loss_30: 0.0000e+00 - dense_2_acc_1: 0.0667 - dense_2_acc_2: 0.2667 - dense_2_acc_3: 0.2667 - dense_2_acc_4: 0.2500 - dense_2_acc_5: 0.3167 - dense_2_acc_6: 0.4333 - dense_2_acc_7: 0.3833 - dense_2_acc_8: 0.4000 - dense_2_acc_9: 0.4167 - dense_2_acc_10: 0.3333 - dense_2_acc_11: 0.3667 - dense_2_acc_12: 0.4667 - dense_2_acc_13: 0.4667 - dense_2_acc_14: 0.4833 - dense_2_acc_15: 0.4833 - dense_2_acc_16: 0.3833 - dense_2_acc_17: 0.5500 - dense_2_acc_18: 0.3667 - dense_2_acc_19: 0.5000 - dense_2_acc_20: 0.4333 - dense_2_acc_21: 0.5167 - dense_2_acc_22: 0.4333 - dense_2_acc_23: 0.4500 - dense_2_acc_24: 0.4333 - dense_2_acc_25: 0.3667 - dense_2_acc_26: 0.4833 - dense_2_acc_27: 0.4333 - dense_2_acc_28: 0.5500 - dense_2_acc_29: 0.5500 - dense_2_acc_30: 0.0000e+00     \n",
      "Epoch 19/100\n",
      "60/60 [==============================] - 0s - loss: 57.9795 - dense_2_loss_1: 4.1327 - dense_2_loss_2: 3.6021 - dense_2_loss_3: 2.9255 - dense_2_loss_4: 2.6005 - dense_2_loss_5: 2.3105 - dense_2_loss_6: 2.1439 - dense_2_loss_7: 2.1283 - dense_2_loss_8: 1.7971 - dense_2_loss_9: 1.8959 - dense_2_loss_10: 1.8452 - dense_2_loss_11: 1.7868 - dense_2_loss_12: 1.7735 - dense_2_loss_13: 1.6621 - dense_2_loss_14: 1.7062 - dense_2_loss_15: 1.7656 - dense_2_loss_16: 1.7424 - dense_2_loss_17: 1.6640 - dense_2_loss_18: 1.7652 - dense_2_loss_19: 1.6527 - dense_2_loss_20: 1.7256 - dense_2_loss_21: 1.6752 - dense_2_loss_22: 1.7128 - dense_2_loss_23: 1.7172 - dense_2_loss_24: 1.6840 - dense_2_loss_25: 1.8076 - dense_2_loss_26: 1.5974 - dense_2_loss_27: 1.7759 - dense_2_loss_28: 1.6244 - dense_2_loss_29: 1.7594 - dense_2_loss_30: 0.0000e+00 - dense_2_acc_1: 0.0667 - dense_2_acc_2: 0.3000 - dense_2_acc_3: 0.2667 - dense_2_acc_4: 0.2667 - dense_2_acc_5: 0.3333 - dense_2_acc_6: 0.4667 - dense_2_acc_7: 0.4000 - dense_2_acc_8: 0.4667 - dense_2_acc_9: 0.4833 - dense_2_acc_10: 0.3333 - dense_2_acc_11: 0.4167 - dense_2_acc_12: 0.4667 - dense_2_acc_13: 0.5000 - dense_2_acc_14: 0.5000 - dense_2_acc_15: 0.4667 - dense_2_acc_16: 0.4833 - dense_2_acc_17: 0.6000 - dense_2_acc_18: 0.4833 - dense_2_acc_19: 0.6167 - dense_2_acc_20: 0.5333 - dense_2_acc_21: 0.5333 - dense_2_acc_22: 0.5167 - dense_2_acc_23: 0.5833 - dense_2_acc_24: 0.5000 - dense_2_acc_25: 0.4500 - dense_2_acc_26: 0.5167 - dense_2_acc_27: 0.4833 - dense_2_acc_28: 0.6000 - dense_2_acc_29: 0.5833 - dense_2_acc_30: 0.0000e+00     \n",
      "Epoch 20/100\n",
      "60/60 [==============================] - 0s - loss: 54.7478 - dense_2_loss_1: 4.1239 - dense_2_loss_2: 3.5510 - dense_2_loss_3: 2.8361 - dense_2_loss_4: 2.4878 - dense_2_loss_5: 2.2109 - dense_2_loss_6: 2.0259 - dense_2_loss_7: 1.9822 - dense_2_loss_8: 1.6948 - dense_2_loss_9: 1.7950 - dense_2_loss_10: 1.7178 - dense_2_loss_11: 1.6382 - dense_2_loss_12: 1.6283 - dense_2_loss_13: 1.5160 - dense_2_loss_14: 1.5682 - dense_2_loss_15: 1.7008 - dense_2_loss_16: 1.6098 - dense_2_loss_17: 1.5279 - dense_2_loss_18: 1.6219 - dense_2_loss_19: 1.5764 - dense_2_loss_20: 1.6196 - dense_2_loss_21: 1.5406 - dense_2_loss_22: 1.5980 - dense_2_loss_23: 1.5430 - dense_2_loss_24: 1.5997 - dense_2_loss_25: 1.7190 - dense_2_loss_26: 1.4876 - dense_2_loss_27: 1.6948 - dense_2_loss_28: 1.5199 - dense_2_loss_29: 1.6129 - dense_2_loss_30: 0.0000e+00 - dense_2_acc_1: 0.0667 - dense_2_acc_2: 0.3000 - dense_2_acc_3: 0.3167 - dense_2_acc_4: 0.2667 - dense_2_acc_5: 0.3833 - dense_2_acc_6: 0.4333 - dense_2_acc_7: 0.4333 - dense_2_acc_8: 0.5833 - dense_2_acc_9: 0.4833 - dense_2_acc_10: 0.4333 - dense_2_acc_11: 0.5000 - dense_2_acc_12: 0.5667 - dense_2_acc_13: 0.6500 - dense_2_acc_14: 0.5667 - dense_2_acc_15: 0.4667 - dense_2_acc_16: 0.5500 - dense_2_acc_17: 0.6500 - dense_2_acc_18: 0.5000 - dense_2_acc_19: 0.6500 - dense_2_acc_20: 0.5167 - dense_2_acc_21: 0.5833 - dense_2_acc_22: 0.5333 - dense_2_acc_23: 0.6833 - dense_2_acc_24: 0.5833 - dense_2_acc_25: 0.4667 - dense_2_acc_26: 0.6333 - dense_2_acc_27: 0.5333 - dense_2_acc_28: 0.6833 - dense_2_acc_29: 0.6333 - dense_2_acc_30: 0.0167     \n",
      "Epoch 21/100\n"
     ]
    },
    {
     "name": "stdout",
     "output_type": "stream",
     "text": [
      "60/60 [==============================] - 0s - loss: 51.8588 - dense_2_loss_1: 4.1150 - dense_2_loss_2: 3.4990 - dense_2_loss_3: 2.7457 - dense_2_loss_4: 2.3791 - dense_2_loss_5: 2.1141 - dense_2_loss_6: 1.9002 - dense_2_loss_7: 1.8613 - dense_2_loss_8: 1.5776 - dense_2_loss_9: 1.6911 - dense_2_loss_10: 1.5917 - dense_2_loss_11: 1.5269 - dense_2_loss_12: 1.5584 - dense_2_loss_13: 1.4258 - dense_2_loss_14: 1.4700 - dense_2_loss_15: 1.5627 - dense_2_loss_16: 1.5335 - dense_2_loss_17: 1.4092 - dense_2_loss_18: 1.5405 - dense_2_loss_19: 1.4743 - dense_2_loss_20: 1.5006 - dense_2_loss_21: 1.4760 - dense_2_loss_22: 1.5196 - dense_2_loss_23: 1.4322 - dense_2_loss_24: 1.4773 - dense_2_loss_25: 1.5958 - dense_2_loss_26: 1.4056 - dense_2_loss_27: 1.5715 - dense_2_loss_28: 1.4228 - dense_2_loss_29: 1.4814 - dense_2_loss_30: 0.0000e+00 - dense_2_acc_1: 0.0667 - dense_2_acc_2: 0.3000 - dense_2_acc_3: 0.3500 - dense_2_acc_4: 0.3000 - dense_2_acc_5: 0.4000 - dense_2_acc_6: 0.5167 - dense_2_acc_7: 0.5000 - dense_2_acc_8: 0.6333 - dense_2_acc_9: 0.5000 - dense_2_acc_10: 0.5000 - dense_2_acc_11: 0.5333 - dense_2_acc_12: 0.5500 - dense_2_acc_13: 0.7333 - dense_2_acc_14: 0.5333 - dense_2_acc_15: 0.5000 - dense_2_acc_16: 0.6167 - dense_2_acc_17: 0.7000 - dense_2_acc_18: 0.5167 - dense_2_acc_19: 0.6167 - dense_2_acc_20: 0.6000 - dense_2_acc_21: 0.6000 - dense_2_acc_22: 0.5667 - dense_2_acc_23: 0.6833 - dense_2_acc_24: 0.5333 - dense_2_acc_25: 0.4667 - dense_2_acc_26: 0.6667 - dense_2_acc_27: 0.6000 - dense_2_acc_28: 0.7167 - dense_2_acc_29: 0.6000 - dense_2_acc_30: 0.0167         \n",
      "Epoch 22/100\n",
      "60/60 [==============================] - 0s - loss: 49.0136 - dense_2_loss_1: 4.1071 - dense_2_loss_2: 3.4478 - dense_2_loss_3: 2.6541 - dense_2_loss_4: 2.2690 - dense_2_loss_5: 2.0180 - dense_2_loss_6: 1.7920 - dense_2_loss_7: 1.7423 - dense_2_loss_8: 1.5017 - dense_2_loss_9: 1.5725 - dense_2_loss_10: 1.4594 - dense_2_loss_11: 1.4353 - dense_2_loss_12: 1.4448 - dense_2_loss_13: 1.2898 - dense_2_loss_14: 1.3632 - dense_2_loss_15: 1.4875 - dense_2_loss_16: 1.4479 - dense_2_loss_17: 1.2931 - dense_2_loss_18: 1.4153 - dense_2_loss_19: 1.3838 - dense_2_loss_20: 1.4027 - dense_2_loss_21: 1.3478 - dense_2_loss_22: 1.4320 - dense_2_loss_23: 1.3558 - dense_2_loss_24: 1.3524 - dense_2_loss_25: 1.4729 - dense_2_loss_26: 1.3245 - dense_2_loss_27: 1.4424 - dense_2_loss_28: 1.3393 - dense_2_loss_29: 1.4191 - dense_2_loss_30: 0.0000e+00 - dense_2_acc_1: 0.0667 - dense_2_acc_2: 0.3500 - dense_2_acc_3: 0.3833 - dense_2_acc_4: 0.3167 - dense_2_acc_5: 0.4000 - dense_2_acc_6: 0.5167 - dense_2_acc_7: 0.5333 - dense_2_acc_8: 0.6667 - dense_2_acc_9: 0.5667 - dense_2_acc_10: 0.5333 - dense_2_acc_11: 0.6333 - dense_2_acc_12: 0.6000 - dense_2_acc_13: 0.7667 - dense_2_acc_14: 0.6500 - dense_2_acc_15: 0.5167 - dense_2_acc_16: 0.6333 - dense_2_acc_17: 0.7167 - dense_2_acc_18: 0.5500 - dense_2_acc_19: 0.6500 - dense_2_acc_20: 0.5500 - dense_2_acc_21: 0.7000 - dense_2_acc_22: 0.6167 - dense_2_acc_23: 0.6500 - dense_2_acc_24: 0.6500 - dense_2_acc_25: 0.5167 - dense_2_acc_26: 0.6333 - dense_2_acc_27: 0.5500 - dense_2_acc_28: 0.6667 - dense_2_acc_29: 0.7000 - dense_2_acc_30: 0.0167     \n",
      "Epoch 23/100\n",
      "60/60 [==============================] - 0s - loss: 46.2476 - dense_2_loss_1: 4.0994 - dense_2_loss_2: 3.3949 - dense_2_loss_3: 2.5631 - dense_2_loss_4: 2.1712 - dense_2_loss_5: 1.9184 - dense_2_loss_6: 1.6696 - dense_2_loss_7: 1.6206 - dense_2_loss_8: 1.4021 - dense_2_loss_9: 1.4838 - dense_2_loss_10: 1.3477 - dense_2_loss_11: 1.3436 - dense_2_loss_12: 1.3309 - dense_2_loss_13: 1.2258 - dense_2_loss_14: 1.2519 - dense_2_loss_15: 1.3453 - dense_2_loss_16: 1.3474 - dense_2_loss_17: 1.2048 - dense_2_loss_18: 1.2850 - dense_2_loss_19: 1.3017 - dense_2_loss_20: 1.2957 - dense_2_loss_21: 1.2572 - dense_2_loss_22: 1.2884 - dense_2_loss_23: 1.2818 - dense_2_loss_24: 1.2932 - dense_2_loss_25: 1.3610 - dense_2_loss_26: 1.2567 - dense_2_loss_27: 1.2956 - dense_2_loss_28: 1.2428 - dense_2_loss_29: 1.3681 - dense_2_loss_30: 0.0000e+00 - dense_2_acc_1: 0.0667 - dense_2_acc_2: 0.3833 - dense_2_acc_3: 0.4000 - dense_2_acc_4: 0.3500 - dense_2_acc_5: 0.4333 - dense_2_acc_6: 0.5667 - dense_2_acc_7: 0.6000 - dense_2_acc_8: 0.7000 - dense_2_acc_9: 0.5667 - dense_2_acc_10: 0.6000 - dense_2_acc_11: 0.7167 - dense_2_acc_12: 0.6833 - dense_2_acc_13: 0.7667 - dense_2_acc_14: 0.7833 - dense_2_acc_15: 0.6333 - dense_2_acc_16: 0.6667 - dense_2_acc_17: 0.7333 - dense_2_acc_18: 0.7000 - dense_2_acc_19: 0.7500 - dense_2_acc_20: 0.6500 - dense_2_acc_21: 0.8167 - dense_2_acc_22: 0.6833 - dense_2_acc_23: 0.6500 - dense_2_acc_24: 0.7167 - dense_2_acc_25: 0.6333 - dense_2_acc_26: 0.7167 - dense_2_acc_27: 0.6167 - dense_2_acc_28: 0.7833 - dense_2_acc_29: 0.7667 - dense_2_acc_30: 0.0167     \n",
      "Epoch 24/100\n",
      "60/60 [==============================] - 0s - loss: 43.6698 - dense_2_loss_1: 4.0922 - dense_2_loss_2: 3.3419 - dense_2_loss_3: 2.4744 - dense_2_loss_4: 2.0806 - dense_2_loss_5: 1.8212 - dense_2_loss_6: 1.5813 - dense_2_loss_7: 1.5272 - dense_2_loss_8: 1.3145 - dense_2_loss_9: 1.3813 - dense_2_loss_10: 1.2542 - dense_2_loss_11: 1.2584 - dense_2_loss_12: 1.2500 - dense_2_loss_13: 1.1358 - dense_2_loss_14: 1.1912 - dense_2_loss_15: 1.2351 - dense_2_loss_16: 1.2607 - dense_2_loss_17: 1.1068 - dense_2_loss_18: 1.1820 - dense_2_loss_19: 1.1919 - dense_2_loss_20: 1.1851 - dense_2_loss_21: 1.1823 - dense_2_loss_22: 1.1841 - dense_2_loss_23: 1.1734 - dense_2_loss_24: 1.1857 - dense_2_loss_25: 1.2734 - dense_2_loss_26: 1.1859 - dense_2_loss_27: 1.1740 - dense_2_loss_28: 1.1803 - dense_2_loss_29: 1.2647 - dense_2_loss_30: 0.0000e+00 - dense_2_acc_1: 0.0667 - dense_2_acc_2: 0.4000 - dense_2_acc_3: 0.4333 - dense_2_acc_4: 0.3833 - dense_2_acc_5: 0.4500 - dense_2_acc_6: 0.5833 - dense_2_acc_7: 0.6333 - dense_2_acc_8: 0.7500 - dense_2_acc_9: 0.6000 - dense_2_acc_10: 0.6833 - dense_2_acc_11: 0.7500 - dense_2_acc_12: 0.7000 - dense_2_acc_13: 0.8333 - dense_2_acc_14: 0.7500 - dense_2_acc_15: 0.7000 - dense_2_acc_16: 0.7833 - dense_2_acc_17: 0.8167 - dense_2_acc_18: 0.7667 - dense_2_acc_19: 0.7667 - dense_2_acc_20: 0.7667 - dense_2_acc_21: 0.8167 - dense_2_acc_22: 0.7667 - dense_2_acc_23: 0.7500 - dense_2_acc_24: 0.7833 - dense_2_acc_25: 0.7000 - dense_2_acc_26: 0.8333 - dense_2_acc_27: 0.7667 - dense_2_acc_28: 0.8833 - dense_2_acc_29: 0.8333 - dense_2_acc_30: 0.0167         \n",
      "Epoch 25/100\n",
      "60/60 [==============================] - 0s - loss: 41.1848 - dense_2_loss_1: 4.0850 - dense_2_loss_2: 3.2873 - dense_2_loss_3: 2.3894 - dense_2_loss_4: 1.9881 - dense_2_loss_5: 1.7261 - dense_2_loss_6: 1.4810 - dense_2_loss_7: 1.4008 - dense_2_loss_8: 1.2289 - dense_2_loss_9: 1.2626 - dense_2_loss_10: 1.1628 - dense_2_loss_11: 1.1584 - dense_2_loss_12: 1.1664 - dense_2_loss_13: 1.0515 - dense_2_loss_14: 1.0739 - dense_2_loss_15: 1.1494 - dense_2_loss_16: 1.1660 - dense_2_loss_17: 0.9961 - dense_2_loss_18: 1.0952 - dense_2_loss_19: 1.1256 - dense_2_loss_20: 1.1148 - dense_2_loss_21: 1.0910 - dense_2_loss_22: 1.1119 - dense_2_loss_23: 1.0741 - dense_2_loss_24: 1.1237 - dense_2_loss_25: 1.1766 - dense_2_loss_26: 1.1147 - dense_2_loss_27: 1.1181 - dense_2_loss_28: 1.0872 - dense_2_loss_29: 1.1786 - dense_2_loss_30: 0.0000e+00 - dense_2_acc_1: 0.0667 - dense_2_acc_2: 0.4167 - dense_2_acc_3: 0.4333 - dense_2_acc_4: 0.4167 - dense_2_acc_5: 0.4833 - dense_2_acc_6: 0.5833 - dense_2_acc_7: 0.6667 - dense_2_acc_8: 0.6833 - dense_2_acc_9: 0.7333 - dense_2_acc_10: 0.6667 - dense_2_acc_11: 0.7500 - dense_2_acc_12: 0.7167 - dense_2_acc_13: 0.8333 - dense_2_acc_14: 0.8667 - dense_2_acc_15: 0.7667 - dense_2_acc_16: 0.8500 - dense_2_acc_17: 0.9500 - dense_2_acc_18: 0.8500 - dense_2_acc_19: 0.8500 - dense_2_acc_20: 0.8333 - dense_2_acc_21: 0.9167 - dense_2_acc_22: 0.8833 - dense_2_acc_23: 0.8667 - dense_2_acc_24: 0.8000 - dense_2_acc_25: 0.6667 - dense_2_acc_26: 0.8167 - dense_2_acc_27: 0.8500 - dense_2_acc_28: 0.9000 - dense_2_acc_29: 0.9000 - dense_2_acc_30: 0.0167         \n",
      "Epoch 26/100\n",
      "60/60 [==============================] - 0s - loss: 38.7856 - dense_2_loss_1: 4.0777 - dense_2_loss_2: 3.2306 - dense_2_loss_3: 2.3015 - dense_2_loss_4: 1.8980 - dense_2_loss_5: 1.6316 - dense_2_loss_6: 1.3793 - dense_2_loss_7: 1.2904 - dense_2_loss_8: 1.1386 - dense_2_loss_9: 1.1635 - dense_2_loss_10: 1.0816 - dense_2_loss_11: 1.0779 - dense_2_loss_12: 1.0937 - dense_2_loss_13: 0.9782 - dense_2_loss_14: 0.9698 - dense_2_loss_15: 1.0684 - dense_2_loss_16: 1.0595 - dense_2_loss_17: 0.9115 - dense_2_loss_18: 1.0335 - dense_2_loss_19: 1.0296 - dense_2_loss_20: 1.0192 - dense_2_loss_21: 1.0258 - dense_2_loss_22: 1.0280 - dense_2_loss_23: 1.0065 - dense_2_loss_24: 1.0347 - dense_2_loss_25: 1.0839 - dense_2_loss_26: 1.0341 - dense_2_loss_27: 1.0561 - dense_2_loss_28: 1.0006 - dense_2_loss_29: 1.0818 - dense_2_loss_30: 0.0000e+00 - dense_2_acc_1: 0.0667 - dense_2_acc_2: 0.4333 - dense_2_acc_3: 0.4500 - dense_2_acc_4: 0.4167 - dense_2_acc_5: 0.5500 - dense_2_acc_6: 0.6667 - dense_2_acc_7: 0.7333 - dense_2_acc_8: 0.7333 - dense_2_acc_9: 0.7500 - dense_2_acc_10: 0.7333 - dense_2_acc_11: 0.8167 - dense_2_acc_12: 0.7167 - dense_2_acc_13: 0.9000 - dense_2_acc_14: 0.9167 - dense_2_acc_15: 0.7833 - dense_2_acc_16: 0.8500 - dense_2_acc_17: 0.9333 - dense_2_acc_18: 0.8667 - dense_2_acc_19: 0.8833 - dense_2_acc_20: 0.8833 - dense_2_acc_21: 0.9333 - dense_2_acc_22: 0.8833 - dense_2_acc_23: 0.8833 - dense_2_acc_24: 0.8500 - dense_2_acc_25: 0.6833 - dense_2_acc_26: 0.9000 - dense_2_acc_27: 0.8333 - dense_2_acc_28: 0.9000 - dense_2_acc_29: 0.9167 - dense_2_acc_30: 0.0167     \n",
      "Epoch 27/100\n",
      "60/60 [==============================] - 0s - loss: 36.5626 - dense_2_loss_1: 4.0697 - dense_2_loss_2: 3.1744 - dense_2_loss_3: 2.2220 - dense_2_loss_4: 1.8122 - dense_2_loss_5: 1.5437 - dense_2_loss_6: 1.2987 - dense_2_loss_7: 1.1970 - dense_2_loss_8: 1.0689 - dense_2_loss_9: 1.0859 - dense_2_loss_10: 0.9915 - dense_2_loss_11: 1.0297 - dense_2_loss_12: 1.0148 - dense_2_loss_13: 0.8922 - dense_2_loss_14: 0.9034 - dense_2_loss_15: 0.9961 - dense_2_loss_16: 0.9674 - dense_2_loss_17: 0.8535 - dense_2_loss_18: 0.9413 - dense_2_loss_19: 0.9666 - dense_2_loss_20: 0.9377 - dense_2_loss_21: 0.9313 - dense_2_loss_22: 0.9371 - dense_2_loss_23: 0.9596 - dense_2_loss_24: 0.9384 - dense_2_loss_25: 0.9910 - dense_2_loss_26: 0.9509 - dense_2_loss_27: 0.9531 - dense_2_loss_28: 0.9387 - dense_2_loss_29: 0.9958 - dense_2_loss_30: 0.0000e+00 - dense_2_acc_1: 0.0667 - dense_2_acc_2: 0.4333 - dense_2_acc_3: 0.4667 - dense_2_acc_4: 0.4167 - dense_2_acc_5: 0.5500 - dense_2_acc_6: 0.6667 - dense_2_acc_7: 0.7500 - dense_2_acc_8: 0.7667 - dense_2_acc_9: 0.8000 - dense_2_acc_10: 0.8000 - dense_2_acc_11: 0.8333 - dense_2_acc_12: 0.8333 - dense_2_acc_13: 0.9333 - dense_2_acc_14: 0.9000 - dense_2_acc_15: 0.8167 - dense_2_acc_16: 0.9000 - dense_2_acc_17: 0.9500 - dense_2_acc_18: 0.8833 - dense_2_acc_19: 0.9000 - dense_2_acc_20: 0.9500 - dense_2_acc_21: 0.9167 - dense_2_acc_22: 0.9167 - dense_2_acc_23: 0.8667 - dense_2_acc_24: 0.9000 - dense_2_acc_25: 0.8167 - dense_2_acc_26: 0.9333 - dense_2_acc_27: 0.9167 - dense_2_acc_28: 0.9167 - dense_2_acc_29: 0.9333 - dense_2_acc_30: 0.0167         \n",
      "Epoch 28/100\n",
      "60/60 [==============================] - 0s - loss: 34.3586 - dense_2_loss_1: 4.0618 - dense_2_loss_2: 3.1187 - dense_2_loss_3: 2.1425 - dense_2_loss_4: 1.7220 - dense_2_loss_5: 1.4610 - dense_2_loss_6: 1.2010 - dense_2_loss_7: 1.1076 - dense_2_loss_8: 0.9839 - dense_2_loss_9: 1.0096 - dense_2_loss_10: 0.9266 - dense_2_loss_11: 0.9228 - dense_2_loss_12: 0.9334 - dense_2_loss_13: 0.8162 - dense_2_loss_14: 0.8337 - dense_2_loss_15: 0.8806 - dense_2_loss_16: 0.9040 - dense_2_loss_17: 0.7697 - dense_2_loss_18: 0.8659 - dense_2_loss_19: 0.8873 - dense_2_loss_20: 0.8777 - dense_2_loss_21: 0.8602 - dense_2_loss_22: 0.8750 - dense_2_loss_23: 0.8735 - dense_2_loss_24: 0.8811 - dense_2_loss_25: 0.8960 - dense_2_loss_26: 0.8837 - dense_2_loss_27: 0.8825 - dense_2_loss_28: 0.8573 - dense_2_loss_29: 0.9232 - dense_2_loss_30: 0.0000e+00 - dense_2_acc_1: 0.0667 - dense_2_acc_2: 0.4333 - dense_2_acc_3: 0.4833 - dense_2_acc_4: 0.4333 - dense_2_acc_5: 0.5833 - dense_2_acc_6: 0.7167 - dense_2_acc_7: 0.8167 - dense_2_acc_8: 0.8167 - dense_2_acc_9: 0.8167 - dense_2_acc_10: 0.8000 - dense_2_acc_11: 0.8667 - dense_2_acc_12: 0.9000 - dense_2_acc_13: 0.9667 - dense_2_acc_14: 0.9333 - dense_2_acc_15: 0.9500 - dense_2_acc_16: 0.9000 - dense_2_acc_17: 0.9833 - dense_2_acc_18: 0.9167 - dense_2_acc_19: 0.9500 - dense_2_acc_20: 0.9500 - dense_2_acc_21: 1.0000 - dense_2_acc_22: 0.9833 - dense_2_acc_23: 0.9500 - dense_2_acc_24: 0.9333 - dense_2_acc_25: 0.9000 - dense_2_acc_26: 0.9333 - dense_2_acc_27: 0.9000 - dense_2_acc_28: 0.9500 - dense_2_acc_29: 0.9333 - dense_2_acc_30: 0.0167     \n",
      "Epoch 29/100\n",
      "60/60 [==============================] - 0s - loss: 32.3934 - dense_2_loss_1: 4.0545 - dense_2_loss_2: 3.0647 - dense_2_loss_3: 2.0635 - dense_2_loss_4: 1.6349 - dense_2_loss_5: 1.3742 - dense_2_loss_6: 1.1225 - dense_2_loss_7: 1.0348 - dense_2_loss_8: 0.9138 - dense_2_loss_9: 0.9186 - dense_2_loss_10: 0.8318 - dense_2_loss_11: 0.8826 - dense_2_loss_12: 0.8404 - dense_2_loss_13: 0.7326 - dense_2_loss_14: 0.7620 - dense_2_loss_15: 0.8422 - dense_2_loss_16: 0.8050 - dense_2_loss_17: 0.7172 - dense_2_loss_18: 0.8027 - dense_2_loss_19: 0.8183 - dense_2_loss_20: 0.8000 - dense_2_loss_21: 0.8082 - dense_2_loss_22: 0.8391 - dense_2_loss_23: 0.8261 - dense_2_loss_24: 0.7731 - dense_2_loss_25: 0.8518 - dense_2_loss_26: 0.8093 - dense_2_loss_27: 0.8301 - dense_2_loss_28: 0.7862 - dense_2_loss_29: 0.8532 - dense_2_loss_30: 0.0000e+00 - dense_2_acc_1: 0.0667 - dense_2_acc_2: 0.4333 - dense_2_acc_3: 0.4833 - dense_2_acc_4: 0.4833 - dense_2_acc_5: 0.6333 - dense_2_acc_6: 0.7500 - dense_2_acc_7: 0.8500 - dense_2_acc_8: 0.9000 - dense_2_acc_9: 0.8000 - dense_2_acc_10: 0.8333 - dense_2_acc_11: 0.8500 - dense_2_acc_12: 0.9333 - dense_2_acc_13: 0.9500 - dense_2_acc_14: 0.9667 - dense_2_acc_15: 0.9333 - dense_2_acc_16: 0.9833 - dense_2_acc_17: 0.9667 - dense_2_acc_18: 1.0000 - dense_2_acc_19: 0.9667 - dense_2_acc_20: 0.9167 - dense_2_acc_21: 1.0000 - dense_2_acc_22: 0.9833 - dense_2_acc_23: 0.9167 - dense_2_acc_24: 0.9833 - dense_2_acc_25: 0.8500 - dense_2_acc_26: 0.9500 - dense_2_acc_27: 0.9167 - dense_2_acc_28: 0.9333 - dense_2_acc_29: 0.9333 - dense_2_acc_30: 0.0167     \n",
      "Epoch 30/100\n",
      "60/60 [==============================] - 0s - loss: 30.5335 - dense_2_loss_1: 4.0473 - dense_2_loss_2: 3.0063 - dense_2_loss_3: 1.9841 - dense_2_loss_4: 1.5489 - dense_2_loss_5: 1.2885 - dense_2_loss_6: 1.0260 - dense_2_loss_7: 0.9678 - dense_2_loss_8: 0.8509 - dense_2_loss_9: 0.8533 - dense_2_loss_10: 0.7735 - dense_2_loss_11: 0.7974 - dense_2_loss_12: 0.7875 - dense_2_loss_13: 0.6872 - dense_2_loss_14: 0.7183 - dense_2_loss_15: 0.7738 - dense_2_loss_16: 0.7667 - dense_2_loss_17: 0.6599 - dense_2_loss_18: 0.7393 - dense_2_loss_19: 0.7711 - dense_2_loss_20: 0.7581 - dense_2_loss_21: 0.7410 - dense_2_loss_22: 0.7631 - dense_2_loss_23: 0.7374 - dense_2_loss_24: 0.7139 - dense_2_loss_25: 0.7571 - dense_2_loss_26: 0.7557 - dense_2_loss_27: 0.7430 - dense_2_loss_28: 0.7383 - dense_2_loss_29: 0.7782 - dense_2_loss_30: 0.0000e+00 - dense_2_acc_1: 0.0667 - dense_2_acc_2: 0.4167 - dense_2_acc_3: 0.5333 - dense_2_acc_4: 0.5167 - dense_2_acc_5: 0.6667 - dense_2_acc_6: 0.7500 - dense_2_acc_7: 0.8667 - dense_2_acc_8: 0.9167 - dense_2_acc_9: 0.8500 - dense_2_acc_10: 0.9000 - dense_2_acc_11: 0.8833 - dense_2_acc_12: 0.9833 - dense_2_acc_13: 0.9667 - dense_2_acc_14: 0.9333 - dense_2_acc_15: 0.9167 - dense_2_acc_16: 0.9667 - dense_2_acc_17: 0.9833 - dense_2_acc_18: 1.0000 - dense_2_acc_19: 0.9333 - dense_2_acc_20: 0.9833 - dense_2_acc_21: 1.0000 - dense_2_acc_22: 0.9833 - dense_2_acc_23: 0.9500 - dense_2_acc_24: 1.0000 - dense_2_acc_25: 0.8833 - dense_2_acc_26: 0.9667 - dense_2_acc_27: 1.0000 - dense_2_acc_28: 0.9500 - dense_2_acc_29: 0.9333 - dense_2_acc_30: 0.0167         \n",
      "Epoch 31/100\n"
     ]
    },
    {
     "name": "stdout",
     "output_type": "stream",
     "text": [
      "60/60 [==============================] - 0s - loss: 28.7382 - dense_2_loss_1: 4.0392 - dense_2_loss_2: 2.9536 - dense_2_loss_3: 1.9081 - dense_2_loss_4: 1.4642 - dense_2_loss_5: 1.2066 - dense_2_loss_6: 0.9617 - dense_2_loss_7: 0.8834 - dense_2_loss_8: 0.7816 - dense_2_loss_9: 0.7709 - dense_2_loss_10: 0.6781 - dense_2_loss_11: 0.7376 - dense_2_loss_12: 0.7224 - dense_2_loss_13: 0.6159 - dense_2_loss_14: 0.6293 - dense_2_loss_15: 0.7145 - dense_2_loss_16: 0.6816 - dense_2_loss_17: 0.6170 - dense_2_loss_18: 0.6926 - dense_2_loss_19: 0.6837 - dense_2_loss_20: 0.6995 - dense_2_loss_21: 0.6776 - dense_2_loss_22: 0.7025 - dense_2_loss_23: 0.7169 - dense_2_loss_24: 0.6585 - dense_2_loss_25: 0.7288 - dense_2_loss_26: 0.6822 - dense_2_loss_27: 0.6994 - dense_2_loss_28: 0.6894 - dense_2_loss_29: 0.7412 - dense_2_loss_30: 0.0000e+00 - dense_2_acc_1: 0.0667 - dense_2_acc_2: 0.3833 - dense_2_acc_3: 0.5500 - dense_2_acc_4: 0.5333 - dense_2_acc_5: 0.7167 - dense_2_acc_6: 0.7833 - dense_2_acc_7: 0.9333 - dense_2_acc_8: 0.9167 - dense_2_acc_9: 0.8833 - dense_2_acc_10: 0.9833 - dense_2_acc_11: 0.9000 - dense_2_acc_12: 1.0000 - dense_2_acc_13: 0.9833 - dense_2_acc_14: 0.9833 - dense_2_acc_15: 0.9167 - dense_2_acc_16: 0.9833 - dense_2_acc_17: 0.9833 - dense_2_acc_18: 1.0000 - dense_2_acc_19: 0.9667 - dense_2_acc_20: 1.0000 - dense_2_acc_21: 1.0000 - dense_2_acc_22: 0.9833 - dense_2_acc_23: 0.9000 - dense_2_acc_24: 1.0000 - dense_2_acc_25: 0.9000 - dense_2_acc_26: 0.9667 - dense_2_acc_27: 0.9667 - dense_2_acc_28: 0.9667 - dense_2_acc_29: 0.9667 - dense_2_acc_30: 0.0167         \n",
      "Epoch 32/100\n",
      "60/60 [==============================] - 0s - loss: 26.9473 - dense_2_loss_1: 4.0328 - dense_2_loss_2: 2.9000 - dense_2_loss_3: 1.8347 - dense_2_loss_4: 1.3760 - dense_2_loss_5: 1.1238 - dense_2_loss_6: 0.8909 - dense_2_loss_7: 0.8349 - dense_2_loss_8: 0.7197 - dense_2_loss_9: 0.7123 - dense_2_loss_10: 0.6369 - dense_2_loss_11: 0.6702 - dense_2_loss_12: 0.6665 - dense_2_loss_13: 0.5640 - dense_2_loss_14: 0.6019 - dense_2_loss_15: 0.6439 - dense_2_loss_16: 0.6395 - dense_2_loss_17: 0.5682 - dense_2_loss_18: 0.6253 - dense_2_loss_19: 0.6258 - dense_2_loss_20: 0.6256 - dense_2_loss_21: 0.6252 - dense_2_loss_22: 0.6572 - dense_2_loss_23: 0.6215 - dense_2_loss_24: 0.5745 - dense_2_loss_25: 0.6513 - dense_2_loss_26: 0.6279 - dense_2_loss_27: 0.6120 - dense_2_loss_28: 0.6068 - dense_2_loss_29: 0.6778 - dense_2_loss_30: 0.0000e+00 - dense_2_acc_1: 0.0667 - dense_2_acc_2: 0.3833 - dense_2_acc_3: 0.6000 - dense_2_acc_4: 0.5500 - dense_2_acc_5: 0.7167 - dense_2_acc_6: 0.8333 - dense_2_acc_7: 0.9333 - dense_2_acc_8: 0.9167 - dense_2_acc_9: 0.8833 - dense_2_acc_10: 0.9667 - dense_2_acc_11: 0.9167 - dense_2_acc_12: 1.0000 - dense_2_acc_13: 0.9833 - dense_2_acc_14: 0.9833 - dense_2_acc_15: 0.9500 - dense_2_acc_16: 0.9833 - dense_2_acc_17: 0.9833 - dense_2_acc_18: 1.0000 - dense_2_acc_19: 0.9833 - dense_2_acc_20: 1.0000 - dense_2_acc_21: 1.0000 - dense_2_acc_22: 0.9833 - dense_2_acc_23: 0.9500 - dense_2_acc_24: 1.0000 - dense_2_acc_25: 0.9333 - dense_2_acc_26: 0.9833 - dense_2_acc_27: 1.0000 - dense_2_acc_28: 0.9500 - dense_2_acc_29: 0.9500 - dense_2_acc_30: 0.0167     \n",
      "Epoch 33/100\n",
      "60/60 [==============================] - 0s - loss: 25.3321 - dense_2_loss_1: 4.0266 - dense_2_loss_2: 2.8439 - dense_2_loss_3: 1.7622 - dense_2_loss_4: 1.2947 - dense_2_loss_5: 1.0408 - dense_2_loss_6: 0.8358 - dense_2_loss_7: 0.7681 - dense_2_loss_8: 0.6609 - dense_2_loss_9: 0.6389 - dense_2_loss_10: 0.5628 - dense_2_loss_11: 0.6235 - dense_2_loss_12: 0.5998 - dense_2_loss_13: 0.5041 - dense_2_loss_14: 0.5366 - dense_2_loss_15: 0.5816 - dense_2_loss_16: 0.5691 - dense_2_loss_17: 0.5103 - dense_2_loss_18: 0.5721 - dense_2_loss_19: 0.5896 - dense_2_loss_20: 0.5565 - dense_2_loss_21: 0.5794 - dense_2_loss_22: 0.6076 - dense_2_loss_23: 0.5928 - dense_2_loss_24: 0.5195 - dense_2_loss_25: 0.5995 - dense_2_loss_26: 0.5749 - dense_2_loss_27: 0.5701 - dense_2_loss_28: 0.5687 - dense_2_loss_29: 0.6419 - dense_2_loss_30: 0.0000e+00 - dense_2_acc_1: 0.0667 - dense_2_acc_2: 0.3833 - dense_2_acc_3: 0.6000 - dense_2_acc_4: 0.5833 - dense_2_acc_5: 0.7667 - dense_2_acc_6: 0.8333 - dense_2_acc_7: 0.9333 - dense_2_acc_8: 0.9167 - dense_2_acc_9: 0.9000 - dense_2_acc_10: 0.9833 - dense_2_acc_11: 0.9500 - dense_2_acc_12: 1.0000 - dense_2_acc_13: 0.9833 - dense_2_acc_14: 0.9833 - dense_2_acc_15: 1.0000 - dense_2_acc_16: 1.0000 - dense_2_acc_17: 1.0000 - dense_2_acc_18: 1.0000 - dense_2_acc_19: 0.9833 - dense_2_acc_20: 1.0000 - dense_2_acc_21: 1.0000 - dense_2_acc_22: 0.9833 - dense_2_acc_23: 0.9667 - dense_2_acc_24: 0.9833 - dense_2_acc_25: 0.9167 - dense_2_acc_26: 0.9833 - dense_2_acc_27: 0.9833 - dense_2_acc_28: 0.9500 - dense_2_acc_29: 0.9333 - dense_2_acc_30: 0.0167         \n",
      "Epoch 34/100\n",
      "60/60 [==============================] - 0s - loss: 23.8167 - dense_2_loss_1: 4.0197 - dense_2_loss_2: 2.7937 - dense_2_loss_3: 1.6912 - dense_2_loss_4: 1.2191 - dense_2_loss_5: 0.9685 - dense_2_loss_6: 0.7799 - dense_2_loss_7: 0.7069 - dense_2_loss_8: 0.6087 - dense_2_loss_9: 0.5896 - dense_2_loss_10: 0.5190 - dense_2_loss_11: 0.5623 - dense_2_loss_12: 0.5572 - dense_2_loss_13: 0.4675 - dense_2_loss_14: 0.4910 - dense_2_loss_15: 0.5269 - dense_2_loss_16: 0.5355 - dense_2_loss_17: 0.4530 - dense_2_loss_18: 0.5202 - dense_2_loss_19: 0.5262 - dense_2_loss_20: 0.5347 - dense_2_loss_21: 0.5319 - dense_2_loss_22: 0.5419 - dense_2_loss_23: 0.5200 - dense_2_loss_24: 0.4811 - dense_2_loss_25: 0.5391 - dense_2_loss_26: 0.5149 - dense_2_loss_27: 0.5152 - dense_2_loss_28: 0.5069 - dense_2_loss_29: 0.5948 - dense_2_loss_30: 0.0000e+00 - dense_2_acc_1: 0.0667 - dense_2_acc_2: 0.3833 - dense_2_acc_3: 0.6000 - dense_2_acc_4: 0.6167 - dense_2_acc_5: 0.7833 - dense_2_acc_6: 0.9167 - dense_2_acc_7: 0.9667 - dense_2_acc_8: 0.9000 - dense_2_acc_9: 0.9167 - dense_2_acc_10: 1.0000 - dense_2_acc_11: 1.0000 - dense_2_acc_12: 0.9833 - dense_2_acc_13: 1.0000 - dense_2_acc_14: 0.9833 - dense_2_acc_15: 0.9833 - dense_2_acc_16: 0.9833 - dense_2_acc_17: 1.0000 - dense_2_acc_18: 1.0000 - dense_2_acc_19: 1.0000 - dense_2_acc_20: 1.0000 - dense_2_acc_21: 1.0000 - dense_2_acc_22: 1.0000 - dense_2_acc_23: 0.9833 - dense_2_acc_24: 1.0000 - dense_2_acc_25: 1.0000 - dense_2_acc_26: 0.9833 - dense_2_acc_27: 1.0000 - dense_2_acc_28: 0.9833 - dense_2_acc_29: 0.9667 - dense_2_acc_30: 0.0167         \n",
      "Epoch 35/100\n",
      "60/60 [==============================] - 0s - loss: 22.4683 - dense_2_loss_1: 4.0137 - dense_2_loss_2: 2.7399 - dense_2_loss_3: 1.6203 - dense_2_loss_4: 1.1403 - dense_2_loss_5: 0.9023 - dense_2_loss_6: 0.7182 - dense_2_loss_7: 0.6568 - dense_2_loss_8: 0.5732 - dense_2_loss_9: 0.5328 - dense_2_loss_10: 0.4694 - dense_2_loss_11: 0.5274 - dense_2_loss_12: 0.5088 - dense_2_loss_13: 0.4230 - dense_2_loss_14: 0.4519 - dense_2_loss_15: 0.4929 - dense_2_loss_16: 0.4950 - dense_2_loss_17: 0.4239 - dense_2_loss_18: 0.4650 - dense_2_loss_19: 0.4834 - dense_2_loss_20: 0.4920 - dense_2_loss_21: 0.4932 - dense_2_loss_22: 0.4819 - dense_2_loss_23: 0.4767 - dense_2_loss_24: 0.4321 - dense_2_loss_25: 0.4987 - dense_2_loss_26: 0.4609 - dense_2_loss_27: 0.4699 - dense_2_loss_28: 0.4763 - dense_2_loss_29: 0.5485 - dense_2_loss_30: 0.0000e+00 - dense_2_acc_1: 0.1000 - dense_2_acc_2: 0.4000 - dense_2_acc_3: 0.6500 - dense_2_acc_4: 0.6500 - dense_2_acc_5: 0.8000 - dense_2_acc_6: 0.9000 - dense_2_acc_7: 0.9833 - dense_2_acc_8: 0.9000 - dense_2_acc_9: 0.9500 - dense_2_acc_10: 1.0000 - dense_2_acc_11: 1.0000 - dense_2_acc_12: 1.0000 - dense_2_acc_13: 1.0000 - dense_2_acc_14: 0.9833 - dense_2_acc_15: 1.0000 - dense_2_acc_16: 1.0000 - dense_2_acc_17: 1.0000 - dense_2_acc_18: 1.0000 - dense_2_acc_19: 1.0000 - dense_2_acc_20: 1.0000 - dense_2_acc_21: 1.0000 - dense_2_acc_22: 1.0000 - dense_2_acc_23: 1.0000 - dense_2_acc_24: 1.0000 - dense_2_acc_25: 1.0000 - dense_2_acc_26: 0.9833 - dense_2_acc_27: 1.0000 - dense_2_acc_28: 0.9833 - dense_2_acc_29: 0.9667 - dense_2_acc_30: 0.0167     \n",
      "Epoch 36/100\n",
      "60/60 [==============================] - 0s - loss: 21.1325 - dense_2_loss_1: 4.0082 - dense_2_loss_2: 2.6885 - dense_2_loss_3: 1.5580 - dense_2_loss_4: 1.0631 - dense_2_loss_5: 0.8351 - dense_2_loss_6: 0.6575 - dense_2_loss_7: 0.6172 - dense_2_loss_8: 0.5140 - dense_2_loss_9: 0.4853 - dense_2_loss_10: 0.4210 - dense_2_loss_11: 0.4755 - dense_2_loss_12: 0.4637 - dense_2_loss_13: 0.3851 - dense_2_loss_14: 0.4008 - dense_2_loss_15: 0.4567 - dense_2_loss_16: 0.4394 - dense_2_loss_17: 0.3870 - dense_2_loss_18: 0.4262 - dense_2_loss_19: 0.4446 - dense_2_loss_20: 0.4295 - dense_2_loss_21: 0.4403 - dense_2_loss_22: 0.4533 - dense_2_loss_23: 0.4362 - dense_2_loss_24: 0.3978 - dense_2_loss_25: 0.4471 - dense_2_loss_26: 0.4262 - dense_2_loss_27: 0.4256 - dense_2_loss_28: 0.4304 - dense_2_loss_29: 0.5193 - dense_2_loss_30: 0.0000e+00 - dense_2_acc_1: 0.1000 - dense_2_acc_2: 0.4167 - dense_2_acc_3: 0.6667 - dense_2_acc_4: 0.7667 - dense_2_acc_5: 0.8167 - dense_2_acc_6: 0.9333 - dense_2_acc_7: 0.9833 - dense_2_acc_8: 0.9333 - dense_2_acc_9: 0.9333 - dense_2_acc_10: 1.0000 - dense_2_acc_11: 1.0000 - dense_2_acc_12: 1.0000 - dense_2_acc_13: 1.0000 - dense_2_acc_14: 0.9833 - dense_2_acc_15: 1.0000 - dense_2_acc_16: 1.0000 - dense_2_acc_17: 1.0000 - dense_2_acc_18: 1.0000 - dense_2_acc_19: 1.0000 - dense_2_acc_20: 1.0000 - dense_2_acc_21: 1.0000 - dense_2_acc_22: 1.0000 - dense_2_acc_23: 1.0000 - dense_2_acc_24: 1.0000 - dense_2_acc_25: 1.0000 - dense_2_acc_26: 0.9833 - dense_2_acc_27: 1.0000 - dense_2_acc_28: 0.9833 - dense_2_acc_29: 0.9667 - dense_2_acc_30: 0.0167         \n",
      "Epoch 37/100\n",
      "60/60 [==============================] - 0s - loss: 19.9828 - dense_2_loss_1: 4.0019 - dense_2_loss_2: 2.6367 - dense_2_loss_3: 1.4969 - dense_2_loss_4: 0.9954 - dense_2_loss_5: 0.7754 - dense_2_loss_6: 0.6098 - dense_2_loss_7: 0.5712 - dense_2_loss_8: 0.4726 - dense_2_loss_9: 0.4471 - dense_2_loss_10: 0.3865 - dense_2_loss_11: 0.4291 - dense_2_loss_12: 0.4252 - dense_2_loss_13: 0.3612 - dense_2_loss_14: 0.3659 - dense_2_loss_15: 0.4061 - dense_2_loss_16: 0.4014 - dense_2_loss_17: 0.3553 - dense_2_loss_18: 0.3965 - dense_2_loss_19: 0.4092 - dense_2_loss_20: 0.3976 - dense_2_loss_21: 0.3989 - dense_2_loss_22: 0.4169 - dense_2_loss_23: 0.3953 - dense_2_loss_24: 0.3638 - dense_2_loss_25: 0.4031 - dense_2_loss_26: 0.3920 - dense_2_loss_27: 0.4018 - dense_2_loss_28: 0.3929 - dense_2_loss_29: 0.4772 - dense_2_loss_30: 0.0000e+00 - dense_2_acc_1: 0.1000 - dense_2_acc_2: 0.4167 - dense_2_acc_3: 0.6667 - dense_2_acc_4: 0.8333 - dense_2_acc_5: 0.8333 - dense_2_acc_6: 0.9167 - dense_2_acc_7: 0.9833 - dense_2_acc_8: 0.9333 - dense_2_acc_9: 0.9333 - dense_2_acc_10: 1.0000 - dense_2_acc_11: 1.0000 - dense_2_acc_12: 1.0000 - dense_2_acc_13: 1.0000 - dense_2_acc_14: 0.9833 - dense_2_acc_15: 1.0000 - dense_2_acc_16: 1.0000 - dense_2_acc_17: 1.0000 - dense_2_acc_18: 1.0000 - dense_2_acc_19: 1.0000 - dense_2_acc_20: 1.0000 - dense_2_acc_21: 1.0000 - dense_2_acc_22: 1.0000 - dense_2_acc_23: 1.0000 - dense_2_acc_24: 1.0000 - dense_2_acc_25: 1.0000 - dense_2_acc_26: 0.9833 - dense_2_acc_27: 1.0000 - dense_2_acc_28: 0.9833 - dense_2_acc_29: 0.9667 - dense_2_acc_30: 0.0167         \n",
      "Epoch 38/100\n",
      "60/60 [==============================] - 0s - loss: 18.8972 - dense_2_loss_1: 3.9962 - dense_2_loss_2: 2.5860 - dense_2_loss_3: 1.4361 - dense_2_loss_4: 0.9288 - dense_2_loss_5: 0.7183 - dense_2_loss_6: 0.5561 - dense_2_loss_7: 0.5281 - dense_2_loss_8: 0.4453 - dense_2_loss_9: 0.3937 - dense_2_loss_10: 0.3538 - dense_2_loss_11: 0.3996 - dense_2_loss_12: 0.3893 - dense_2_loss_13: 0.3255 - dense_2_loss_14: 0.3415 - dense_2_loss_15: 0.3814 - dense_2_loss_16: 0.3676 - dense_2_loss_17: 0.3358 - dense_2_loss_18: 0.3518 - dense_2_loss_19: 0.3703 - dense_2_loss_20: 0.3686 - dense_2_loss_21: 0.3683 - dense_2_loss_22: 0.3778 - dense_2_loss_23: 0.3599 - dense_2_loss_24: 0.3239 - dense_2_loss_25: 0.3734 - dense_2_loss_26: 0.3512 - dense_2_loss_27: 0.3690 - dense_2_loss_28: 0.3658 - dense_2_loss_29: 0.4342 - dense_2_loss_30: 0.0000e+00 - dense_2_acc_1: 0.1000 - dense_2_acc_2: 0.4167 - dense_2_acc_3: 0.6667 - dense_2_acc_4: 0.8667 - dense_2_acc_5: 0.8667 - dense_2_acc_6: 0.9333 - dense_2_acc_7: 0.9833 - dense_2_acc_8: 0.9500 - dense_2_acc_9: 1.0000 - dense_2_acc_10: 1.0000 - dense_2_acc_11: 1.0000 - dense_2_acc_12: 1.0000 - dense_2_acc_13: 1.0000 - dense_2_acc_14: 1.0000 - dense_2_acc_15: 1.0000 - dense_2_acc_16: 1.0000 - dense_2_acc_17: 1.0000 - dense_2_acc_18: 1.0000 - dense_2_acc_19: 1.0000 - dense_2_acc_20: 1.0000 - dense_2_acc_21: 1.0000 - dense_2_acc_22: 1.0000 - dense_2_acc_23: 1.0000 - dense_2_acc_24: 1.0000 - dense_2_acc_25: 1.0000 - dense_2_acc_26: 0.9833 - dense_2_acc_27: 1.0000 - dense_2_acc_28: 0.9833 - dense_2_acc_29: 0.9667 - dense_2_acc_30: 0.0167     \n",
      "Epoch 39/100\n",
      "60/60 [==============================] - 0s - loss: 17.8666 - dense_2_loss_1: 3.9910 - dense_2_loss_2: 2.5346 - dense_2_loss_3: 1.3789 - dense_2_loss_4: 0.8695 - dense_2_loss_5: 0.6635 - dense_2_loss_6: 0.5118 - dense_2_loss_7: 0.4947 - dense_2_loss_8: 0.4043 - dense_2_loss_9: 0.3631 - dense_2_loss_10: 0.3269 - dense_2_loss_11: 0.3616 - dense_2_loss_12: 0.3534 - dense_2_loss_13: 0.2949 - dense_2_loss_14: 0.3100 - dense_2_loss_15: 0.3426 - dense_2_loss_16: 0.3372 - dense_2_loss_17: 0.2974 - dense_2_loss_18: 0.3266 - dense_2_loss_19: 0.3367 - dense_2_loss_20: 0.3375 - dense_2_loss_21: 0.3301 - dense_2_loss_22: 0.3482 - dense_2_loss_23: 0.3241 - dense_2_loss_24: 0.2925 - dense_2_loss_25: 0.3421 - dense_2_loss_26: 0.3224 - dense_2_loss_27: 0.3347 - dense_2_loss_28: 0.3283 - dense_2_loss_29: 0.4081 - dense_2_loss_30: 0.0000e+00 - dense_2_acc_1: 0.1000 - dense_2_acc_2: 0.4167 - dense_2_acc_3: 0.6667 - dense_2_acc_4: 0.8833 - dense_2_acc_5: 0.9000 - dense_2_acc_6: 0.9500 - dense_2_acc_7: 0.9833 - dense_2_acc_8: 0.9500 - dense_2_acc_9: 1.0000 - dense_2_acc_10: 1.0000 - dense_2_acc_11: 1.0000 - dense_2_acc_12: 1.0000 - dense_2_acc_13: 1.0000 - dense_2_acc_14: 1.0000 - dense_2_acc_15: 1.0000 - dense_2_acc_16: 1.0000 - dense_2_acc_17: 1.0000 - dense_2_acc_18: 1.0000 - dense_2_acc_19: 1.0000 - dense_2_acc_20: 1.0000 - dense_2_acc_21: 1.0000 - dense_2_acc_22: 1.0000 - dense_2_acc_23: 1.0000 - dense_2_acc_24: 1.0000 - dense_2_acc_25: 1.0000 - dense_2_acc_26: 0.9833 - dense_2_acc_27: 1.0000 - dense_2_acc_28: 0.9833 - dense_2_acc_29: 0.9667 - dense_2_acc_30: 0.0167         \n",
      "Epoch 40/100\n",
      "60/60 [==============================] - 0s - loss: 16.9596 - dense_2_loss_1: 3.9854 - dense_2_loss_2: 2.4865 - dense_2_loss_3: 1.3272 - dense_2_loss_4: 0.8125 - dense_2_loss_5: 0.6125 - dense_2_loss_6: 0.4722 - dense_2_loss_7: 0.4558 - dense_2_loss_8: 0.3725 - dense_2_loss_9: 0.3322 - dense_2_loss_10: 0.2950 - dense_2_loss_11: 0.3320 - dense_2_loss_12: 0.3208 - dense_2_loss_13: 0.2686 - dense_2_loss_14: 0.2820 - dense_2_loss_15: 0.3082 - dense_2_loss_16: 0.3084 - dense_2_loss_17: 0.2690 - dense_2_loss_18: 0.3028 - dense_2_loss_19: 0.3114 - dense_2_loss_20: 0.3034 - dense_2_loss_21: 0.3109 - dense_2_loss_22: 0.3107 - dense_2_loss_23: 0.3053 - dense_2_loss_24: 0.2669 - dense_2_loss_25: 0.3181 - dense_2_loss_26: 0.2956 - dense_2_loss_27: 0.3093 - dense_2_loss_28: 0.3065 - dense_2_loss_29: 0.3777 - dense_2_loss_30: 0.0000e+00 - dense_2_acc_1: 0.1000 - dense_2_acc_2: 0.4167 - dense_2_acc_3: 0.6667 - dense_2_acc_4: 0.8833 - dense_2_acc_5: 0.9000 - dense_2_acc_6: 0.9667 - dense_2_acc_7: 0.9833 - dense_2_acc_8: 0.9500 - dense_2_acc_9: 1.0000 - dense_2_acc_10: 1.0000 - dense_2_acc_11: 1.0000 - dense_2_acc_12: 1.0000 - dense_2_acc_13: 1.0000 - dense_2_acc_14: 1.0000 - dense_2_acc_15: 1.0000 - dense_2_acc_16: 1.0000 - dense_2_acc_17: 1.0000 - dense_2_acc_18: 1.0000 - dense_2_acc_19: 1.0000 - dense_2_acc_20: 1.0000 - dense_2_acc_21: 1.0000 - dense_2_acc_22: 1.0000 - dense_2_acc_23: 1.0000 - dense_2_acc_24: 1.0000 - dense_2_acc_25: 1.0000 - dense_2_acc_26: 0.9833 - dense_2_acc_27: 1.0000 - dense_2_acc_28: 0.9833 - dense_2_acc_29: 0.9667 - dense_2_acc_30: 0.0167     \n",
      "Epoch 41/100\n"
     ]
    },
    {
     "name": "stdout",
     "output_type": "stream",
     "text": [
      "60/60 [==============================] - 0s - loss: 16.1252 - dense_2_loss_1: 3.9803 - dense_2_loss_2: 2.4378 - dense_2_loss_3: 1.2728 - dense_2_loss_4: 0.7598 - dense_2_loss_5: 0.5683 - dense_2_loss_6: 0.4347 - dense_2_loss_7: 0.4260 - dense_2_loss_8: 0.3473 - dense_2_loss_9: 0.3001 - dense_2_loss_10: 0.2739 - dense_2_loss_11: 0.3055 - dense_2_loss_12: 0.2932 - dense_2_loss_13: 0.2459 - dense_2_loss_14: 0.2630 - dense_2_loss_15: 0.2794 - dense_2_loss_16: 0.2812 - dense_2_loss_17: 0.2479 - dense_2_loss_18: 0.2753 - dense_2_loss_19: 0.2816 - dense_2_loss_20: 0.2818 - dense_2_loss_21: 0.2886 - dense_2_loss_22: 0.2845 - dense_2_loss_23: 0.2749 - dense_2_loss_24: 0.2443 - dense_2_loss_25: 0.2886 - dense_2_loss_26: 0.2678 - dense_2_loss_27: 0.2835 - dense_2_loss_28: 0.2875 - dense_2_loss_29: 0.3496 - dense_2_loss_30: 0.0000e+00 - dense_2_acc_1: 0.1000 - dense_2_acc_2: 0.4167 - dense_2_acc_3: 0.6667 - dense_2_acc_4: 0.9167 - dense_2_acc_5: 0.9500 - dense_2_acc_6: 0.9667 - dense_2_acc_7: 0.9833 - dense_2_acc_8: 0.9667 - dense_2_acc_9: 1.0000 - dense_2_acc_10: 1.0000 - dense_2_acc_11: 1.0000 - dense_2_acc_12: 1.0000 - dense_2_acc_13: 1.0000 - dense_2_acc_14: 1.0000 - dense_2_acc_15: 1.0000 - dense_2_acc_16: 1.0000 - dense_2_acc_17: 1.0000 - dense_2_acc_18: 1.0000 - dense_2_acc_19: 1.0000 - dense_2_acc_20: 1.0000 - dense_2_acc_21: 1.0000 - dense_2_acc_22: 1.0000 - dense_2_acc_23: 1.0000 - dense_2_acc_24: 1.0000 - dense_2_acc_25: 1.0000 - dense_2_acc_26: 1.0000 - dense_2_acc_27: 1.0000 - dense_2_acc_28: 0.9833 - dense_2_acc_29: 0.9667 - dense_2_acc_30: 0.0167     \n",
      "Epoch 42/100\n",
      "60/60 [==============================] - 0s - loss: 15.3730 - dense_2_loss_1: 3.9749 - dense_2_loss_2: 2.3946 - dense_2_loss_3: 1.2218 - dense_2_loss_4: 0.7123 - dense_2_loss_5: 0.5284 - dense_2_loss_6: 0.4034 - dense_2_loss_7: 0.3995 - dense_2_loss_8: 0.3207 - dense_2_loss_9: 0.2800 - dense_2_loss_10: 0.2561 - dense_2_loss_11: 0.2788 - dense_2_loss_12: 0.2743 - dense_2_loss_13: 0.2309 - dense_2_loss_14: 0.2419 - dense_2_loss_15: 0.2584 - dense_2_loss_16: 0.2603 - dense_2_loss_17: 0.2307 - dense_2_loss_18: 0.2489 - dense_2_loss_19: 0.2569 - dense_2_loss_20: 0.2583 - dense_2_loss_21: 0.2597 - dense_2_loss_22: 0.2725 - dense_2_loss_23: 0.2413 - dense_2_loss_24: 0.2244 - dense_2_loss_25: 0.2647 - dense_2_loss_26: 0.2322 - dense_2_loss_27: 0.2572 - dense_2_loss_28: 0.2610 - dense_2_loss_29: 0.3290 - dense_2_loss_30: 0.0000e+00 - dense_2_acc_1: 0.1000 - dense_2_acc_2: 0.4167 - dense_2_acc_3: 0.6667 - dense_2_acc_4: 0.9167 - dense_2_acc_5: 0.9500 - dense_2_acc_6: 0.9833 - dense_2_acc_7: 0.9833 - dense_2_acc_8: 0.9667 - dense_2_acc_9: 1.0000 - dense_2_acc_10: 1.0000 - dense_2_acc_11: 1.0000 - dense_2_acc_12: 1.0000 - dense_2_acc_13: 1.0000 - dense_2_acc_14: 1.0000 - dense_2_acc_15: 1.0000 - dense_2_acc_16: 1.0000 - dense_2_acc_17: 1.0000 - dense_2_acc_18: 1.0000 - dense_2_acc_19: 1.0000 - dense_2_acc_20: 1.0000 - dense_2_acc_21: 1.0000 - dense_2_acc_22: 1.0000 - dense_2_acc_23: 1.0000 - dense_2_acc_24: 1.0000 - dense_2_acc_25: 1.0000 - dense_2_acc_26: 1.0000 - dense_2_acc_27: 1.0000 - dense_2_acc_28: 0.9833 - dense_2_acc_29: 0.9833 - dense_2_acc_30: 0.0167     \n",
      "Epoch 43/100\n",
      "60/60 [==============================] - 0s - loss: 14.6741 - dense_2_loss_1: 3.9702 - dense_2_loss_2: 2.3474 - dense_2_loss_3: 1.1736 - dense_2_loss_4: 0.6671 - dense_2_loss_5: 0.4927 - dense_2_loss_6: 0.3769 - dense_2_loss_7: 0.3696 - dense_2_loss_8: 0.2927 - dense_2_loss_9: 0.2551 - dense_2_loss_10: 0.2365 - dense_2_loss_11: 0.2497 - dense_2_loss_12: 0.2542 - dense_2_loss_13: 0.2123 - dense_2_loss_14: 0.2237 - dense_2_loss_15: 0.2372 - dense_2_loss_16: 0.2353 - dense_2_loss_17: 0.2114 - dense_2_loss_18: 0.2312 - dense_2_loss_19: 0.2364 - dense_2_loss_20: 0.2348 - dense_2_loss_21: 0.2375 - dense_2_loss_22: 0.2458 - dense_2_loss_23: 0.2276 - dense_2_loss_24: 0.2127 - dense_2_loss_25: 0.2411 - dense_2_loss_26: 0.2116 - dense_2_loss_27: 0.2401 - dense_2_loss_28: 0.2464 - dense_2_loss_29: 0.3033 - dense_2_loss_30: 0.0000e+00 - dense_2_acc_1: 0.1000 - dense_2_acc_2: 0.4167 - dense_2_acc_3: 0.6833 - dense_2_acc_4: 0.9167 - dense_2_acc_5: 0.9667 - dense_2_acc_6: 0.9667 - dense_2_acc_7: 0.9833 - dense_2_acc_8: 0.9667 - dense_2_acc_9: 1.0000 - dense_2_acc_10: 1.0000 - dense_2_acc_11: 1.0000 - dense_2_acc_12: 1.0000 - dense_2_acc_13: 1.0000 - dense_2_acc_14: 1.0000 - dense_2_acc_15: 1.0000 - dense_2_acc_16: 1.0000 - dense_2_acc_17: 1.0000 - dense_2_acc_18: 1.0000 - dense_2_acc_19: 1.0000 - dense_2_acc_20: 1.0000 - dense_2_acc_21: 1.0000 - dense_2_acc_22: 1.0000 - dense_2_acc_23: 1.0000 - dense_2_acc_24: 1.0000 - dense_2_acc_25: 1.0000 - dense_2_acc_26: 1.0000 - dense_2_acc_27: 1.0000 - dense_2_acc_28: 0.9833 - dense_2_acc_29: 0.9833 - dense_2_acc_30: 0.0167     \n",
      "Epoch 44/100\n",
      "60/60 [==============================] - 0s - loss: 14.0349 - dense_2_loss_1: 3.9650 - dense_2_loss_2: 2.3046 - dense_2_loss_3: 1.1314 - dense_2_loss_4: 0.6251 - dense_2_loss_5: 0.4598 - dense_2_loss_6: 0.3489 - dense_2_loss_7: 0.3429 - dense_2_loss_8: 0.2699 - dense_2_loss_9: 0.2346 - dense_2_loss_10: 0.2130 - dense_2_loss_11: 0.2307 - dense_2_loss_12: 0.2287 - dense_2_loss_13: 0.1964 - dense_2_loss_14: 0.2037 - dense_2_loss_15: 0.2187 - dense_2_loss_16: 0.2131 - dense_2_loss_17: 0.1949 - dense_2_loss_18: 0.2155 - dense_2_loss_19: 0.2182 - dense_2_loss_20: 0.2153 - dense_2_loss_21: 0.2201 - dense_2_loss_22: 0.2239 - dense_2_loss_23: 0.2128 - dense_2_loss_24: 0.1948 - dense_2_loss_25: 0.2210 - dense_2_loss_26: 0.2001 - dense_2_loss_27: 0.2211 - dense_2_loss_28: 0.2297 - dense_2_loss_29: 0.2809 - dense_2_loss_30: 0.0000e+00 - dense_2_acc_1: 0.1000 - dense_2_acc_2: 0.4333 - dense_2_acc_3: 0.6833 - dense_2_acc_4: 0.9333 - dense_2_acc_5: 0.9667 - dense_2_acc_6: 0.9833 - dense_2_acc_7: 0.9833 - dense_2_acc_8: 0.9667 - dense_2_acc_9: 1.0000 - dense_2_acc_10: 1.0000 - dense_2_acc_11: 1.0000 - dense_2_acc_12: 1.0000 - dense_2_acc_13: 1.0000 - dense_2_acc_14: 1.0000 - dense_2_acc_15: 1.0000 - dense_2_acc_16: 1.0000 - dense_2_acc_17: 1.0000 - dense_2_acc_18: 1.0000 - dense_2_acc_19: 1.0000 - dense_2_acc_20: 1.0000 - dense_2_acc_21: 1.0000 - dense_2_acc_22: 1.0000 - dense_2_acc_23: 1.0000 - dense_2_acc_24: 1.0000 - dense_2_acc_25: 1.0000 - dense_2_acc_26: 1.0000 - dense_2_acc_27: 1.0000 - dense_2_acc_28: 1.0000 - dense_2_acc_29: 0.9833 - dense_2_acc_30: 0.0167         \n",
      "Epoch 45/100\n",
      "60/60 [==============================] - 0s - loss: 13.4415 - dense_2_loss_1: 3.9608 - dense_2_loss_2: 2.2616 - dense_2_loss_3: 1.0880 - dense_2_loss_4: 0.5869 - dense_2_loss_5: 0.4301 - dense_2_loss_6: 0.3233 - dense_2_loss_7: 0.3222 - dense_2_loss_8: 0.2513 - dense_2_loss_9: 0.2179 - dense_2_loss_10: 0.1970 - dense_2_loss_11: 0.2144 - dense_2_loss_12: 0.2107 - dense_2_loss_13: 0.1793 - dense_2_loss_14: 0.1891 - dense_2_loss_15: 0.2013 - dense_2_loss_16: 0.1981 - dense_2_loss_17: 0.1792 - dense_2_loss_18: 0.1960 - dense_2_loss_19: 0.1969 - dense_2_loss_20: 0.1996 - dense_2_loss_21: 0.2015 - dense_2_loss_22: 0.2098 - dense_2_loss_23: 0.1910 - dense_2_loss_24: 0.1729 - dense_2_loss_25: 0.2028 - dense_2_loss_26: 0.1869 - dense_2_loss_27: 0.2028 - dense_2_loss_28: 0.2070 - dense_2_loss_29: 0.2631 - dense_2_loss_30: 0.0000e+00 - dense_2_acc_1: 0.1000 - dense_2_acc_2: 0.4333 - dense_2_acc_3: 0.6833 - dense_2_acc_4: 0.9500 - dense_2_acc_5: 0.9667 - dense_2_acc_6: 0.9833 - dense_2_acc_7: 0.9833 - dense_2_acc_8: 0.9667 - dense_2_acc_9: 1.0000 - dense_2_acc_10: 1.0000 - dense_2_acc_11: 1.0000 - dense_2_acc_12: 1.0000 - dense_2_acc_13: 1.0000 - dense_2_acc_14: 1.0000 - dense_2_acc_15: 1.0000 - dense_2_acc_16: 1.0000 - dense_2_acc_17: 1.0000 - dense_2_acc_18: 1.0000 - dense_2_acc_19: 1.0000 - dense_2_acc_20: 1.0000 - dense_2_acc_21: 1.0000 - dense_2_acc_22: 1.0000 - dense_2_acc_23: 1.0000 - dense_2_acc_24: 1.0000 - dense_2_acc_25: 1.0000 - dense_2_acc_26: 1.0000 - dense_2_acc_27: 1.0000 - dense_2_acc_28: 1.0000 - dense_2_acc_29: 0.9833 - dense_2_acc_30: 0.0167     \n",
      "Epoch 46/100\n",
      "60/60 [==============================] - 0s - loss: 12.9096 - dense_2_loss_1: 3.9554 - dense_2_loss_2: 2.2203 - dense_2_loss_3: 1.0501 - dense_2_loss_4: 0.5515 - dense_2_loss_5: 0.4031 - dense_2_loss_6: 0.2993 - dense_2_loss_7: 0.3027 - dense_2_loss_8: 0.2332 - dense_2_loss_9: 0.2023 - dense_2_loss_10: 0.1826 - dense_2_loss_11: 0.1977 - dense_2_loss_12: 0.1951 - dense_2_loss_13: 0.1666 - dense_2_loss_14: 0.1731 - dense_2_loss_15: 0.1854 - dense_2_loss_16: 0.1835 - dense_2_loss_17: 0.1648 - dense_2_loss_18: 0.1809 - dense_2_loss_19: 0.1803 - dense_2_loss_20: 0.1857 - dense_2_loss_21: 0.1871 - dense_2_loss_22: 0.1934 - dense_2_loss_23: 0.1753 - dense_2_loss_24: 0.1570 - dense_2_loss_25: 0.1913 - dense_2_loss_26: 0.1701 - dense_2_loss_27: 0.1866 - dense_2_loss_28: 0.1895 - dense_2_loss_29: 0.2456 - dense_2_loss_30: 0.0000e+00 - dense_2_acc_1: 0.1000 - dense_2_acc_2: 0.4333 - dense_2_acc_3: 0.7167 - dense_2_acc_4: 0.9500 - dense_2_acc_5: 0.9833 - dense_2_acc_6: 0.9833 - dense_2_acc_7: 0.9833 - dense_2_acc_8: 0.9667 - dense_2_acc_9: 1.0000 - dense_2_acc_10: 1.0000 - dense_2_acc_11: 1.0000 - dense_2_acc_12: 1.0000 - dense_2_acc_13: 1.0000 - dense_2_acc_14: 1.0000 - dense_2_acc_15: 1.0000 - dense_2_acc_16: 1.0000 - dense_2_acc_17: 1.0000 - dense_2_acc_18: 1.0000 - dense_2_acc_19: 1.0000 - dense_2_acc_20: 1.0000 - dense_2_acc_21: 1.0000 - dense_2_acc_22: 1.0000 - dense_2_acc_23: 1.0000 - dense_2_acc_24: 1.0000 - dense_2_acc_25: 1.0000 - dense_2_acc_26: 1.0000 - dense_2_acc_27: 1.0000 - dense_2_acc_28: 1.0000 - dense_2_acc_29: 0.9833 - dense_2_acc_30: 0.0167         \n",
      "Epoch 47/100\n",
      "60/60 [==============================] - 0s - loss: 12.4274 - dense_2_loss_1: 3.9508 - dense_2_loss_2: 2.1801 - dense_2_loss_3: 1.0145 - dense_2_loss_4: 0.5192 - dense_2_loss_5: 0.3760 - dense_2_loss_6: 0.2786 - dense_2_loss_7: 0.2814 - dense_2_loss_8: 0.2151 - dense_2_loss_9: 0.1844 - dense_2_loss_10: 0.1705 - dense_2_loss_11: 0.1798 - dense_2_loss_12: 0.1825 - dense_2_loss_13: 0.1553 - dense_2_loss_14: 0.1603 - dense_2_loss_15: 0.1715 - dense_2_loss_16: 0.1681 - dense_2_loss_17: 0.1525 - dense_2_loss_18: 0.1692 - dense_2_loss_19: 0.1666 - dense_2_loss_20: 0.1747 - dense_2_loss_21: 0.1754 - dense_2_loss_22: 0.1731 - dense_2_loss_23: 0.1648 - dense_2_loss_24: 0.1498 - dense_2_loss_25: 0.1784 - dense_2_loss_26: 0.1539 - dense_2_loss_27: 0.1737 - dense_2_loss_28: 0.1800 - dense_2_loss_29: 0.2271 - dense_2_loss_30: 0.0000e+00 - dense_2_acc_1: 0.1000 - dense_2_acc_2: 0.4333 - dense_2_acc_3: 0.7333 - dense_2_acc_4: 0.9500 - dense_2_acc_5: 0.9833 - dense_2_acc_6: 0.9833 - dense_2_acc_7: 0.9833 - dense_2_acc_8: 0.9833 - dense_2_acc_9: 1.0000 - dense_2_acc_10: 1.0000 - dense_2_acc_11: 1.0000 - dense_2_acc_12: 1.0000 - dense_2_acc_13: 1.0000 - dense_2_acc_14: 1.0000 - dense_2_acc_15: 1.0000 - dense_2_acc_16: 1.0000 - dense_2_acc_17: 1.0000 - dense_2_acc_18: 1.0000 - dense_2_acc_19: 1.0000 - dense_2_acc_20: 1.0000 - dense_2_acc_21: 1.0000 - dense_2_acc_22: 1.0000 - dense_2_acc_23: 1.0000 - dense_2_acc_24: 1.0000 - dense_2_acc_25: 1.0000 - dense_2_acc_26: 1.0000 - dense_2_acc_27: 1.0000 - dense_2_acc_28: 1.0000 - dense_2_acc_29: 0.9833 - dense_2_acc_30: 0.0167     \n",
      "Epoch 48/100\n",
      "60/60 [==============================] - 0s - loss: 11.9717 - dense_2_loss_1: 3.9465 - dense_2_loss_2: 2.1403 - dense_2_loss_3: 0.9811 - dense_2_loss_4: 0.4883 - dense_2_loss_5: 0.3537 - dense_2_loss_6: 0.2621 - dense_2_loss_7: 0.2630 - dense_2_loss_8: 0.1967 - dense_2_loss_9: 0.1712 - dense_2_loss_10: 0.1554 - dense_2_loss_11: 0.1670 - dense_2_loss_12: 0.1705 - dense_2_loss_13: 0.1433 - dense_2_loss_14: 0.1481 - dense_2_loss_15: 0.1576 - dense_2_loss_16: 0.1567 - dense_2_loss_17: 0.1405 - dense_2_loss_18: 0.1568 - dense_2_loss_19: 0.1542 - dense_2_loss_20: 0.1590 - dense_2_loss_21: 0.1605 - dense_2_loss_22: 0.1643 - dense_2_loss_23: 0.1505 - dense_2_loss_24: 0.1396 - dense_2_loss_25: 0.1668 - dense_2_loss_26: 0.1418 - dense_2_loss_27: 0.1581 - dense_2_loss_28: 0.1641 - dense_2_loss_29: 0.2138 - dense_2_loss_30: 0.0000e+00 - dense_2_acc_1: 0.1000 - dense_2_acc_2: 0.4333 - dense_2_acc_3: 0.7333 - dense_2_acc_4: 0.9667 - dense_2_acc_5: 0.9833 - dense_2_acc_6: 0.9833 - dense_2_acc_7: 0.9833 - dense_2_acc_8: 1.0000 - dense_2_acc_9: 1.0000 - dense_2_acc_10: 1.0000 - dense_2_acc_11: 1.0000 - dense_2_acc_12: 1.0000 - dense_2_acc_13: 1.0000 - dense_2_acc_14: 1.0000 - dense_2_acc_15: 1.0000 - dense_2_acc_16: 1.0000 - dense_2_acc_17: 1.0000 - dense_2_acc_18: 1.0000 - dense_2_acc_19: 1.0000 - dense_2_acc_20: 1.0000 - dense_2_acc_21: 1.0000 - dense_2_acc_22: 1.0000 - dense_2_acc_23: 1.0000 - dense_2_acc_24: 1.0000 - dense_2_acc_25: 1.0000 - dense_2_acc_26: 1.0000 - dense_2_acc_27: 1.0000 - dense_2_acc_28: 1.0000 - dense_2_acc_29: 0.9833 - dense_2_acc_30: 0.0167         \n",
      "Epoch 49/100\n",
      "60/60 [==============================] - 0s - loss: 11.5688 - dense_2_loss_1: 3.9422 - dense_2_loss_2: 2.1024 - dense_2_loss_3: 0.9471 - dense_2_loss_4: 0.4609 - dense_2_loss_5: 0.3337 - dense_2_loss_6: 0.2461 - dense_2_loss_7: 0.2500 - dense_2_loss_8: 0.1841 - dense_2_loss_9: 0.1592 - dense_2_loss_10: 0.1432 - dense_2_loss_11: 0.1562 - dense_2_loss_12: 0.1586 - dense_2_loss_13: 0.1331 - dense_2_loss_14: 0.1383 - dense_2_loss_15: 0.1452 - dense_2_loss_16: 0.1479 - dense_2_loss_17: 0.1309 - dense_2_loss_18: 0.1449 - dense_2_loss_19: 0.1427 - dense_2_loss_20: 0.1463 - dense_2_loss_21: 0.1492 - dense_2_loss_22: 0.1563 - dense_2_loss_23: 0.1361 - dense_2_loss_24: 0.1281 - dense_2_loss_25: 0.1525 - dense_2_loss_26: 0.1347 - dense_2_loss_27: 0.1497 - dense_2_loss_28: 0.1506 - dense_2_loss_29: 0.1988 - dense_2_loss_30: 0.0000e+00 - dense_2_acc_1: 0.1000 - dense_2_acc_2: 0.4333 - dense_2_acc_3: 0.7333 - dense_2_acc_4: 0.9667 - dense_2_acc_5: 0.9833 - dense_2_acc_6: 0.9833 - dense_2_acc_7: 0.9833 - dense_2_acc_8: 1.0000 - dense_2_acc_9: 1.0000 - dense_2_acc_10: 1.0000 - dense_2_acc_11: 1.0000 - dense_2_acc_12: 1.0000 - dense_2_acc_13: 1.0000 - dense_2_acc_14: 1.0000 - dense_2_acc_15: 1.0000 - dense_2_acc_16: 1.0000 - dense_2_acc_17: 1.0000 - dense_2_acc_18: 1.0000 - dense_2_acc_19: 1.0000 - dense_2_acc_20: 1.0000 - dense_2_acc_21: 1.0000 - dense_2_acc_22: 1.0000 - dense_2_acc_23: 1.0000 - dense_2_acc_24: 1.0000 - dense_2_acc_25: 1.0000 - dense_2_acc_26: 1.0000 - dense_2_acc_27: 1.0000 - dense_2_acc_28: 1.0000 - dense_2_acc_29: 0.9833 - dense_2_acc_30: 0.0167     \n",
      "Epoch 50/100\n",
      "60/60 [==============================] - 0s - loss: 11.1938 - dense_2_loss_1: 3.9381 - dense_2_loss_2: 2.0657 - dense_2_loss_3: 0.9156 - dense_2_loss_4: 0.4340 - dense_2_loss_5: 0.3142 - dense_2_loss_6: 0.2298 - dense_2_loss_7: 0.2333 - dense_2_loss_8: 0.1723 - dense_2_loss_9: 0.1473 - dense_2_loss_10: 0.1348 - dense_2_loss_11: 0.1440 - dense_2_loss_12: 0.1469 - dense_2_loss_13: 0.1258 - dense_2_loss_14: 0.1274 - dense_2_loss_15: 0.1364 - dense_2_loss_16: 0.1360 - dense_2_loss_17: 0.1234 - dense_2_loss_18: 0.1344 - dense_2_loss_19: 0.1339 - dense_2_loss_20: 0.1362 - dense_2_loss_21: 0.1397 - dense_2_loss_22: 0.1425 - dense_2_loss_23: 0.1278 - dense_2_loss_24: 0.1177 - dense_2_loss_25: 0.1412 - dense_2_loss_26: 0.1265 - dense_2_loss_27: 0.1402 - dense_2_loss_28: 0.1427 - dense_2_loss_29: 0.1860 - dense_2_loss_30: 0.0000e+00 - dense_2_acc_1: 0.1000 - dense_2_acc_2: 0.4500 - dense_2_acc_3: 0.7667 - dense_2_acc_4: 0.9667 - dense_2_acc_5: 0.9833 - dense_2_acc_6: 0.9833 - dense_2_acc_7: 0.9833 - dense_2_acc_8: 1.0000 - dense_2_acc_9: 1.0000 - dense_2_acc_10: 1.0000 - dense_2_acc_11: 1.0000 - dense_2_acc_12: 1.0000 - dense_2_acc_13: 1.0000 - dense_2_acc_14: 1.0000 - dense_2_acc_15: 1.0000 - dense_2_acc_16: 1.0000 - dense_2_acc_17: 1.0000 - dense_2_acc_18: 1.0000 - dense_2_acc_19: 1.0000 - dense_2_acc_20: 1.0000 - dense_2_acc_21: 1.0000 - dense_2_acc_22: 1.0000 - dense_2_acc_23: 1.0000 - dense_2_acc_24: 1.0000 - dense_2_acc_25: 1.0000 - dense_2_acc_26: 1.0000 - dense_2_acc_27: 1.0000 - dense_2_acc_28: 1.0000 - dense_2_acc_29: 0.9833 - dense_2_acc_30: 0.0167     \n",
      "Epoch 51/100\n"
     ]
    },
    {
     "name": "stdout",
     "output_type": "stream",
     "text": [
      "60/60 [==============================] - 0s - loss: 10.8477 - dense_2_loss_1: 3.9338 - dense_2_loss_2: 2.0284 - dense_2_loss_3: 0.8876 - dense_2_loss_4: 0.4098 - dense_2_loss_5: 0.2978 - dense_2_loss_6: 0.2156 - dense_2_loss_7: 0.2185 - dense_2_loss_8: 0.1605 - dense_2_loss_9: 0.1391 - dense_2_loss_10: 0.1260 - dense_2_loss_11: 0.1343 - dense_2_loss_12: 0.1372 - dense_2_loss_13: 0.1174 - dense_2_loss_14: 0.1209 - dense_2_loss_15: 0.1254 - dense_2_loss_16: 0.1273 - dense_2_loss_17: 0.1141 - dense_2_loss_18: 0.1253 - dense_2_loss_19: 0.1239 - dense_2_loss_20: 0.1267 - dense_2_loss_21: 0.1304 - dense_2_loss_22: 0.1309 - dense_2_loss_23: 0.1193 - dense_2_loss_24: 0.1106 - dense_2_loss_25: 0.1312 - dense_2_loss_26: 0.1161 - dense_2_loss_27: 0.1308 - dense_2_loss_28: 0.1349 - dense_2_loss_29: 0.1740 - dense_2_loss_30: 0.0000e+00 - dense_2_acc_1: 0.1000 - dense_2_acc_2: 0.4667 - dense_2_acc_3: 0.8000 - dense_2_acc_4: 0.9667 - dense_2_acc_5: 0.9833 - dense_2_acc_6: 0.9833 - dense_2_acc_7: 0.9833 - dense_2_acc_8: 1.0000 - dense_2_acc_9: 1.0000 - dense_2_acc_10: 1.0000 - dense_2_acc_11: 1.0000 - dense_2_acc_12: 1.0000 - dense_2_acc_13: 1.0000 - dense_2_acc_14: 1.0000 - dense_2_acc_15: 1.0000 - dense_2_acc_16: 1.0000 - dense_2_acc_17: 1.0000 - dense_2_acc_18: 1.0000 - dense_2_acc_19: 1.0000 - dense_2_acc_20: 1.0000 - dense_2_acc_21: 1.0000 - dense_2_acc_22: 1.0000 - dense_2_acc_23: 1.0000 - dense_2_acc_24: 1.0000 - dense_2_acc_25: 1.0000 - dense_2_acc_26: 1.0000 - dense_2_acc_27: 1.0000 - dense_2_acc_28: 1.0000 - dense_2_acc_29: 0.9833 - dense_2_acc_30: 0.0167     \n",
      "Epoch 52/100\n",
      "60/60 [==============================] - 0s - loss: 10.5327 - dense_2_loss_1: 3.9301 - dense_2_loss_2: 1.9943 - dense_2_loss_3: 0.8599 - dense_2_loss_4: 0.3880 - dense_2_loss_5: 0.2821 - dense_2_loss_6: 0.2036 - dense_2_loss_7: 0.2059 - dense_2_loss_8: 0.1498 - dense_2_loss_9: 0.1302 - dense_2_loss_10: 0.1169 - dense_2_loss_11: 0.1264 - dense_2_loss_12: 0.1284 - dense_2_loss_13: 0.1091 - dense_2_loss_14: 0.1125 - dense_2_loss_15: 0.1179 - dense_2_loss_16: 0.1182 - dense_2_loss_17: 0.1065 - dense_2_loss_18: 0.1177 - dense_2_loss_19: 0.1155 - dense_2_loss_20: 0.1181 - dense_2_loss_21: 0.1204 - dense_2_loss_22: 0.1238 - dense_2_loss_23: 0.1122 - dense_2_loss_24: 0.1035 - dense_2_loss_25: 0.1254 - dense_2_loss_26: 0.1064 - dense_2_loss_27: 0.1190 - dense_2_loss_28: 0.1260 - dense_2_loss_29: 0.1649 - dense_2_loss_30: 0.0000e+00 - dense_2_acc_1: 0.1000 - dense_2_acc_2: 0.4667 - dense_2_acc_3: 0.8333 - dense_2_acc_4: 0.9667 - dense_2_acc_5: 0.9833 - dense_2_acc_6: 0.9833 - dense_2_acc_7: 0.9833 - dense_2_acc_8: 1.0000 - dense_2_acc_9: 1.0000 - dense_2_acc_10: 1.0000 - dense_2_acc_11: 1.0000 - dense_2_acc_12: 1.0000 - dense_2_acc_13: 1.0000 - dense_2_acc_14: 1.0000 - dense_2_acc_15: 1.0000 - dense_2_acc_16: 1.0000 - dense_2_acc_17: 1.0000 - dense_2_acc_18: 1.0000 - dense_2_acc_19: 1.0000 - dense_2_acc_20: 1.0000 - dense_2_acc_21: 1.0000 - dense_2_acc_22: 1.0000 - dense_2_acc_23: 1.0000 - dense_2_acc_24: 1.0000 - dense_2_acc_25: 1.0000 - dense_2_acc_26: 1.0000 - dense_2_acc_27: 1.0000 - dense_2_acc_28: 1.0000 - dense_2_acc_29: 0.9833 - dense_2_acc_30: 0.0167    \n",
      "Epoch 53/100\n",
      "60/60 [==============================] - 0s - loss: 10.2501 - dense_2_loss_1: 3.9258 - dense_2_loss_2: 1.9597 - dense_2_loss_3: 0.8335 - dense_2_loss_4: 0.3680 - dense_2_loss_5: 0.2686 - dense_2_loss_6: 0.1911 - dense_2_loss_7: 0.1954 - dense_2_loss_8: 0.1409 - dense_2_loss_9: 0.1217 - dense_2_loss_10: 0.1098 - dense_2_loss_11: 0.1189 - dense_2_loss_12: 0.1208 - dense_2_loss_13: 0.1024 - dense_2_loss_14: 0.1057 - dense_2_loss_15: 0.1108 - dense_2_loss_16: 0.1110 - dense_2_loss_17: 0.1001 - dense_2_loss_18: 0.1102 - dense_2_loss_19: 0.1074 - dense_2_loss_20: 0.1135 - dense_2_loss_21: 0.1120 - dense_2_loss_22: 0.1163 - dense_2_loss_23: 0.1061 - dense_2_loss_24: 0.0983 - dense_2_loss_25: 0.1148 - dense_2_loss_26: 0.0998 - dense_2_loss_27: 0.1155 - dense_2_loss_28: 0.1196 - dense_2_loss_29: 0.1522 - dense_2_loss_30: 0.0000e+00 - dense_2_acc_1: 0.1000 - dense_2_acc_2: 0.4833 - dense_2_acc_3: 0.8333 - dense_2_acc_4: 0.9667 - dense_2_acc_5: 0.9833 - dense_2_acc_6: 0.9833 - dense_2_acc_7: 0.9833 - dense_2_acc_8: 1.0000 - dense_2_acc_9: 1.0000 - dense_2_acc_10: 1.0000 - dense_2_acc_11: 1.0000 - dense_2_acc_12: 1.0000 - dense_2_acc_13: 1.0000 - dense_2_acc_14: 1.0000 - dense_2_acc_15: 1.0000 - dense_2_acc_16: 1.0000 - dense_2_acc_17: 1.0000 - dense_2_acc_18: 1.0000 - dense_2_acc_19: 1.0000 - dense_2_acc_20: 1.0000 - dense_2_acc_21: 1.0000 - dense_2_acc_22: 1.0000 - dense_2_acc_23: 1.0000 - dense_2_acc_24: 1.0000 - dense_2_acc_25: 1.0000 - dense_2_acc_26: 1.0000 - dense_2_acc_27: 1.0000 - dense_2_acc_28: 1.0000 - dense_2_acc_29: 0.9833 - dense_2_acc_30: 0.0167     \n",
      "Epoch 54/100\n",
      "60/60 [==============================] - 0s - loss: 9.9808 - dense_2_loss_1: 3.9220 - dense_2_loss_2: 1.9275 - dense_2_loss_3: 0.8082 - dense_2_loss_4: 0.3495 - dense_2_loss_5: 0.2551 - dense_2_loss_6: 0.1793 - dense_2_loss_7: 0.1827 - dense_2_loss_8: 0.1324 - dense_2_loss_9: 0.1137 - dense_2_loss_10: 0.1026 - dense_2_loss_11: 0.1119 - dense_2_loss_12: 0.1138 - dense_2_loss_13: 0.0965 - dense_2_loss_14: 0.0978 - dense_2_loss_15: 0.1053 - dense_2_loss_16: 0.1036 - dense_2_loss_17: 0.0941 - dense_2_loss_18: 0.1041 - dense_2_loss_19: 0.1007 - dense_2_loss_20: 0.1066 - dense_2_loss_21: 0.1057 - dense_2_loss_22: 0.1081 - dense_2_loss_23: 0.1008 - dense_2_loss_24: 0.0910 - dense_2_loss_25: 0.1078 - dense_2_loss_26: 0.0948 - dense_2_loss_27: 0.1108 - dense_2_loss_28: 0.1128 - dense_2_loss_29: 0.1417 - dense_2_loss_30: 0.0000e+00 - dense_2_acc_1: 0.1000 - dense_2_acc_2: 0.4833 - dense_2_acc_3: 0.8500 - dense_2_acc_4: 0.9667 - dense_2_acc_5: 0.9833 - dense_2_acc_6: 1.0000 - dense_2_acc_7: 0.9833 - dense_2_acc_8: 1.0000 - dense_2_acc_9: 1.0000 - dense_2_acc_10: 1.0000 - dense_2_acc_11: 1.0000 - dense_2_acc_12: 1.0000 - dense_2_acc_13: 1.0000 - dense_2_acc_14: 1.0000 - dense_2_acc_15: 1.0000 - dense_2_acc_16: 1.0000 - dense_2_acc_17: 1.0000 - dense_2_acc_18: 1.0000 - dense_2_acc_19: 1.0000 - dense_2_acc_20: 1.0000 - dense_2_acc_21: 1.0000 - dense_2_acc_22: 1.0000 - dense_2_acc_23: 1.0000 - dense_2_acc_24: 1.0000 - dense_2_acc_25: 1.0000 - dense_2_acc_26: 1.0000 - dense_2_acc_27: 1.0000 - dense_2_acc_28: 1.0000 - dense_2_acc_29: 0.9833 - dense_2_acc_30: 0.0167     \n",
      "Epoch 55/100\n",
      "60/60 [==============================] - 0s - loss: 9.7380 - dense_2_loss_1: 3.9181 - dense_2_loss_2: 1.8950 - dense_2_loss_3: 0.7848 - dense_2_loss_4: 0.3339 - dense_2_loss_5: 0.2440 - dense_2_loss_6: 0.1704 - dense_2_loss_7: 0.1732 - dense_2_loss_8: 0.1257 - dense_2_loss_9: 0.1070 - dense_2_loss_10: 0.0964 - dense_2_loss_11: 0.1056 - dense_2_loss_12: 0.1073 - dense_2_loss_13: 0.0907 - dense_2_loss_14: 0.0925 - dense_2_loss_15: 0.0984 - dense_2_loss_16: 0.0975 - dense_2_loss_17: 0.0880 - dense_2_loss_18: 0.0973 - dense_2_loss_19: 0.0958 - dense_2_loss_20: 0.0988 - dense_2_loss_21: 0.0999 - dense_2_loss_22: 0.1019 - dense_2_loss_23: 0.0942 - dense_2_loss_24: 0.0853 - dense_2_loss_25: 0.1022 - dense_2_loss_26: 0.0898 - dense_2_loss_27: 0.1030 - dense_2_loss_28: 0.1068 - dense_2_loss_29: 0.1343 - dense_2_loss_30: 0.0000e+00 - dense_2_acc_1: 0.1000 - dense_2_acc_2: 0.4833 - dense_2_acc_3: 0.8500 - dense_2_acc_4: 0.9667 - dense_2_acc_5: 0.9833 - dense_2_acc_6: 1.0000 - dense_2_acc_7: 0.9833 - dense_2_acc_8: 1.0000 - dense_2_acc_9: 1.0000 - dense_2_acc_10: 1.0000 - dense_2_acc_11: 1.0000 - dense_2_acc_12: 1.0000 - dense_2_acc_13: 1.0000 - dense_2_acc_14: 1.0000 - dense_2_acc_15: 1.0000 - dense_2_acc_16: 1.0000 - dense_2_acc_17: 1.0000 - dense_2_acc_18: 1.0000 - dense_2_acc_19: 1.0000 - dense_2_acc_20: 1.0000 - dense_2_acc_21: 1.0000 - dense_2_acc_22: 1.0000 - dense_2_acc_23: 1.0000 - dense_2_acc_24: 1.0000 - dense_2_acc_25: 1.0000 - dense_2_acc_26: 1.0000 - dense_2_acc_27: 1.0000 - dense_2_acc_28: 1.0000 - dense_2_acc_29: 0.9833 - dense_2_acc_30: 0.0167          \n",
      "Epoch 56/100\n",
      "60/60 [==============================] - 0s - loss: 9.5059 - dense_2_loss_1: 3.9145 - dense_2_loss_2: 1.8655 - dense_2_loss_3: 0.7619 - dense_2_loss_4: 0.3165 - dense_2_loss_5: 0.2320 - dense_2_loss_6: 0.1619 - dense_2_loss_7: 0.1621 - dense_2_loss_8: 0.1178 - dense_2_loss_9: 0.1015 - dense_2_loss_10: 0.0912 - dense_2_loss_11: 0.0991 - dense_2_loss_12: 0.1012 - dense_2_loss_13: 0.0861 - dense_2_loss_14: 0.0886 - dense_2_loss_15: 0.0918 - dense_2_loss_16: 0.0927 - dense_2_loss_17: 0.0827 - dense_2_loss_18: 0.0917 - dense_2_loss_19: 0.0912 - dense_2_loss_20: 0.0926 - dense_2_loss_21: 0.0947 - dense_2_loss_22: 0.0962 - dense_2_loss_23: 0.0877 - dense_2_loss_24: 0.0810 - dense_2_loss_25: 0.0963 - dense_2_loss_26: 0.0844 - dense_2_loss_27: 0.0955 - dense_2_loss_28: 0.1012 - dense_2_loss_29: 0.1266 - dense_2_loss_30: 0.0000e+00 - dense_2_acc_1: 0.1000 - dense_2_acc_2: 0.5000 - dense_2_acc_3: 0.8500 - dense_2_acc_4: 0.9667 - dense_2_acc_5: 0.9833 - dense_2_acc_6: 1.0000 - dense_2_acc_7: 0.9833 - dense_2_acc_8: 1.0000 - dense_2_acc_9: 1.0000 - dense_2_acc_10: 1.0000 - dense_2_acc_11: 1.0000 - dense_2_acc_12: 1.0000 - dense_2_acc_13: 1.0000 - dense_2_acc_14: 1.0000 - dense_2_acc_15: 1.0000 - dense_2_acc_16: 1.0000 - dense_2_acc_17: 1.0000 - dense_2_acc_18: 1.0000 - dense_2_acc_19: 1.0000 - dense_2_acc_20: 1.0000 - dense_2_acc_21: 1.0000 - dense_2_acc_22: 1.0000 - dense_2_acc_23: 1.0000 - dense_2_acc_24: 1.0000 - dense_2_acc_25: 1.0000 - dense_2_acc_26: 1.0000 - dense_2_acc_27: 1.0000 - dense_2_acc_28: 1.0000 - dense_2_acc_29: 0.9833 - dense_2_acc_30: 0.0167     \n",
      "Epoch 57/100\n",
      "60/60 [==============================] - 0s - loss: 9.2984 - dense_2_loss_1: 3.9108 - dense_2_loss_2: 1.8355 - dense_2_loss_3: 0.7410 - dense_2_loss_4: 0.3019 - dense_2_loss_5: 0.2224 - dense_2_loss_6: 0.1544 - dense_2_loss_7: 0.1537 - dense_2_loss_8: 0.1121 - dense_2_loss_9: 0.0958 - dense_2_loss_10: 0.0863 - dense_2_loss_11: 0.0933 - dense_2_loss_12: 0.0962 - dense_2_loss_13: 0.0816 - dense_2_loss_14: 0.0835 - dense_2_loss_15: 0.0869 - dense_2_loss_16: 0.0878 - dense_2_loss_17: 0.0782 - dense_2_loss_18: 0.0864 - dense_2_loss_19: 0.0858 - dense_2_loss_20: 0.0875 - dense_2_loss_21: 0.0900 - dense_2_loss_22: 0.0909 - dense_2_loss_23: 0.0828 - dense_2_loss_24: 0.0765 - dense_2_loss_25: 0.0914 - dense_2_loss_26: 0.0799 - dense_2_loss_27: 0.0908 - dense_2_loss_28: 0.0962 - dense_2_loss_29: 0.1187 - dense_2_loss_30: 0.0000e+00 - dense_2_acc_1: 0.1000 - dense_2_acc_2: 0.5167 - dense_2_acc_3: 0.8500 - dense_2_acc_4: 0.9667 - dense_2_acc_5: 0.9833 - dense_2_acc_6: 1.0000 - dense_2_acc_7: 0.9833 - dense_2_acc_8: 1.0000 - dense_2_acc_9: 1.0000 - dense_2_acc_10: 1.0000 - dense_2_acc_11: 1.0000 - dense_2_acc_12: 1.0000 - dense_2_acc_13: 1.0000 - dense_2_acc_14: 1.0000 - dense_2_acc_15: 1.0000 - dense_2_acc_16: 1.0000 - dense_2_acc_17: 1.0000 - dense_2_acc_18: 1.0000 - dense_2_acc_19: 1.0000 - dense_2_acc_20: 1.0000 - dense_2_acc_21: 1.0000 - dense_2_acc_22: 1.0000 - dense_2_acc_23: 1.0000 - dense_2_acc_24: 1.0000 - dense_2_acc_25: 1.0000 - dense_2_acc_26: 1.0000 - dense_2_acc_27: 1.0000 - dense_2_acc_28: 1.0000 - dense_2_acc_29: 0.9833 - dense_2_acc_30: 0.0167         \n",
      "Epoch 58/100\n",
      "60/60 [==============================] - 0s - loss: 9.1010 - dense_2_loss_1: 3.9071 - dense_2_loss_2: 1.8065 - dense_2_loss_3: 0.7219 - dense_2_loss_4: 0.2868 - dense_2_loss_5: 0.2128 - dense_2_loss_6: 0.1467 - dense_2_loss_7: 0.1449 - dense_2_loss_8: 0.1068 - dense_2_loss_9: 0.0902 - dense_2_loss_10: 0.0820 - dense_2_loss_11: 0.0880 - dense_2_loss_12: 0.0914 - dense_2_loss_13: 0.0774 - dense_2_loss_14: 0.0780 - dense_2_loss_15: 0.0833 - dense_2_loss_16: 0.0826 - dense_2_loss_17: 0.0747 - dense_2_loss_18: 0.0817 - dense_2_loss_19: 0.0809 - dense_2_loss_20: 0.0832 - dense_2_loss_21: 0.0848 - dense_2_loss_22: 0.0865 - dense_2_loss_23: 0.0787 - dense_2_loss_24: 0.0722 - dense_2_loss_25: 0.0865 - dense_2_loss_26: 0.0759 - dense_2_loss_27: 0.0870 - dense_2_loss_28: 0.0908 - dense_2_loss_29: 0.1119 - dense_2_loss_30: 0.0000e+00 - dense_2_acc_1: 0.1000 - dense_2_acc_2: 0.5333 - dense_2_acc_3: 0.8500 - dense_2_acc_4: 0.9667 - dense_2_acc_5: 0.9833 - dense_2_acc_6: 1.0000 - dense_2_acc_7: 0.9833 - dense_2_acc_8: 1.0000 - dense_2_acc_9: 1.0000 - dense_2_acc_10: 1.0000 - dense_2_acc_11: 1.0000 - dense_2_acc_12: 1.0000 - dense_2_acc_13: 1.0000 - dense_2_acc_14: 1.0000 - dense_2_acc_15: 1.0000 - dense_2_acc_16: 1.0000 - dense_2_acc_17: 1.0000 - dense_2_acc_18: 1.0000 - dense_2_acc_19: 1.0000 - dense_2_acc_20: 1.0000 - dense_2_acc_21: 1.0000 - dense_2_acc_22: 1.0000 - dense_2_acc_23: 1.0000 - dense_2_acc_24: 1.0000 - dense_2_acc_25: 1.0000 - dense_2_acc_26: 1.0000 - dense_2_acc_27: 1.0000 - dense_2_acc_28: 1.0000 - dense_2_acc_29: 1.0000 - dense_2_acc_30: 0.0167     \n",
      "Epoch 59/100\n",
      "60/60 [==============================] - 0s - loss: 8.9178 - dense_2_loss_1: 3.9037 - dense_2_loss_2: 1.7794 - dense_2_loss_3: 0.7010 - dense_2_loss_4: 0.2739 - dense_2_loss_5: 0.2041 - dense_2_loss_6: 0.1396 - dense_2_loss_7: 0.1370 - dense_2_loss_8: 0.1017 - dense_2_loss_9: 0.0859 - dense_2_loss_10: 0.0780 - dense_2_loss_11: 0.0837 - dense_2_loss_12: 0.0868 - dense_2_loss_13: 0.0733 - dense_2_loss_14: 0.0748 - dense_2_loss_15: 0.0785 - dense_2_loss_16: 0.0786 - dense_2_loss_17: 0.0708 - dense_2_loss_18: 0.0775 - dense_2_loss_19: 0.0761 - dense_2_loss_20: 0.0797 - dense_2_loss_21: 0.0800 - dense_2_loss_22: 0.0822 - dense_2_loss_23: 0.0744 - dense_2_loss_24: 0.0694 - dense_2_loss_25: 0.0816 - dense_2_loss_26: 0.0713 - dense_2_loss_27: 0.0838 - dense_2_loss_28: 0.0863 - dense_2_loss_29: 0.1046 - dense_2_loss_30: 0.0000e+00 - dense_2_acc_1: 0.1000 - dense_2_acc_2: 0.5667 - dense_2_acc_3: 0.8500 - dense_2_acc_4: 0.9667 - dense_2_acc_5: 0.9833 - dense_2_acc_6: 1.0000 - dense_2_acc_7: 0.9833 - dense_2_acc_8: 1.0000 - dense_2_acc_9: 1.0000 - dense_2_acc_10: 1.0000 - dense_2_acc_11: 1.0000 - dense_2_acc_12: 1.0000 - dense_2_acc_13: 1.0000 - dense_2_acc_14: 1.0000 - dense_2_acc_15: 1.0000 - dense_2_acc_16: 1.0000 - dense_2_acc_17: 1.0000 - dense_2_acc_18: 1.0000 - dense_2_acc_19: 1.0000 - dense_2_acc_20: 1.0000 - dense_2_acc_21: 1.0000 - dense_2_acc_22: 1.0000 - dense_2_acc_23: 1.0000 - dense_2_acc_24: 1.0000 - dense_2_acc_25: 1.0000 - dense_2_acc_26: 1.0000 - dense_2_acc_27: 1.0000 - dense_2_acc_28: 1.0000 - dense_2_acc_29: 1.0000 - dense_2_acc_30: 0.0167     \n",
      "Epoch 60/100\n",
      "60/60 [==============================] - 0s - loss: 8.7463 - dense_2_loss_1: 3.8999 - dense_2_loss_2: 1.7526 - dense_2_loss_3: 0.6835 - dense_2_loss_4: 0.2616 - dense_2_loss_5: 0.1954 - dense_2_loss_6: 0.1335 - dense_2_loss_7: 0.1291 - dense_2_loss_8: 0.0966 - dense_2_loss_9: 0.0817 - dense_2_loss_10: 0.0743 - dense_2_loss_11: 0.0798 - dense_2_loss_12: 0.0822 - dense_2_loss_13: 0.0696 - dense_2_loss_14: 0.0717 - dense_2_loss_15: 0.0741 - dense_2_loss_16: 0.0746 - dense_2_loss_17: 0.0673 - dense_2_loss_18: 0.0736 - dense_2_loss_19: 0.0728 - dense_2_loss_20: 0.0750 - dense_2_loss_21: 0.0758 - dense_2_loss_22: 0.0782 - dense_2_loss_23: 0.0709 - dense_2_loss_24: 0.0653 - dense_2_loss_25: 0.0785 - dense_2_loss_26: 0.0673 - dense_2_loss_27: 0.0785 - dense_2_loss_28: 0.0819 - dense_2_loss_29: 0.1007 - dense_2_loss_30: 0.0000e+00 - dense_2_acc_1: 0.1000 - dense_2_acc_2: 0.5667 - dense_2_acc_3: 0.8500 - dense_2_acc_4: 0.9667 - dense_2_acc_5: 0.9833 - dense_2_acc_6: 1.0000 - dense_2_acc_7: 0.9833 - dense_2_acc_8: 1.0000 - dense_2_acc_9: 1.0000 - dense_2_acc_10: 1.0000 - dense_2_acc_11: 1.0000 - dense_2_acc_12: 1.0000 - dense_2_acc_13: 1.0000 - dense_2_acc_14: 1.0000 - dense_2_acc_15: 1.0000 - dense_2_acc_16: 1.0000 - dense_2_acc_17: 1.0000 - dense_2_acc_18: 1.0000 - dense_2_acc_19: 1.0000 - dense_2_acc_20: 1.0000 - dense_2_acc_21: 1.0000 - dense_2_acc_22: 1.0000 - dense_2_acc_23: 1.0000 - dense_2_acc_24: 1.0000 - dense_2_acc_25: 1.0000 - dense_2_acc_26: 1.0000 - dense_2_acc_27: 1.0000 - dense_2_acc_28: 1.0000 - dense_2_acc_29: 1.0000 - dense_2_acc_30: 0.0167     \n",
      "Epoch 61/100\n"
     ]
    },
    {
     "name": "stdout",
     "output_type": "stream",
     "text": [
      "60/60 [==============================] - 0s - loss: 8.5888 - dense_2_loss_1: 3.8961 - dense_2_loss_2: 1.7275 - dense_2_loss_3: 0.6665 - dense_2_loss_4: 0.2493 - dense_2_loss_5: 0.1880 - dense_2_loss_6: 0.1281 - dense_2_loss_7: 0.1233 - dense_2_loss_8: 0.0924 - dense_2_loss_9: 0.0777 - dense_2_loss_10: 0.0709 - dense_2_loss_11: 0.0759 - dense_2_loss_12: 0.0782 - dense_2_loss_13: 0.0665 - dense_2_loss_14: 0.0683 - dense_2_loss_15: 0.0705 - dense_2_loss_16: 0.0707 - dense_2_loss_17: 0.0640 - dense_2_loss_18: 0.0699 - dense_2_loss_19: 0.0698 - dense_2_loss_20: 0.0707 - dense_2_loss_21: 0.0725 - dense_2_loss_22: 0.0741 - dense_2_loss_23: 0.0675 - dense_2_loss_24: 0.0620 - dense_2_loss_25: 0.0757 - dense_2_loss_26: 0.0641 - dense_2_loss_27: 0.0729 - dense_2_loss_28: 0.0795 - dense_2_loss_29: 0.0962 - dense_2_loss_30: 0.0000e+00 - dense_2_acc_1: 0.1000 - dense_2_acc_2: 0.5667 - dense_2_acc_3: 0.8500 - dense_2_acc_4: 0.9833 - dense_2_acc_5: 0.9833 - dense_2_acc_6: 1.0000 - dense_2_acc_7: 0.9833 - dense_2_acc_8: 1.0000 - dense_2_acc_9: 1.0000 - dense_2_acc_10: 1.0000 - dense_2_acc_11: 1.0000 - dense_2_acc_12: 1.0000 - dense_2_acc_13: 1.0000 - dense_2_acc_14: 1.0000 - dense_2_acc_15: 1.0000 - dense_2_acc_16: 1.0000 - dense_2_acc_17: 1.0000 - dense_2_acc_18: 1.0000 - dense_2_acc_19: 1.0000 - dense_2_acc_20: 1.0000 - dense_2_acc_21: 1.0000 - dense_2_acc_22: 1.0000 - dense_2_acc_23: 1.0000 - dense_2_acc_24: 1.0000 - dense_2_acc_25: 1.0000 - dense_2_acc_26: 1.0000 - dense_2_acc_27: 1.0000 - dense_2_acc_28: 1.0000 - dense_2_acc_29: 1.0000 - dense_2_acc_30: 0.0167         \n",
      "Epoch 62/100\n",
      "60/60 [==============================] - 0s - loss: 8.4439 - dense_2_loss_1: 3.8925 - dense_2_loss_2: 1.7019 - dense_2_loss_3: 0.6503 - dense_2_loss_4: 0.2399 - dense_2_loss_5: 0.1807 - dense_2_loss_6: 0.1227 - dense_2_loss_7: 0.1170 - dense_2_loss_8: 0.0887 - dense_2_loss_9: 0.0740 - dense_2_loss_10: 0.0679 - dense_2_loss_11: 0.0722 - dense_2_loss_12: 0.0750 - dense_2_loss_13: 0.0639 - dense_2_loss_14: 0.0655 - dense_2_loss_15: 0.0671 - dense_2_loss_16: 0.0677 - dense_2_loss_17: 0.0609 - dense_2_loss_18: 0.0672 - dense_2_loss_19: 0.0662 - dense_2_loss_20: 0.0679 - dense_2_loss_21: 0.0695 - dense_2_loss_22: 0.0705 - dense_2_loss_23: 0.0641 - dense_2_loss_24: 0.0595 - dense_2_loss_25: 0.0716 - dense_2_loss_26: 0.0617 - dense_2_loss_27: 0.0707 - dense_2_loss_28: 0.0765 - dense_2_loss_29: 0.0905 - dense_2_loss_30: 0.0000e+00 - dense_2_acc_1: 0.1000 - dense_2_acc_2: 0.5667 - dense_2_acc_3: 0.8667 - dense_2_acc_4: 0.9833 - dense_2_acc_5: 0.9833 - dense_2_acc_6: 1.0000 - dense_2_acc_7: 0.9833 - dense_2_acc_8: 1.0000 - dense_2_acc_9: 1.0000 - dense_2_acc_10: 1.0000 - dense_2_acc_11: 1.0000 - dense_2_acc_12: 1.0000 - dense_2_acc_13: 1.0000 - dense_2_acc_14: 1.0000 - dense_2_acc_15: 1.0000 - dense_2_acc_16: 1.0000 - dense_2_acc_17: 1.0000 - dense_2_acc_18: 1.0000 - dense_2_acc_19: 1.0000 - dense_2_acc_20: 1.0000 - dense_2_acc_21: 1.0000 - dense_2_acc_22: 1.0000 - dense_2_acc_23: 1.0000 - dense_2_acc_24: 1.0000 - dense_2_acc_25: 1.0000 - dense_2_acc_26: 1.0000 - dense_2_acc_27: 1.0000 - dense_2_acc_28: 1.0000 - dense_2_acc_29: 1.0000 - dense_2_acc_30: 0.0167     \n",
      "Epoch 63/100\n",
      "60/60 [==============================] - 0s - loss: 8.3032 - dense_2_loss_1: 3.8891 - dense_2_loss_2: 1.6785 - dense_2_loss_3: 0.6339 - dense_2_loss_4: 0.2296 - dense_2_loss_5: 0.1735 - dense_2_loss_6: 0.1180 - dense_2_loss_7: 0.1111 - dense_2_loss_8: 0.0852 - dense_2_loss_9: 0.0705 - dense_2_loss_10: 0.0646 - dense_2_loss_11: 0.0688 - dense_2_loss_12: 0.0715 - dense_2_loss_13: 0.0611 - dense_2_loss_14: 0.0625 - dense_2_loss_15: 0.0641 - dense_2_loss_16: 0.0649 - dense_2_loss_17: 0.0581 - dense_2_loss_18: 0.0643 - dense_2_loss_19: 0.0623 - dense_2_loss_20: 0.0651 - dense_2_loss_21: 0.0663 - dense_2_loss_22: 0.0677 - dense_2_loss_23: 0.0612 - dense_2_loss_24: 0.0571 - dense_2_loss_25: 0.0675 - dense_2_loss_26: 0.0594 - dense_2_loss_27: 0.0694 - dense_2_loss_28: 0.0727 - dense_2_loss_29: 0.0850 - dense_2_loss_30: 0.0000e+00 - dense_2_acc_1: 0.1000 - dense_2_acc_2: 0.5833 - dense_2_acc_3: 0.8667 - dense_2_acc_4: 0.9833 - dense_2_acc_5: 0.9833 - dense_2_acc_6: 1.0000 - dense_2_acc_7: 0.9833 - dense_2_acc_8: 1.0000 - dense_2_acc_9: 1.0000 - dense_2_acc_10: 1.0000 - dense_2_acc_11: 1.0000 - dense_2_acc_12: 1.0000 - dense_2_acc_13: 1.0000 - dense_2_acc_14: 1.0000 - dense_2_acc_15: 1.0000 - dense_2_acc_16: 1.0000 - dense_2_acc_17: 1.0000 - dense_2_acc_18: 1.0000 - dense_2_acc_19: 1.0000 - dense_2_acc_20: 1.0000 - dense_2_acc_21: 1.0000 - dense_2_acc_22: 1.0000 - dense_2_acc_23: 1.0000 - dense_2_acc_24: 1.0000 - dense_2_acc_25: 1.0000 - dense_2_acc_26: 1.0000 - dense_2_acc_27: 1.0000 - dense_2_acc_28: 1.0000 - dense_2_acc_29: 1.0000 - dense_2_acc_30: 0.0167         \n",
      "Epoch 64/100\n",
      "60/60 [==============================] - 0s - loss: 8.1697 - dense_2_loss_1: 3.8853 - dense_2_loss_2: 1.6557 - dense_2_loss_3: 0.6182 - dense_2_loss_4: 0.2207 - dense_2_loss_5: 0.1659 - dense_2_loss_6: 0.1134 - dense_2_loss_7: 0.1052 - dense_2_loss_8: 0.0818 - dense_2_loss_9: 0.0673 - dense_2_loss_10: 0.0617 - dense_2_loss_11: 0.0658 - dense_2_loss_12: 0.0686 - dense_2_loss_13: 0.0584 - dense_2_loss_14: 0.0595 - dense_2_loss_15: 0.0618 - dense_2_loss_16: 0.0621 - dense_2_loss_17: 0.0556 - dense_2_loss_18: 0.0617 - dense_2_loss_19: 0.0595 - dense_2_loss_20: 0.0618 - dense_2_loss_21: 0.0634 - dense_2_loss_22: 0.0652 - dense_2_loss_23: 0.0586 - dense_2_loss_24: 0.0540 - dense_2_loss_25: 0.0652 - dense_2_loss_26: 0.0572 - dense_2_loss_27: 0.0654 - dense_2_loss_28: 0.0695 - dense_2_loss_29: 0.0814 - dense_2_loss_30: 0.0000e+00 - dense_2_acc_1: 0.1000 - dense_2_acc_2: 0.5833 - dense_2_acc_3: 0.8667 - dense_2_acc_4: 0.9833 - dense_2_acc_5: 0.9833 - dense_2_acc_6: 1.0000 - dense_2_acc_7: 1.0000 - dense_2_acc_8: 1.0000 - dense_2_acc_9: 1.0000 - dense_2_acc_10: 1.0000 - dense_2_acc_11: 1.0000 - dense_2_acc_12: 1.0000 - dense_2_acc_13: 1.0000 - dense_2_acc_14: 1.0000 - dense_2_acc_15: 1.0000 - dense_2_acc_16: 1.0000 - dense_2_acc_17: 1.0000 - dense_2_acc_18: 1.0000 - dense_2_acc_19: 1.0000 - dense_2_acc_20: 1.0000 - dense_2_acc_21: 1.0000 - dense_2_acc_22: 1.0000 - dense_2_acc_23: 1.0000 - dense_2_acc_24: 1.0000 - dense_2_acc_25: 1.0000 - dense_2_acc_26: 1.0000 - dense_2_acc_27: 1.0000 - dense_2_acc_28: 1.0000 - dense_2_acc_29: 1.0000 - dense_2_acc_30: 0.0167     \n",
      "Epoch 65/100\n",
      "60/60 [==============================] - 0s - loss: 8.0486 - dense_2_loss_1: 3.8819 - dense_2_loss_2: 1.6328 - dense_2_loss_3: 0.6045 - dense_2_loss_4: 0.2125 - dense_2_loss_5: 0.1599 - dense_2_loss_6: 0.1095 - dense_2_loss_7: 0.1009 - dense_2_loss_8: 0.0785 - dense_2_loss_9: 0.0645 - dense_2_loss_10: 0.0593 - dense_2_loss_11: 0.0632 - dense_2_loss_12: 0.0657 - dense_2_loss_13: 0.0558 - dense_2_loss_14: 0.0576 - dense_2_loss_15: 0.0591 - dense_2_loss_16: 0.0597 - dense_2_loss_17: 0.0531 - dense_2_loss_18: 0.0591 - dense_2_loss_19: 0.0576 - dense_2_loss_20: 0.0591 - dense_2_loss_21: 0.0609 - dense_2_loss_22: 0.0623 - dense_2_loss_23: 0.0558 - dense_2_loss_24: 0.0519 - dense_2_loss_25: 0.0628 - dense_2_loss_26: 0.0546 - dense_2_loss_27: 0.0618 - dense_2_loss_28: 0.0665 - dense_2_loss_29: 0.0778 - dense_2_loss_30: 0.0000e+00 - dense_2_acc_1: 0.1000 - dense_2_acc_2: 0.5833 - dense_2_acc_3: 0.8667 - dense_2_acc_4: 0.9833 - dense_2_acc_5: 0.9833 - dense_2_acc_6: 1.0000 - dense_2_acc_7: 1.0000 - dense_2_acc_8: 1.0000 - dense_2_acc_9: 1.0000 - dense_2_acc_10: 1.0000 - dense_2_acc_11: 1.0000 - dense_2_acc_12: 1.0000 - dense_2_acc_13: 1.0000 - dense_2_acc_14: 1.0000 - dense_2_acc_15: 1.0000 - dense_2_acc_16: 1.0000 - dense_2_acc_17: 1.0000 - dense_2_acc_18: 1.0000 - dense_2_acc_19: 1.0000 - dense_2_acc_20: 1.0000 - dense_2_acc_21: 1.0000 - dense_2_acc_22: 1.0000 - dense_2_acc_23: 1.0000 - dense_2_acc_24: 1.0000 - dense_2_acc_25: 1.0000 - dense_2_acc_26: 1.0000 - dense_2_acc_27: 1.0000 - dense_2_acc_28: 1.0000 - dense_2_acc_29: 1.0000 - dense_2_acc_30: 0.0167     \n",
      "Epoch 66/100\n",
      "60/60 [==============================] - 0s - loss: 7.9307 - dense_2_loss_1: 3.8784 - dense_2_loss_2: 1.6109 - dense_2_loss_3: 0.5901 - dense_2_loss_4: 0.2039 - dense_2_loss_5: 0.1539 - dense_2_loss_6: 0.1056 - dense_2_loss_7: 0.0963 - dense_2_loss_8: 0.0755 - dense_2_loss_9: 0.0618 - dense_2_loss_10: 0.0570 - dense_2_loss_11: 0.0604 - dense_2_loss_12: 0.0627 - dense_2_loss_13: 0.0536 - dense_2_loss_14: 0.0556 - dense_2_loss_15: 0.0564 - dense_2_loss_16: 0.0575 - dense_2_loss_17: 0.0508 - dense_2_loss_18: 0.0564 - dense_2_loss_19: 0.0553 - dense_2_loss_20: 0.0568 - dense_2_loss_21: 0.0585 - dense_2_loss_22: 0.0595 - dense_2_loss_23: 0.0533 - dense_2_loss_24: 0.0502 - dense_2_loss_25: 0.0602 - dense_2_loss_26: 0.0521 - dense_2_loss_27: 0.0599 - dense_2_loss_28: 0.0639 - dense_2_loss_29: 0.0739 - dense_2_loss_30: 0.0000e+00 - dense_2_acc_1: 0.1000 - dense_2_acc_2: 0.5833 - dense_2_acc_3: 0.8667 - dense_2_acc_4: 0.9833 - dense_2_acc_5: 0.9833 - dense_2_acc_6: 1.0000 - dense_2_acc_7: 1.0000 - dense_2_acc_8: 1.0000 - dense_2_acc_9: 1.0000 - dense_2_acc_10: 1.0000 - dense_2_acc_11: 1.0000 - dense_2_acc_12: 1.0000 - dense_2_acc_13: 1.0000 - dense_2_acc_14: 1.0000 - dense_2_acc_15: 1.0000 - dense_2_acc_16: 1.0000 - dense_2_acc_17: 1.0000 - dense_2_acc_18: 1.0000 - dense_2_acc_19: 1.0000 - dense_2_acc_20: 1.0000 - dense_2_acc_21: 1.0000 - dense_2_acc_22: 1.0000 - dense_2_acc_23: 1.0000 - dense_2_acc_24: 1.0000 - dense_2_acc_25: 1.0000 - dense_2_acc_26: 1.0000 - dense_2_acc_27: 1.0000 - dense_2_acc_28: 1.0000 - dense_2_acc_29: 1.0000 - dense_2_acc_30: 0.0167     \n",
      "Epoch 67/100\n",
      "60/60 [==============================] - 0s - loss: 7.8230 - dense_2_loss_1: 3.8746 - dense_2_loss_2: 1.5897 - dense_2_loss_3: 0.5772 - dense_2_loss_4: 0.1965 - dense_2_loss_5: 0.1493 - dense_2_loss_6: 0.1019 - dense_2_loss_7: 0.0926 - dense_2_loss_8: 0.0730 - dense_2_loss_9: 0.0595 - dense_2_loss_10: 0.0547 - dense_2_loss_11: 0.0582 - dense_2_loss_12: 0.0601 - dense_2_loss_13: 0.0516 - dense_2_loss_14: 0.0533 - dense_2_loss_15: 0.0544 - dense_2_loss_16: 0.0550 - dense_2_loss_17: 0.0487 - dense_2_loss_18: 0.0542 - dense_2_loss_19: 0.0532 - dense_2_loss_20: 0.0546 - dense_2_loss_21: 0.0561 - dense_2_loss_22: 0.0570 - dense_2_loss_23: 0.0511 - dense_2_loss_24: 0.0481 - dense_2_loss_25: 0.0582 - dense_2_loss_26: 0.0502 - dense_2_loss_27: 0.0575 - dense_2_loss_28: 0.0614 - dense_2_loss_29: 0.0709 - dense_2_loss_30: 0.0000e+00 - dense_2_acc_1: 0.1000 - dense_2_acc_2: 0.5833 - dense_2_acc_3: 0.8667 - dense_2_acc_4: 0.9833 - dense_2_acc_5: 0.9833 - dense_2_acc_6: 1.0000 - dense_2_acc_7: 1.0000 - dense_2_acc_8: 1.0000 - dense_2_acc_9: 1.0000 - dense_2_acc_10: 1.0000 - dense_2_acc_11: 1.0000 - dense_2_acc_12: 1.0000 - dense_2_acc_13: 1.0000 - dense_2_acc_14: 1.0000 - dense_2_acc_15: 1.0000 - dense_2_acc_16: 1.0000 - dense_2_acc_17: 1.0000 - dense_2_acc_18: 1.0000 - dense_2_acc_19: 1.0000 - dense_2_acc_20: 1.0000 - dense_2_acc_21: 1.0000 - dense_2_acc_22: 1.0000 - dense_2_acc_23: 1.0000 - dense_2_acc_24: 1.0000 - dense_2_acc_25: 1.0000 - dense_2_acc_26: 1.0000 - dense_2_acc_27: 1.0000 - dense_2_acc_28: 1.0000 - dense_2_acc_29: 1.0000 - dense_2_acc_30: 0.0167         \n",
      "Epoch 68/100\n",
      "60/60 [==============================] - 0s - loss: 7.7200 - dense_2_loss_1: 3.8712 - dense_2_loss_2: 1.5691 - dense_2_loss_3: 0.5641 - dense_2_loss_4: 0.1900 - dense_2_loss_5: 0.1437 - dense_2_loss_6: 0.0985 - dense_2_loss_7: 0.0884 - dense_2_loss_8: 0.0706 - dense_2_loss_9: 0.0572 - dense_2_loss_10: 0.0526 - dense_2_loss_11: 0.0562 - dense_2_loss_12: 0.0577 - dense_2_loss_13: 0.0498 - dense_2_loss_14: 0.0512 - dense_2_loss_15: 0.0523 - dense_2_loss_16: 0.0527 - dense_2_loss_17: 0.0470 - dense_2_loss_18: 0.0521 - dense_2_loss_19: 0.0512 - dense_2_loss_20: 0.0528 - dense_2_loss_21: 0.0539 - dense_2_loss_22: 0.0549 - dense_2_loss_23: 0.0493 - dense_2_loss_24: 0.0462 - dense_2_loss_25: 0.0562 - dense_2_loss_26: 0.0484 - dense_2_loss_27: 0.0556 - dense_2_loss_28: 0.0589 - dense_2_loss_29: 0.0682 - dense_2_loss_30: 0.0000e+00 - dense_2_acc_1: 0.1000 - dense_2_acc_2: 0.5833 - dense_2_acc_3: 0.8667 - dense_2_acc_4: 0.9833 - dense_2_acc_5: 0.9833 - dense_2_acc_6: 1.0000 - dense_2_acc_7: 1.0000 - dense_2_acc_8: 1.0000 - dense_2_acc_9: 1.0000 - dense_2_acc_10: 1.0000 - dense_2_acc_11: 1.0000 - dense_2_acc_12: 1.0000 - dense_2_acc_13: 1.0000 - dense_2_acc_14: 1.0000 - dense_2_acc_15: 1.0000 - dense_2_acc_16: 1.0000 - dense_2_acc_17: 1.0000 - dense_2_acc_18: 1.0000 - dense_2_acc_19: 1.0000 - dense_2_acc_20: 1.0000 - dense_2_acc_21: 1.0000 - dense_2_acc_22: 1.0000 - dense_2_acc_23: 1.0000 - dense_2_acc_24: 1.0000 - dense_2_acc_25: 1.0000 - dense_2_acc_26: 1.0000 - dense_2_acc_27: 1.0000 - dense_2_acc_28: 1.0000 - dense_2_acc_29: 1.0000 - dense_2_acc_30: 0.0167     \n",
      "Epoch 69/100\n",
      "60/60 [==============================] - 0s - loss: 7.6199 - dense_2_loss_1: 3.8678 - dense_2_loss_2: 1.5496 - dense_2_loss_3: 0.5518 - dense_2_loss_4: 0.1832 - dense_2_loss_5: 0.1383 - dense_2_loss_6: 0.0951 - dense_2_loss_7: 0.0844 - dense_2_loss_8: 0.0682 - dense_2_loss_9: 0.0549 - dense_2_loss_10: 0.0507 - dense_2_loss_11: 0.0541 - dense_2_loss_12: 0.0554 - dense_2_loss_13: 0.0478 - dense_2_loss_14: 0.0495 - dense_2_loss_15: 0.0502 - dense_2_loss_16: 0.0506 - dense_2_loss_17: 0.0451 - dense_2_loss_18: 0.0503 - dense_2_loss_19: 0.0490 - dense_2_loss_20: 0.0508 - dense_2_loss_21: 0.0518 - dense_2_loss_22: 0.0530 - dense_2_loss_23: 0.0474 - dense_2_loss_24: 0.0446 - dense_2_loss_25: 0.0539 - dense_2_loss_26: 0.0467 - dense_2_loss_27: 0.0538 - dense_2_loss_28: 0.0569 - dense_2_loss_29: 0.0652 - dense_2_loss_30: 0.0000e+00 - dense_2_acc_1: 0.1000 - dense_2_acc_2: 0.5833 - dense_2_acc_3: 0.8667 - dense_2_acc_4: 0.9833 - dense_2_acc_5: 0.9833 - dense_2_acc_6: 1.0000 - dense_2_acc_7: 1.0000 - dense_2_acc_8: 1.0000 - dense_2_acc_9: 1.0000 - dense_2_acc_10: 1.0000 - dense_2_acc_11: 1.0000 - dense_2_acc_12: 1.0000 - dense_2_acc_13: 1.0000 - dense_2_acc_14: 1.0000 - dense_2_acc_15: 1.0000 - dense_2_acc_16: 1.0000 - dense_2_acc_17: 1.0000 - dense_2_acc_18: 1.0000 - dense_2_acc_19: 1.0000 - dense_2_acc_20: 1.0000 - dense_2_acc_21: 1.0000 - dense_2_acc_22: 1.0000 - dense_2_acc_23: 1.0000 - dense_2_acc_24: 1.0000 - dense_2_acc_25: 1.0000 - dense_2_acc_26: 1.0000 - dense_2_acc_27: 1.0000 - dense_2_acc_28: 1.0000 - dense_2_acc_29: 1.0000 - dense_2_acc_30: 0.0167     \n",
      "Epoch 70/100\n",
      "60/60 [==============================] - 0s - loss: 7.5266 - dense_2_loss_1: 3.8643 - dense_2_loss_2: 1.5297 - dense_2_loss_3: 0.5398 - dense_2_loss_4: 0.1774 - dense_2_loss_5: 0.1333 - dense_2_loss_6: 0.0919 - dense_2_loss_7: 0.0813 - dense_2_loss_8: 0.0661 - dense_2_loss_9: 0.0527 - dense_2_loss_10: 0.0488 - dense_2_loss_11: 0.0520 - dense_2_loss_12: 0.0534 - dense_2_loss_13: 0.0460 - dense_2_loss_14: 0.0478 - dense_2_loss_15: 0.0485 - dense_2_loss_16: 0.0488 - dense_2_loss_17: 0.0435 - dense_2_loss_18: 0.0485 - dense_2_loss_19: 0.0471 - dense_2_loss_20: 0.0489 - dense_2_loss_21: 0.0501 - dense_2_loss_22: 0.0510 - dense_2_loss_23: 0.0459 - dense_2_loss_24: 0.0428 - dense_2_loss_25: 0.0520 - dense_2_loss_26: 0.0452 - dense_2_loss_27: 0.0517 - dense_2_loss_28: 0.0552 - dense_2_loss_29: 0.0629 - dense_2_loss_30: 0.0000e+00 - dense_2_acc_1: 0.1000 - dense_2_acc_2: 0.6500 - dense_2_acc_3: 0.8833 - dense_2_acc_4: 0.9833 - dense_2_acc_5: 0.9833 - dense_2_acc_6: 1.0000 - dense_2_acc_7: 1.0000 - dense_2_acc_8: 1.0000 - dense_2_acc_9: 1.0000 - dense_2_acc_10: 1.0000 - dense_2_acc_11: 1.0000 - dense_2_acc_12: 1.0000 - dense_2_acc_13: 1.0000 - dense_2_acc_14: 1.0000 - dense_2_acc_15: 1.0000 - dense_2_acc_16: 1.0000 - dense_2_acc_17: 1.0000 - dense_2_acc_18: 1.0000 - dense_2_acc_19: 1.0000 - dense_2_acc_20: 1.0000 - dense_2_acc_21: 1.0000 - dense_2_acc_22: 1.0000 - dense_2_acc_23: 1.0000 - dense_2_acc_24: 1.0000 - dense_2_acc_25: 1.0000 - dense_2_acc_26: 1.0000 - dense_2_acc_27: 1.0000 - dense_2_acc_28: 1.0000 - dense_2_acc_29: 1.0000 - dense_2_acc_30: 0.0167     \n",
      "Epoch 71/100\n"
     ]
    },
    {
     "name": "stdout",
     "output_type": "stream",
     "text": [
      "60/60 [==============================] - 0s - loss: 7.4382 - dense_2_loss_1: 3.8608 - dense_2_loss_2: 1.5114 - dense_2_loss_3: 0.5286 - dense_2_loss_4: 0.1711 - dense_2_loss_5: 0.1286 - dense_2_loss_6: 0.0890 - dense_2_loss_7: 0.0785 - dense_2_loss_8: 0.0641 - dense_2_loss_9: 0.0507 - dense_2_loss_10: 0.0472 - dense_2_loss_11: 0.0502 - dense_2_loss_12: 0.0516 - dense_2_loss_13: 0.0444 - dense_2_loss_14: 0.0461 - dense_2_loss_15: 0.0470 - dense_2_loss_16: 0.0471 - dense_2_loss_17: 0.0419 - dense_2_loss_18: 0.0469 - dense_2_loss_19: 0.0455 - dense_2_loss_20: 0.0469 - dense_2_loss_21: 0.0483 - dense_2_loss_22: 0.0492 - dense_2_loss_23: 0.0443 - dense_2_loss_24: 0.0411 - dense_2_loss_25: 0.0505 - dense_2_loss_26: 0.0438 - dense_2_loss_27: 0.0492 - dense_2_loss_28: 0.0534 - dense_2_loss_29: 0.0609 - dense_2_loss_30: 0.0000e+00 - dense_2_acc_1: 0.1000 - dense_2_acc_2: 0.6500 - dense_2_acc_3: 0.8833 - dense_2_acc_4: 0.9833 - dense_2_acc_5: 0.9833 - dense_2_acc_6: 1.0000 - dense_2_acc_7: 1.0000 - dense_2_acc_8: 1.0000 - dense_2_acc_9: 1.0000 - dense_2_acc_10: 1.0000 - dense_2_acc_11: 1.0000 - dense_2_acc_12: 1.0000 - dense_2_acc_13: 1.0000 - dense_2_acc_14: 1.0000 - dense_2_acc_15: 1.0000 - dense_2_acc_16: 1.0000 - dense_2_acc_17: 1.0000 - dense_2_acc_18: 1.0000 - dense_2_acc_19: 1.0000 - dense_2_acc_20: 1.0000 - dense_2_acc_21: 1.0000 - dense_2_acc_22: 1.0000 - dense_2_acc_23: 1.0000 - dense_2_acc_24: 1.0000 - dense_2_acc_25: 1.0000 - dense_2_acc_26: 1.0000 - dense_2_acc_27: 1.0000 - dense_2_acc_28: 1.0000 - dense_2_acc_29: 1.0000 - dense_2_acc_30: 0.0167         \n",
      "Epoch 72/100\n",
      "60/60 [==============================] - 0s - loss: 7.3542 - dense_2_loss_1: 3.8575 - dense_2_loss_2: 1.4928 - dense_2_loss_3: 0.5176 - dense_2_loss_4: 0.1662 - dense_2_loss_5: 0.1242 - dense_2_loss_6: 0.0863 - dense_2_loss_7: 0.0758 - dense_2_loss_8: 0.0620 - dense_2_loss_9: 0.0490 - dense_2_loss_10: 0.0458 - dense_2_loss_11: 0.0483 - dense_2_loss_12: 0.0498 - dense_2_loss_13: 0.0429 - dense_2_loss_14: 0.0447 - dense_2_loss_15: 0.0453 - dense_2_loss_16: 0.0456 - dense_2_loss_17: 0.0404 - dense_2_loss_18: 0.0452 - dense_2_loss_19: 0.0441 - dense_2_loss_20: 0.0453 - dense_2_loss_21: 0.0466 - dense_2_loss_22: 0.0475 - dense_2_loss_23: 0.0426 - dense_2_loss_24: 0.0399 - dense_2_loss_25: 0.0486 - dense_2_loss_26: 0.0424 - dense_2_loss_27: 0.0476 - dense_2_loss_28: 0.0516 - dense_2_loss_29: 0.0586 - dense_2_loss_30: 0.0000e+00 - dense_2_acc_1: 0.1000 - dense_2_acc_2: 0.6500 - dense_2_acc_3: 0.8833 - dense_2_acc_4: 0.9833 - dense_2_acc_5: 0.9833 - dense_2_acc_6: 1.0000 - dense_2_acc_7: 1.0000 - dense_2_acc_8: 1.0000 - dense_2_acc_9: 1.0000 - dense_2_acc_10: 1.0000 - dense_2_acc_11: 1.0000 - dense_2_acc_12: 1.0000 - dense_2_acc_13: 1.0000 - dense_2_acc_14: 1.0000 - dense_2_acc_15: 1.0000 - dense_2_acc_16: 1.0000 - dense_2_acc_17: 1.0000 - dense_2_acc_18: 1.0000 - dense_2_acc_19: 1.0000 - dense_2_acc_20: 1.0000 - dense_2_acc_21: 1.0000 - dense_2_acc_22: 1.0000 - dense_2_acc_23: 1.0000 - dense_2_acc_24: 1.0000 - dense_2_acc_25: 1.0000 - dense_2_acc_26: 1.0000 - dense_2_acc_27: 1.0000 - dense_2_acc_28: 1.0000 - dense_2_acc_29: 1.0000 - dense_2_acc_30: 0.0167     \n",
      "Epoch 73/100\n",
      "60/60 [==============================] - 0s - loss: 7.2760 - dense_2_loss_1: 3.8539 - dense_2_loss_2: 1.4756 - dense_2_loss_3: 0.5074 - dense_2_loss_4: 0.1608 - dense_2_loss_5: 0.1208 - dense_2_loss_6: 0.0837 - dense_2_loss_7: 0.0734 - dense_2_loss_8: 0.0602 - dense_2_loss_9: 0.0474 - dense_2_loss_10: 0.0445 - dense_2_loss_11: 0.0466 - dense_2_loss_12: 0.0481 - dense_2_loss_13: 0.0416 - dense_2_loss_14: 0.0435 - dense_2_loss_15: 0.0437 - dense_2_loss_16: 0.0442 - dense_2_loss_17: 0.0392 - dense_2_loss_18: 0.0437 - dense_2_loss_19: 0.0426 - dense_2_loss_20: 0.0439 - dense_2_loss_21: 0.0449 - dense_2_loss_22: 0.0460 - dense_2_loss_23: 0.0410 - dense_2_loss_24: 0.0388 - dense_2_loss_25: 0.0469 - dense_2_loss_26: 0.0410 - dense_2_loss_27: 0.0466 - dense_2_loss_28: 0.0499 - dense_2_loss_29: 0.0562 - dense_2_loss_30: 0.0000e+00 - dense_2_acc_1: 0.1000 - dense_2_acc_2: 0.6500 - dense_2_acc_3: 0.8833 - dense_2_acc_4: 0.9833 - dense_2_acc_5: 0.9833 - dense_2_acc_6: 1.0000 - dense_2_acc_7: 1.0000 - dense_2_acc_8: 1.0000 - dense_2_acc_9: 1.0000 - dense_2_acc_10: 1.0000 - dense_2_acc_11: 1.0000 - dense_2_acc_12: 1.0000 - dense_2_acc_13: 1.0000 - dense_2_acc_14: 1.0000 - dense_2_acc_15: 1.0000 - dense_2_acc_16: 1.0000 - dense_2_acc_17: 1.0000 - dense_2_acc_18: 1.0000 - dense_2_acc_19: 1.0000 - dense_2_acc_20: 1.0000 - dense_2_acc_21: 1.0000 - dense_2_acc_22: 1.0000 - dense_2_acc_23: 1.0000 - dense_2_acc_24: 1.0000 - dense_2_acc_25: 1.0000 - dense_2_acc_26: 1.0000 - dense_2_acc_27: 1.0000 - dense_2_acc_28: 1.0000 - dense_2_acc_29: 1.0000 - dense_2_acc_30: 0.0167         \n",
      "Epoch 74/100\n",
      "60/60 [==============================] - 0s - loss: 7.1965 - dense_2_loss_1: 3.8505 - dense_2_loss_2: 1.4586 - dense_2_loss_3: 0.4963 - dense_2_loss_4: 0.1553 - dense_2_loss_5: 0.1162 - dense_2_loss_6: 0.0808 - dense_2_loss_7: 0.0705 - dense_2_loss_8: 0.0584 - dense_2_loss_9: 0.0458 - dense_2_loss_10: 0.0430 - dense_2_loss_11: 0.0451 - dense_2_loss_12: 0.0464 - dense_2_loss_13: 0.0404 - dense_2_loss_14: 0.0421 - dense_2_loss_15: 0.0422 - dense_2_loss_16: 0.0428 - dense_2_loss_17: 0.0380 - dense_2_loss_18: 0.0422 - dense_2_loss_19: 0.0413 - dense_2_loss_20: 0.0424 - dense_2_loss_21: 0.0435 - dense_2_loss_22: 0.0446 - dense_2_loss_23: 0.0396 - dense_2_loss_24: 0.0374 - dense_2_loss_25: 0.0456 - dense_2_loss_26: 0.0398 - dense_2_loss_27: 0.0453 - dense_2_loss_28: 0.0482 - dense_2_loss_29: 0.0545 - dense_2_loss_30: 0.0000e+00 - dense_2_acc_1: 0.1000 - dense_2_acc_2: 0.6500 - dense_2_acc_3: 0.8833 - dense_2_acc_4: 0.9833 - dense_2_acc_5: 0.9833 - dense_2_acc_6: 1.0000 - dense_2_acc_7: 1.0000 - dense_2_acc_8: 1.0000 - dense_2_acc_9: 1.0000 - dense_2_acc_10: 1.0000 - dense_2_acc_11: 1.0000 - dense_2_acc_12: 1.0000 - dense_2_acc_13: 1.0000 - dense_2_acc_14: 1.0000 - dense_2_acc_15: 1.0000 - dense_2_acc_16: 1.0000 - dense_2_acc_17: 1.0000 - dense_2_acc_18: 1.0000 - dense_2_acc_19: 1.0000 - dense_2_acc_20: 1.0000 - dense_2_acc_21: 1.0000 - dense_2_acc_22: 1.0000 - dense_2_acc_23: 1.0000 - dense_2_acc_24: 1.0000 - dense_2_acc_25: 1.0000 - dense_2_acc_26: 1.0000 - dense_2_acc_27: 1.0000 - dense_2_acc_28: 1.0000 - dense_2_acc_29: 1.0000 - dense_2_acc_30: 0.0167         \n",
      "Epoch 75/100\n",
      "60/60 [==============================] - 0s - loss: 7.1250 - dense_2_loss_1: 3.8474 - dense_2_loss_2: 1.4416 - dense_2_loss_3: 0.4864 - dense_2_loss_4: 0.1510 - dense_2_loss_5: 0.1124 - dense_2_loss_6: 0.0785 - dense_2_loss_7: 0.0684 - dense_2_loss_8: 0.0568 - dense_2_loss_9: 0.0443 - dense_2_loss_10: 0.0417 - dense_2_loss_11: 0.0438 - dense_2_loss_12: 0.0449 - dense_2_loss_13: 0.0392 - dense_2_loss_14: 0.0408 - dense_2_loss_15: 0.0410 - dense_2_loss_16: 0.0414 - dense_2_loss_17: 0.0368 - dense_2_loss_18: 0.0409 - dense_2_loss_19: 0.0401 - dense_2_loss_20: 0.0410 - dense_2_loss_21: 0.0421 - dense_2_loss_22: 0.0434 - dense_2_loss_23: 0.0383 - dense_2_loss_24: 0.0362 - dense_2_loss_25: 0.0444 - dense_2_loss_26: 0.0385 - dense_2_loss_27: 0.0439 - dense_2_loss_28: 0.0468 - dense_2_loss_29: 0.0530 - dense_2_loss_30: 0.0000e+00 - dense_2_acc_1: 0.1000 - dense_2_acc_2: 0.6500 - dense_2_acc_3: 0.9000 - dense_2_acc_4: 0.9833 - dense_2_acc_5: 0.9833 - dense_2_acc_6: 1.0000 - dense_2_acc_7: 1.0000 - dense_2_acc_8: 1.0000 - dense_2_acc_9: 1.0000 - dense_2_acc_10: 1.0000 - dense_2_acc_11: 1.0000 - dense_2_acc_12: 1.0000 - dense_2_acc_13: 1.0000 - dense_2_acc_14: 1.0000 - dense_2_acc_15: 1.0000 - dense_2_acc_16: 1.0000 - dense_2_acc_17: 1.0000 - dense_2_acc_18: 1.0000 - dense_2_acc_19: 1.0000 - dense_2_acc_20: 1.0000 - dense_2_acc_21: 1.0000 - dense_2_acc_22: 1.0000 - dense_2_acc_23: 1.0000 - dense_2_acc_24: 1.0000 - dense_2_acc_25: 1.0000 - dense_2_acc_26: 1.0000 - dense_2_acc_27: 1.0000 - dense_2_acc_28: 1.0000 - dense_2_acc_29: 1.0000 - dense_2_acc_30: 0.0167     \n",
      "Epoch 76/100\n",
      "60/60 [==============================] - 0s - loss: 7.0540 - dense_2_loss_1: 3.8440 - dense_2_loss_2: 1.4254 - dense_2_loss_3: 0.4763 - dense_2_loss_4: 0.1465 - dense_2_loss_5: 0.1089 - dense_2_loss_6: 0.0763 - dense_2_loss_7: 0.0663 - dense_2_loss_8: 0.0552 - dense_2_loss_9: 0.0429 - dense_2_loss_10: 0.0406 - dense_2_loss_11: 0.0425 - dense_2_loss_12: 0.0435 - dense_2_loss_13: 0.0381 - dense_2_loss_14: 0.0396 - dense_2_loss_15: 0.0397 - dense_2_loss_16: 0.0402 - dense_2_loss_17: 0.0357 - dense_2_loss_18: 0.0396 - dense_2_loss_19: 0.0387 - dense_2_loss_20: 0.0398 - dense_2_loss_21: 0.0408 - dense_2_loss_22: 0.0420 - dense_2_loss_23: 0.0372 - dense_2_loss_24: 0.0352 - dense_2_loss_25: 0.0431 - dense_2_loss_26: 0.0370 - dense_2_loss_27: 0.0426 - dense_2_loss_28: 0.0455 - dense_2_loss_29: 0.0507 - dense_2_loss_30: 0.0000e+00 - dense_2_acc_1: 0.1000 - dense_2_acc_2: 0.6500 - dense_2_acc_3: 0.9000 - dense_2_acc_4: 0.9833 - dense_2_acc_5: 0.9833 - dense_2_acc_6: 1.0000 - dense_2_acc_7: 1.0000 - dense_2_acc_8: 1.0000 - dense_2_acc_9: 1.0000 - dense_2_acc_10: 1.0000 - dense_2_acc_11: 1.0000 - dense_2_acc_12: 1.0000 - dense_2_acc_13: 1.0000 - dense_2_acc_14: 1.0000 - dense_2_acc_15: 1.0000 - dense_2_acc_16: 1.0000 - dense_2_acc_17: 1.0000 - dense_2_acc_18: 1.0000 - dense_2_acc_19: 1.0000 - dense_2_acc_20: 1.0000 - dense_2_acc_21: 1.0000 - dense_2_acc_22: 1.0000 - dense_2_acc_23: 1.0000 - dense_2_acc_24: 1.0000 - dense_2_acc_25: 1.0000 - dense_2_acc_26: 1.0000 - dense_2_acc_27: 1.0000 - dense_2_acc_28: 1.0000 - dense_2_acc_29: 1.0000 - dense_2_acc_30: 0.0167     \n",
      "Epoch 77/100\n",
      "60/60 [==============================] - 0s - loss: 6.9899 - dense_2_loss_1: 3.8407 - dense_2_loss_2: 1.4100 - dense_2_loss_3: 0.4675 - dense_2_loss_4: 0.1427 - dense_2_loss_5: 0.1060 - dense_2_loss_6: 0.0743 - dense_2_loss_7: 0.0646 - dense_2_loss_8: 0.0538 - dense_2_loss_9: 0.0416 - dense_2_loss_10: 0.0395 - dense_2_loss_11: 0.0413 - dense_2_loss_12: 0.0423 - dense_2_loss_13: 0.0371 - dense_2_loss_14: 0.0385 - dense_2_loss_15: 0.0386 - dense_2_loss_16: 0.0390 - dense_2_loss_17: 0.0346 - dense_2_loss_18: 0.0385 - dense_2_loss_19: 0.0376 - dense_2_loss_20: 0.0386 - dense_2_loss_21: 0.0396 - dense_2_loss_22: 0.0407 - dense_2_loss_23: 0.0360 - dense_2_loss_24: 0.0342 - dense_2_loss_25: 0.0419 - dense_2_loss_26: 0.0361 - dense_2_loss_27: 0.0411 - dense_2_loss_28: 0.0443 - dense_2_loss_29: 0.0492 - dense_2_loss_30: 0.0000e+00 - dense_2_acc_1: 0.1000 - dense_2_acc_2: 0.6500 - dense_2_acc_3: 0.9000 - dense_2_acc_4: 0.9833 - dense_2_acc_5: 0.9833 - dense_2_acc_6: 1.0000 - dense_2_acc_7: 1.0000 - dense_2_acc_8: 1.0000 - dense_2_acc_9: 1.0000 - dense_2_acc_10: 1.0000 - dense_2_acc_11: 1.0000 - dense_2_acc_12: 1.0000 - dense_2_acc_13: 1.0000 - dense_2_acc_14: 1.0000 - dense_2_acc_15: 1.0000 - dense_2_acc_16: 1.0000 - dense_2_acc_17: 1.0000 - dense_2_acc_18: 1.0000 - dense_2_acc_19: 1.0000 - dense_2_acc_20: 1.0000 - dense_2_acc_21: 1.0000 - dense_2_acc_22: 1.0000 - dense_2_acc_23: 1.0000 - dense_2_acc_24: 1.0000 - dense_2_acc_25: 1.0000 - dense_2_acc_26: 1.0000 - dense_2_acc_27: 1.0000 - dense_2_acc_28: 1.0000 - dense_2_acc_29: 1.0000 - dense_2_acc_30: 0.0167     \n",
      "Epoch 78/100\n",
      "60/60 [==============================] - 0s - loss: 6.9251 - dense_2_loss_1: 3.8372 - dense_2_loss_2: 1.3945 - dense_2_loss_3: 0.4586 - dense_2_loss_4: 0.1388 - dense_2_loss_5: 0.1026 - dense_2_loss_6: 0.0722 - dense_2_loss_7: 0.0627 - dense_2_loss_8: 0.0522 - dense_2_loss_9: 0.0404 - dense_2_loss_10: 0.0384 - dense_2_loss_11: 0.0400 - dense_2_loss_12: 0.0409 - dense_2_loss_13: 0.0360 - dense_2_loss_14: 0.0373 - dense_2_loss_15: 0.0375 - dense_2_loss_16: 0.0378 - dense_2_loss_17: 0.0336 - dense_2_loss_18: 0.0373 - dense_2_loss_19: 0.0366 - dense_2_loss_20: 0.0376 - dense_2_loss_21: 0.0384 - dense_2_loss_22: 0.0394 - dense_2_loss_23: 0.0350 - dense_2_loss_24: 0.0332 - dense_2_loss_25: 0.0408 - dense_2_loss_26: 0.0352 - dense_2_loss_27: 0.0398 - dense_2_loss_28: 0.0430 - dense_2_loss_29: 0.0480 - dense_2_loss_30: 0.0000e+00 - dense_2_acc_1: 0.1000 - dense_2_acc_2: 0.6500 - dense_2_acc_3: 0.9000 - dense_2_acc_4: 1.0000 - dense_2_acc_5: 0.9833 - dense_2_acc_6: 1.0000 - dense_2_acc_7: 1.0000 - dense_2_acc_8: 1.0000 - dense_2_acc_9: 1.0000 - dense_2_acc_10: 1.0000 - dense_2_acc_11: 1.0000 - dense_2_acc_12: 1.0000 - dense_2_acc_13: 1.0000 - dense_2_acc_14: 1.0000 - dense_2_acc_15: 1.0000 - dense_2_acc_16: 1.0000 - dense_2_acc_17: 1.0000 - dense_2_acc_18: 1.0000 - dense_2_acc_19: 1.0000 - dense_2_acc_20: 1.0000 - dense_2_acc_21: 1.0000 - dense_2_acc_22: 1.0000 - dense_2_acc_23: 1.0000 - dense_2_acc_24: 1.0000 - dense_2_acc_25: 1.0000 - dense_2_acc_26: 1.0000 - dense_2_acc_27: 1.0000 - dense_2_acc_28: 1.0000 - dense_2_acc_29: 1.0000 - dense_2_acc_30: 0.0167         \n",
      "Epoch 79/100\n",
      "60/60 [==============================] - 0s - loss: 6.8613 - dense_2_loss_1: 3.8343 - dense_2_loss_2: 1.3794 - dense_2_loss_3: 0.4486 - dense_2_loss_4: 0.1350 - dense_2_loss_5: 0.0992 - dense_2_loss_6: 0.0703 - dense_2_loss_7: 0.0607 - dense_2_loss_8: 0.0507 - dense_2_loss_9: 0.0391 - dense_2_loss_10: 0.0373 - dense_2_loss_11: 0.0388 - dense_2_loss_12: 0.0398 - dense_2_loss_13: 0.0350 - dense_2_loss_14: 0.0363 - dense_2_loss_15: 0.0365 - dense_2_loss_16: 0.0369 - dense_2_loss_17: 0.0325 - dense_2_loss_18: 0.0363 - dense_2_loss_19: 0.0354 - dense_2_loss_20: 0.0365 - dense_2_loss_21: 0.0374 - dense_2_loss_22: 0.0382 - dense_2_loss_23: 0.0339 - dense_2_loss_24: 0.0321 - dense_2_loss_25: 0.0396 - dense_2_loss_26: 0.0344 - dense_2_loss_27: 0.0387 - dense_2_loss_28: 0.0418 - dense_2_loss_29: 0.0467 - dense_2_loss_30: 0.0000e+00 - dense_2_acc_1: 0.1000 - dense_2_acc_2: 0.6500 - dense_2_acc_3: 0.9000 - dense_2_acc_4: 1.0000 - dense_2_acc_5: 0.9833 - dense_2_acc_6: 1.0000 - dense_2_acc_7: 1.0000 - dense_2_acc_8: 1.0000 - dense_2_acc_9: 1.0000 - dense_2_acc_10: 1.0000 - dense_2_acc_11: 1.0000 - dense_2_acc_12: 1.0000 - dense_2_acc_13: 1.0000 - dense_2_acc_14: 1.0000 - dense_2_acc_15: 1.0000 - dense_2_acc_16: 1.0000 - dense_2_acc_17: 1.0000 - dense_2_acc_18: 1.0000 - dense_2_acc_19: 1.0000 - dense_2_acc_20: 1.0000 - dense_2_acc_21: 1.0000 - dense_2_acc_22: 1.0000 - dense_2_acc_23: 1.0000 - dense_2_acc_24: 1.0000 - dense_2_acc_25: 1.0000 - dense_2_acc_26: 1.0000 - dense_2_acc_27: 1.0000 - dense_2_acc_28: 1.0000 - dense_2_acc_29: 1.0000 - dense_2_acc_30: 0.0167     \n",
      "Epoch 80/100\n",
      "60/60 [==============================] - 0s - loss: 6.8028 - dense_2_loss_1: 3.8309 - dense_2_loss_2: 1.3647 - dense_2_loss_3: 0.4408 - dense_2_loss_4: 0.1313 - dense_2_loss_5: 0.0966 - dense_2_loss_6: 0.0685 - dense_2_loss_7: 0.0593 - dense_2_loss_8: 0.0494 - dense_2_loss_9: 0.0381 - dense_2_loss_10: 0.0363 - dense_2_loss_11: 0.0377 - dense_2_loss_12: 0.0386 - dense_2_loss_13: 0.0340 - dense_2_loss_14: 0.0353 - dense_2_loss_15: 0.0355 - dense_2_loss_16: 0.0359 - dense_2_loss_17: 0.0316 - dense_2_loss_18: 0.0353 - dense_2_loss_19: 0.0344 - dense_2_loss_20: 0.0355 - dense_2_loss_21: 0.0364 - dense_2_loss_22: 0.0372 - dense_2_loss_23: 0.0330 - dense_2_loss_24: 0.0313 - dense_2_loss_25: 0.0384 - dense_2_loss_26: 0.0335 - dense_2_loss_27: 0.0377 - dense_2_loss_28: 0.0405 - dense_2_loss_29: 0.0451 - dense_2_loss_30: 0.0000e+00 - dense_2_acc_1: 0.1000 - dense_2_acc_2: 0.6500 - dense_2_acc_3: 0.9000 - dense_2_acc_4: 1.0000 - dense_2_acc_5: 0.9833 - dense_2_acc_6: 1.0000 - dense_2_acc_7: 1.0000 - dense_2_acc_8: 1.0000 - dense_2_acc_9: 1.0000 - dense_2_acc_10: 1.0000 - dense_2_acc_11: 1.0000 - dense_2_acc_12: 1.0000 - dense_2_acc_13: 1.0000 - dense_2_acc_14: 1.0000 - dense_2_acc_15: 1.0000 - dense_2_acc_16: 1.0000 - dense_2_acc_17: 1.0000 - dense_2_acc_18: 1.0000 - dense_2_acc_19: 1.0000 - dense_2_acc_20: 1.0000 - dense_2_acc_21: 1.0000 - dense_2_acc_22: 1.0000 - dense_2_acc_23: 1.0000 - dense_2_acc_24: 1.0000 - dense_2_acc_25: 1.0000 - dense_2_acc_26: 1.0000 - dense_2_acc_27: 1.0000 - dense_2_acc_28: 1.0000 - dense_2_acc_29: 1.0000 - dense_2_acc_30: 0.0167         \n",
      "Epoch 81/100\n"
     ]
    },
    {
     "name": "stdout",
     "output_type": "stream",
     "text": [
      "60/60 [==============================] - 0s - loss: 6.7447 - dense_2_loss_1: 3.8277 - dense_2_loss_2: 1.3501 - dense_2_loss_3: 0.4320 - dense_2_loss_4: 0.1282 - dense_2_loss_5: 0.0934 - dense_2_loss_6: 0.0667 - dense_2_loss_7: 0.0576 - dense_2_loss_8: 0.0479 - dense_2_loss_9: 0.0371 - dense_2_loss_10: 0.0353 - dense_2_loss_11: 0.0367 - dense_2_loss_12: 0.0375 - dense_2_loss_13: 0.0330 - dense_2_loss_14: 0.0344 - dense_2_loss_15: 0.0345 - dense_2_loss_16: 0.0348 - dense_2_loss_17: 0.0307 - dense_2_loss_18: 0.0343 - dense_2_loss_19: 0.0335 - dense_2_loss_20: 0.0344 - dense_2_loss_21: 0.0355 - dense_2_loss_22: 0.0362 - dense_2_loss_23: 0.0322 - dense_2_loss_24: 0.0305 - dense_2_loss_25: 0.0374 - dense_2_loss_26: 0.0327 - dense_2_loss_27: 0.0368 - dense_2_loss_28: 0.0396 - dense_2_loss_29: 0.0441 - dense_2_loss_30: 0.0000e+00 - dense_2_acc_1: 0.1000 - dense_2_acc_2: 0.6500 - dense_2_acc_3: 0.9000 - dense_2_acc_4: 1.0000 - dense_2_acc_5: 0.9833 - dense_2_acc_6: 1.0000 - dense_2_acc_7: 1.0000 - dense_2_acc_8: 1.0000 - dense_2_acc_9: 1.0000 - dense_2_acc_10: 1.0000 - dense_2_acc_11: 1.0000 - dense_2_acc_12: 1.0000 - dense_2_acc_13: 1.0000 - dense_2_acc_14: 1.0000 - dense_2_acc_15: 1.0000 - dense_2_acc_16: 1.0000 - dense_2_acc_17: 1.0000 - dense_2_acc_18: 1.0000 - dense_2_acc_19: 1.0000 - dense_2_acc_20: 1.0000 - dense_2_acc_21: 1.0000 - dense_2_acc_22: 1.0000 - dense_2_acc_23: 1.0000 - dense_2_acc_24: 1.0000 - dense_2_acc_25: 1.0000 - dense_2_acc_26: 1.0000 - dense_2_acc_27: 1.0000 - dense_2_acc_28: 1.0000 - dense_2_acc_29: 1.0000 - dense_2_acc_30: 0.0167     \n",
      "Epoch 82/100\n",
      "60/60 [==============================] - 0s - loss: 6.6917 - dense_2_loss_1: 3.8244 - dense_2_loss_2: 1.3367 - dense_2_loss_3: 0.4245 - dense_2_loss_4: 0.1253 - dense_2_loss_5: 0.0912 - dense_2_loss_6: 0.0652 - dense_2_loss_7: 0.0562 - dense_2_loss_8: 0.0468 - dense_2_loss_9: 0.0361 - dense_2_loss_10: 0.0343 - dense_2_loss_11: 0.0358 - dense_2_loss_12: 0.0365 - dense_2_loss_13: 0.0322 - dense_2_loss_14: 0.0335 - dense_2_loss_15: 0.0337 - dense_2_loss_16: 0.0339 - dense_2_loss_17: 0.0298 - dense_2_loss_18: 0.0334 - dense_2_loss_19: 0.0327 - dense_2_loss_20: 0.0335 - dense_2_loss_21: 0.0345 - dense_2_loss_22: 0.0353 - dense_2_loss_23: 0.0313 - dense_2_loss_24: 0.0296 - dense_2_loss_25: 0.0366 - dense_2_loss_26: 0.0318 - dense_2_loss_27: 0.0356 - dense_2_loss_28: 0.0385 - dense_2_loss_29: 0.0428 - dense_2_loss_30: 0.0000e+00 - dense_2_acc_1: 0.1000 - dense_2_acc_2: 0.6500 - dense_2_acc_3: 0.9000 - dense_2_acc_4: 1.0000 - dense_2_acc_5: 1.0000 - dense_2_acc_6: 1.0000 - dense_2_acc_7: 1.0000 - dense_2_acc_8: 1.0000 - dense_2_acc_9: 1.0000 - dense_2_acc_10: 1.0000 - dense_2_acc_11: 1.0000 - dense_2_acc_12: 1.0000 - dense_2_acc_13: 1.0000 - dense_2_acc_14: 1.0000 - dense_2_acc_15: 1.0000 - dense_2_acc_16: 1.0000 - dense_2_acc_17: 1.0000 - dense_2_acc_18: 1.0000 - dense_2_acc_19: 1.0000 - dense_2_acc_20: 1.0000 - dense_2_acc_21: 1.0000 - dense_2_acc_22: 1.0000 - dense_2_acc_23: 1.0000 - dense_2_acc_24: 1.0000 - dense_2_acc_25: 1.0000 - dense_2_acc_26: 1.0000 - dense_2_acc_27: 1.0000 - dense_2_acc_28: 1.0000 - dense_2_acc_29: 1.0000 - dense_2_acc_30: 0.0167         \n",
      "Epoch 83/100\n",
      "60/60 [==============================] - 0s - loss: 6.6359 - dense_2_loss_1: 3.8213 - dense_2_loss_2: 1.3221 - dense_2_loss_3: 0.4159 - dense_2_loss_4: 0.1219 - dense_2_loss_5: 0.0884 - dense_2_loss_6: 0.0634 - dense_2_loss_7: 0.0546 - dense_2_loss_8: 0.0455 - dense_2_loss_9: 0.0350 - dense_2_loss_10: 0.0334 - dense_2_loss_11: 0.0348 - dense_2_loss_12: 0.0355 - dense_2_loss_13: 0.0314 - dense_2_loss_14: 0.0326 - dense_2_loss_15: 0.0328 - dense_2_loss_16: 0.0330 - dense_2_loss_17: 0.0292 - dense_2_loss_18: 0.0325 - dense_2_loss_19: 0.0318 - dense_2_loss_20: 0.0326 - dense_2_loss_21: 0.0336 - dense_2_loss_22: 0.0343 - dense_2_loss_23: 0.0306 - dense_2_loss_24: 0.0289 - dense_2_loss_25: 0.0356 - dense_2_loss_26: 0.0309 - dense_2_loss_27: 0.0347 - dense_2_loss_28: 0.0376 - dense_2_loss_29: 0.0418 - dense_2_loss_30: 0.0000e+00 - dense_2_acc_1: 0.1000 - dense_2_acc_2: 0.6500 - dense_2_acc_3: 0.9000 - dense_2_acc_4: 1.0000 - dense_2_acc_5: 1.0000 - dense_2_acc_6: 1.0000 - dense_2_acc_7: 1.0000 - dense_2_acc_8: 1.0000 - dense_2_acc_9: 1.0000 - dense_2_acc_10: 1.0000 - dense_2_acc_11: 1.0000 - dense_2_acc_12: 1.0000 - dense_2_acc_13: 1.0000 - dense_2_acc_14: 1.0000 - dense_2_acc_15: 1.0000 - dense_2_acc_16: 1.0000 - dense_2_acc_17: 1.0000 - dense_2_acc_18: 1.0000 - dense_2_acc_19: 1.0000 - dense_2_acc_20: 1.0000 - dense_2_acc_21: 1.0000 - dense_2_acc_22: 1.0000 - dense_2_acc_23: 1.0000 - dense_2_acc_24: 1.0000 - dense_2_acc_25: 1.0000 - dense_2_acc_26: 1.0000 - dense_2_acc_27: 1.0000 - dense_2_acc_28: 1.0000 - dense_2_acc_29: 1.0000 - dense_2_acc_30: 0.0167     \n",
      "Epoch 84/100\n",
      "60/60 [==============================] - 0s - loss: 6.5858 - dense_2_loss_1: 3.8181 - dense_2_loss_2: 1.3087 - dense_2_loss_3: 0.4086 - dense_2_loss_4: 0.1193 - dense_2_loss_5: 0.0862 - dense_2_loss_6: 0.0619 - dense_2_loss_7: 0.0533 - dense_2_loss_8: 0.0444 - dense_2_loss_9: 0.0342 - dense_2_loss_10: 0.0326 - dense_2_loss_11: 0.0339 - dense_2_loss_12: 0.0346 - dense_2_loss_13: 0.0307 - dense_2_loss_14: 0.0319 - dense_2_loss_15: 0.0320 - dense_2_loss_16: 0.0322 - dense_2_loss_17: 0.0284 - dense_2_loss_18: 0.0317 - dense_2_loss_19: 0.0310 - dense_2_loss_20: 0.0318 - dense_2_loss_21: 0.0327 - dense_2_loss_22: 0.0334 - dense_2_loss_23: 0.0297 - dense_2_loss_24: 0.0282 - dense_2_loss_25: 0.0347 - dense_2_loss_26: 0.0302 - dense_2_loss_27: 0.0339 - dense_2_loss_28: 0.0368 - dense_2_loss_29: 0.0407 - dense_2_loss_30: 0.0000e+00 - dense_2_acc_1: 0.1000 - dense_2_acc_2: 0.6500 - dense_2_acc_3: 0.9167 - dense_2_acc_4: 1.0000 - dense_2_acc_5: 1.0000 - dense_2_acc_6: 1.0000 - dense_2_acc_7: 1.0000 - dense_2_acc_8: 1.0000 - dense_2_acc_9: 1.0000 - dense_2_acc_10: 1.0000 - dense_2_acc_11: 1.0000 - dense_2_acc_12: 1.0000 - dense_2_acc_13: 1.0000 - dense_2_acc_14: 1.0000 - dense_2_acc_15: 1.0000 - dense_2_acc_16: 1.0000 - dense_2_acc_17: 1.0000 - dense_2_acc_18: 1.0000 - dense_2_acc_19: 1.0000 - dense_2_acc_20: 1.0000 - dense_2_acc_21: 1.0000 - dense_2_acc_22: 1.0000 - dense_2_acc_23: 1.0000 - dense_2_acc_24: 1.0000 - dense_2_acc_25: 1.0000 - dense_2_acc_26: 1.0000 - dense_2_acc_27: 1.0000 - dense_2_acc_28: 1.0000 - dense_2_acc_29: 1.0000 - dense_2_acc_30: 0.0167     \n",
      "Epoch 85/100\n",
      "60/60 [==============================] - 0s - loss: 6.5358 - dense_2_loss_1: 3.8148 - dense_2_loss_2: 1.2960 - dense_2_loss_3: 0.4006 - dense_2_loss_4: 0.1164 - dense_2_loss_5: 0.0839 - dense_2_loss_6: 0.0604 - dense_2_loss_7: 0.0520 - dense_2_loss_8: 0.0433 - dense_2_loss_9: 0.0333 - dense_2_loss_10: 0.0319 - dense_2_loss_11: 0.0330 - dense_2_loss_12: 0.0337 - dense_2_loss_13: 0.0300 - dense_2_loss_14: 0.0312 - dense_2_loss_15: 0.0310 - dense_2_loss_16: 0.0314 - dense_2_loss_17: 0.0277 - dense_2_loss_18: 0.0309 - dense_2_loss_19: 0.0302 - dense_2_loss_20: 0.0310 - dense_2_loss_21: 0.0319 - dense_2_loss_22: 0.0325 - dense_2_loss_23: 0.0290 - dense_2_loss_24: 0.0276 - dense_2_loss_25: 0.0338 - dense_2_loss_26: 0.0294 - dense_2_loss_27: 0.0331 - dense_2_loss_28: 0.0358 - dense_2_loss_29: 0.0396 - dense_2_loss_30: 0.0000e+00 - dense_2_acc_1: 0.1000 - dense_2_acc_2: 0.6500 - dense_2_acc_3: 0.9167 - dense_2_acc_4: 1.0000 - dense_2_acc_5: 1.0000 - dense_2_acc_6: 1.0000 - dense_2_acc_7: 1.0000 - dense_2_acc_8: 1.0000 - dense_2_acc_9: 1.0000 - dense_2_acc_10: 1.0000 - dense_2_acc_11: 1.0000 - dense_2_acc_12: 1.0000 - dense_2_acc_13: 1.0000 - dense_2_acc_14: 1.0000 - dense_2_acc_15: 1.0000 - dense_2_acc_16: 1.0000 - dense_2_acc_17: 1.0000 - dense_2_acc_18: 1.0000 - dense_2_acc_19: 1.0000 - dense_2_acc_20: 1.0000 - dense_2_acc_21: 1.0000 - dense_2_acc_22: 1.0000 - dense_2_acc_23: 1.0000 - dense_2_acc_24: 1.0000 - dense_2_acc_25: 1.0000 - dense_2_acc_26: 1.0000 - dense_2_acc_27: 1.0000 - dense_2_acc_28: 1.0000 - dense_2_acc_29: 1.0000 - dense_2_acc_30: 0.0167     \n",
      "Epoch 86/100\n",
      "60/60 [==============================] - 0s - loss: 6.4886 - dense_2_loss_1: 3.8120 - dense_2_loss_2: 1.2829 - dense_2_loss_3: 0.3935 - dense_2_loss_4: 0.1139 - dense_2_loss_5: 0.0819 - dense_2_loss_6: 0.0591 - dense_2_loss_7: 0.0508 - dense_2_loss_8: 0.0424 - dense_2_loss_9: 0.0325 - dense_2_loss_10: 0.0312 - dense_2_loss_11: 0.0323 - dense_2_loss_12: 0.0329 - dense_2_loss_13: 0.0293 - dense_2_loss_14: 0.0305 - dense_2_loss_15: 0.0303 - dense_2_loss_16: 0.0307 - dense_2_loss_17: 0.0270 - dense_2_loss_18: 0.0302 - dense_2_loss_19: 0.0295 - dense_2_loss_20: 0.0302 - dense_2_loss_21: 0.0311 - dense_2_loss_22: 0.0317 - dense_2_loss_23: 0.0283 - dense_2_loss_24: 0.0269 - dense_2_loss_25: 0.0330 - dense_2_loss_26: 0.0287 - dense_2_loss_27: 0.0324 - dense_2_loss_28: 0.0349 - dense_2_loss_29: 0.0387 - dense_2_loss_30: 0.0000e+00 - dense_2_acc_1: 0.1000 - dense_2_acc_2: 0.6500 - dense_2_acc_3: 0.9333 - dense_2_acc_4: 1.0000 - dense_2_acc_5: 1.0000 - dense_2_acc_6: 1.0000 - dense_2_acc_7: 1.0000 - dense_2_acc_8: 1.0000 - dense_2_acc_9: 1.0000 - dense_2_acc_10: 1.0000 - dense_2_acc_11: 1.0000 - dense_2_acc_12: 1.0000 - dense_2_acc_13: 1.0000 - dense_2_acc_14: 1.0000 - dense_2_acc_15: 1.0000 - dense_2_acc_16: 1.0000 - dense_2_acc_17: 1.0000 - dense_2_acc_18: 1.0000 - dense_2_acc_19: 1.0000 - dense_2_acc_20: 1.0000 - dense_2_acc_21: 1.0000 - dense_2_acc_22: 1.0000 - dense_2_acc_23: 1.0000 - dense_2_acc_24: 1.0000 - dense_2_acc_25: 1.0000 - dense_2_acc_26: 1.0000 - dense_2_acc_27: 1.0000 - dense_2_acc_28: 1.0000 - dense_2_acc_29: 1.0000 - dense_2_acc_30: 0.0167         \n",
      "Epoch 87/100\n",
      "60/60 [==============================] - 0s - loss: 6.4437 - dense_2_loss_1: 3.8086 - dense_2_loss_2: 1.2712 - dense_2_loss_3: 0.3868 - dense_2_loss_4: 0.1113 - dense_2_loss_5: 0.0802 - dense_2_loss_6: 0.0577 - dense_2_loss_7: 0.0497 - dense_2_loss_8: 0.0414 - dense_2_loss_9: 0.0317 - dense_2_loss_10: 0.0305 - dense_2_loss_11: 0.0314 - dense_2_loss_12: 0.0321 - dense_2_loss_13: 0.0286 - dense_2_loss_14: 0.0298 - dense_2_loss_15: 0.0296 - dense_2_loss_16: 0.0300 - dense_2_loss_17: 0.0263 - dense_2_loss_18: 0.0294 - dense_2_loss_19: 0.0288 - dense_2_loss_20: 0.0295 - dense_2_loss_21: 0.0303 - dense_2_loss_22: 0.0310 - dense_2_loss_23: 0.0276 - dense_2_loss_24: 0.0263 - dense_2_loss_25: 0.0323 - dense_2_loss_26: 0.0281 - dense_2_loss_27: 0.0314 - dense_2_loss_28: 0.0341 - dense_2_loss_29: 0.0378 - dense_2_loss_30: 0.0000e+00 - dense_2_acc_1: 0.1000 - dense_2_acc_2: 0.6500 - dense_2_acc_3: 0.9333 - dense_2_acc_4: 1.0000 - dense_2_acc_5: 1.0000 - dense_2_acc_6: 1.0000 - dense_2_acc_7: 1.0000 - dense_2_acc_8: 1.0000 - dense_2_acc_9: 1.0000 - dense_2_acc_10: 1.0000 - dense_2_acc_11: 1.0000 - dense_2_acc_12: 1.0000 - dense_2_acc_13: 1.0000 - dense_2_acc_14: 1.0000 - dense_2_acc_15: 1.0000 - dense_2_acc_16: 1.0000 - dense_2_acc_17: 1.0000 - dense_2_acc_18: 1.0000 - dense_2_acc_19: 1.0000 - dense_2_acc_20: 1.0000 - dense_2_acc_21: 1.0000 - dense_2_acc_22: 1.0000 - dense_2_acc_23: 1.0000 - dense_2_acc_24: 1.0000 - dense_2_acc_25: 1.0000 - dense_2_acc_26: 1.0000 - dense_2_acc_27: 1.0000 - dense_2_acc_28: 1.0000 - dense_2_acc_29: 1.0000 - dense_2_acc_30: 0.0167         \n",
      "Epoch 88/100\n",
      "60/60 [==============================] - 0s - loss: 6.3981 - dense_2_loss_1: 3.8054 - dense_2_loss_2: 1.2587 - dense_2_loss_3: 0.3795 - dense_2_loss_4: 0.1090 - dense_2_loss_5: 0.0782 - dense_2_loss_6: 0.0563 - dense_2_loss_7: 0.0486 - dense_2_loss_8: 0.0405 - dense_2_loss_9: 0.0309 - dense_2_loss_10: 0.0299 - dense_2_loss_11: 0.0307 - dense_2_loss_12: 0.0313 - dense_2_loss_13: 0.0280 - dense_2_loss_14: 0.0292 - dense_2_loss_15: 0.0289 - dense_2_loss_16: 0.0293 - dense_2_loss_17: 0.0258 - dense_2_loss_18: 0.0287 - dense_2_loss_19: 0.0281 - dense_2_loss_20: 0.0289 - dense_2_loss_21: 0.0296 - dense_2_loss_22: 0.0302 - dense_2_loss_23: 0.0270 - dense_2_loss_24: 0.0257 - dense_2_loss_25: 0.0315 - dense_2_loss_26: 0.0274 - dense_2_loss_27: 0.0308 - dense_2_loss_28: 0.0333 - dense_2_loss_29: 0.0368 - dense_2_loss_30: 0.0000e+00 - dense_2_acc_1: 0.1000 - dense_2_acc_2: 0.6500 - dense_2_acc_3: 0.9333 - dense_2_acc_4: 1.0000 - dense_2_acc_5: 1.0000 - dense_2_acc_6: 1.0000 - dense_2_acc_7: 1.0000 - dense_2_acc_8: 1.0000 - dense_2_acc_9: 1.0000 - dense_2_acc_10: 1.0000 - dense_2_acc_11: 1.0000 - dense_2_acc_12: 1.0000 - dense_2_acc_13: 1.0000 - dense_2_acc_14: 1.0000 - dense_2_acc_15: 1.0000 - dense_2_acc_16: 1.0000 - dense_2_acc_17: 1.0000 - dense_2_acc_18: 1.0000 - dense_2_acc_19: 1.0000 - dense_2_acc_20: 1.0000 - dense_2_acc_21: 1.0000 - dense_2_acc_22: 1.0000 - dense_2_acc_23: 1.0000 - dense_2_acc_24: 1.0000 - dense_2_acc_25: 1.0000 - dense_2_acc_26: 1.0000 - dense_2_acc_27: 1.0000 - dense_2_acc_28: 1.0000 - dense_2_acc_29: 1.0000 - dense_2_acc_30: 0.0167     \n",
      "Epoch 89/100\n",
      "60/60 [==============================] - 0s - loss: 6.3545 - dense_2_loss_1: 3.8023 - dense_2_loss_2: 1.2467 - dense_2_loss_3: 0.3727 - dense_2_loss_4: 0.1066 - dense_2_loss_5: 0.0762 - dense_2_loss_6: 0.0550 - dense_2_loss_7: 0.0474 - dense_2_loss_8: 0.0396 - dense_2_loss_9: 0.0302 - dense_2_loss_10: 0.0292 - dense_2_loss_11: 0.0299 - dense_2_loss_12: 0.0306 - dense_2_loss_13: 0.0274 - dense_2_loss_14: 0.0285 - dense_2_loss_15: 0.0282 - dense_2_loss_16: 0.0286 - dense_2_loss_17: 0.0252 - dense_2_loss_18: 0.0281 - dense_2_loss_19: 0.0274 - dense_2_loss_20: 0.0282 - dense_2_loss_21: 0.0289 - dense_2_loss_22: 0.0296 - dense_2_loss_23: 0.0264 - dense_2_loss_24: 0.0251 - dense_2_loss_25: 0.0308 - dense_2_loss_26: 0.0269 - dense_2_loss_27: 0.0301 - dense_2_loss_28: 0.0326 - dense_2_loss_29: 0.0360 - dense_2_loss_30: 0.0000e+00 - dense_2_acc_1: 0.1000 - dense_2_acc_2: 0.6500 - dense_2_acc_3: 0.9333 - dense_2_acc_4: 1.0000 - dense_2_acc_5: 1.0000 - dense_2_acc_6: 1.0000 - dense_2_acc_7: 1.0000 - dense_2_acc_8: 1.0000 - dense_2_acc_9: 1.0000 - dense_2_acc_10: 1.0000 - dense_2_acc_11: 1.0000 - dense_2_acc_12: 1.0000 - dense_2_acc_13: 1.0000 - dense_2_acc_14: 1.0000 - dense_2_acc_15: 1.0000 - dense_2_acc_16: 1.0000 - dense_2_acc_17: 1.0000 - dense_2_acc_18: 1.0000 - dense_2_acc_19: 1.0000 - dense_2_acc_20: 1.0000 - dense_2_acc_21: 1.0000 - dense_2_acc_22: 1.0000 - dense_2_acc_23: 1.0000 - dense_2_acc_24: 1.0000 - dense_2_acc_25: 1.0000 - dense_2_acc_26: 1.0000 - dense_2_acc_27: 1.0000 - dense_2_acc_28: 1.0000 - dense_2_acc_29: 1.0000 - dense_2_acc_30: 0.0167         \n",
      "Epoch 90/100\n",
      "60/60 [==============================] - 0s - loss: 6.3138 - dense_2_loss_1: 3.7992 - dense_2_loss_2: 1.2356 - dense_2_loss_3: 0.3665 - dense_2_loss_4: 0.1042 - dense_2_loss_5: 0.0747 - dense_2_loss_6: 0.0539 - dense_2_loss_7: 0.0465 - dense_2_loss_8: 0.0387 - dense_2_loss_9: 0.0295 - dense_2_loss_10: 0.0285 - dense_2_loss_11: 0.0293 - dense_2_loss_12: 0.0299 - dense_2_loss_13: 0.0268 - dense_2_loss_14: 0.0278 - dense_2_loss_15: 0.0276 - dense_2_loss_16: 0.0279 - dense_2_loss_17: 0.0246 - dense_2_loss_18: 0.0275 - dense_2_loss_19: 0.0268 - dense_2_loss_20: 0.0276 - dense_2_loss_21: 0.0282 - dense_2_loss_22: 0.0291 - dense_2_loss_23: 0.0258 - dense_2_loss_24: 0.0245 - dense_2_loss_25: 0.0302 - dense_2_loss_26: 0.0263 - dense_2_loss_27: 0.0294 - dense_2_loss_28: 0.0319 - dense_2_loss_29: 0.0352 - dense_2_loss_30: 0.0000e+00 - dense_2_acc_1: 0.1000 - dense_2_acc_2: 0.6500 - dense_2_acc_3: 0.9333 - dense_2_acc_4: 1.0000 - dense_2_acc_5: 1.0000 - dense_2_acc_6: 1.0000 - dense_2_acc_7: 1.0000 - dense_2_acc_8: 1.0000 - dense_2_acc_9: 1.0000 - dense_2_acc_10: 1.0000 - dense_2_acc_11: 1.0000 - dense_2_acc_12: 1.0000 - dense_2_acc_13: 1.0000 - dense_2_acc_14: 1.0000 - dense_2_acc_15: 1.0000 - dense_2_acc_16: 1.0000 - dense_2_acc_17: 1.0000 - dense_2_acc_18: 1.0000 - dense_2_acc_19: 1.0000 - dense_2_acc_20: 1.0000 - dense_2_acc_21: 1.0000 - dense_2_acc_22: 1.0000 - dense_2_acc_23: 1.0000 - dense_2_acc_24: 1.0000 - dense_2_acc_25: 1.0000 - dense_2_acc_26: 1.0000 - dense_2_acc_27: 1.0000 - dense_2_acc_28: 1.0000 - dense_2_acc_29: 1.0000 - dense_2_acc_30: 0.0167         \n",
      "Epoch 91/100\n"
     ]
    },
    {
     "name": "stdout",
     "output_type": "stream",
     "text": [
      "60/60 [==============================] - 0s - loss: 6.2740 - dense_2_loss_1: 3.7964 - dense_2_loss_2: 1.2243 - dense_2_loss_3: 0.3606 - dense_2_loss_4: 0.1021 - dense_2_loss_5: 0.0731 - dense_2_loss_6: 0.0527 - dense_2_loss_7: 0.0456 - dense_2_loss_8: 0.0379 - dense_2_loss_9: 0.0288 - dense_2_loss_10: 0.0278 - dense_2_loss_11: 0.0287 - dense_2_loss_12: 0.0292 - dense_2_loss_13: 0.0261 - dense_2_loss_14: 0.0272 - dense_2_loss_15: 0.0271 - dense_2_loss_16: 0.0272 - dense_2_loss_17: 0.0240 - dense_2_loss_18: 0.0269 - dense_2_loss_19: 0.0262 - dense_2_loss_20: 0.0270 - dense_2_loss_21: 0.0276 - dense_2_loss_22: 0.0284 - dense_2_loss_23: 0.0251 - dense_2_loss_24: 0.0239 - dense_2_loss_25: 0.0296 - dense_2_loss_26: 0.0258 - dense_2_loss_27: 0.0287 - dense_2_loss_28: 0.0312 - dense_2_loss_29: 0.0345 - dense_2_loss_30: 0.0000e+00 - dense_2_acc_1: 0.1000 - dense_2_acc_2: 0.6500 - dense_2_acc_3: 0.9333 - dense_2_acc_4: 1.0000 - dense_2_acc_5: 1.0000 - dense_2_acc_6: 1.0000 - dense_2_acc_7: 1.0000 - dense_2_acc_8: 1.0000 - dense_2_acc_9: 1.0000 - dense_2_acc_10: 1.0000 - dense_2_acc_11: 1.0000 - dense_2_acc_12: 1.0000 - dense_2_acc_13: 1.0000 - dense_2_acc_14: 1.0000 - dense_2_acc_15: 1.0000 - dense_2_acc_16: 1.0000 - dense_2_acc_17: 1.0000 - dense_2_acc_18: 1.0000 - dense_2_acc_19: 1.0000 - dense_2_acc_20: 1.0000 - dense_2_acc_21: 1.0000 - dense_2_acc_22: 1.0000 - dense_2_acc_23: 1.0000 - dense_2_acc_24: 1.0000 - dense_2_acc_25: 1.0000 - dense_2_acc_26: 1.0000 - dense_2_acc_27: 1.0000 - dense_2_acc_28: 1.0000 - dense_2_acc_29: 1.0000 - dense_2_acc_30: 0.0167     \n",
      "Epoch 92/100\n",
      "60/60 [==============================] - 0s - loss: 6.2335 - dense_2_loss_1: 3.7931 - dense_2_loss_2: 1.2131 - dense_2_loss_3: 0.3541 - dense_2_loss_4: 0.1000 - dense_2_loss_5: 0.0716 - dense_2_loss_6: 0.0515 - dense_2_loss_7: 0.0447 - dense_2_loss_8: 0.0371 - dense_2_loss_9: 0.0282 - dense_2_loss_10: 0.0273 - dense_2_loss_11: 0.0281 - dense_2_loss_12: 0.0285 - dense_2_loss_13: 0.0256 - dense_2_loss_14: 0.0267 - dense_2_loss_15: 0.0265 - dense_2_loss_16: 0.0267 - dense_2_loss_17: 0.0235 - dense_2_loss_18: 0.0262 - dense_2_loss_19: 0.0256 - dense_2_loss_20: 0.0264 - dense_2_loss_21: 0.0270 - dense_2_loss_22: 0.0277 - dense_2_loss_23: 0.0245 - dense_2_loss_24: 0.0234 - dense_2_loss_25: 0.0289 - dense_2_loss_26: 0.0252 - dense_2_loss_27: 0.0282 - dense_2_loss_28: 0.0305 - dense_2_loss_29: 0.0337 - dense_2_loss_30: 0.0000e+00 - dense_2_acc_1: 0.1000 - dense_2_acc_2: 0.6500 - dense_2_acc_3: 0.9333 - dense_2_acc_4: 1.0000 - dense_2_acc_5: 1.0000 - dense_2_acc_6: 1.0000 - dense_2_acc_7: 1.0000 - dense_2_acc_8: 1.0000 - dense_2_acc_9: 1.0000 - dense_2_acc_10: 1.0000 - dense_2_acc_11: 1.0000 - dense_2_acc_12: 1.0000 - dense_2_acc_13: 1.0000 - dense_2_acc_14: 1.0000 - dense_2_acc_15: 1.0000 - dense_2_acc_16: 1.0000 - dense_2_acc_17: 1.0000 - dense_2_acc_18: 1.0000 - dense_2_acc_19: 1.0000 - dense_2_acc_20: 1.0000 - dense_2_acc_21: 1.0000 - dense_2_acc_22: 1.0000 - dense_2_acc_23: 1.0000 - dense_2_acc_24: 1.0000 - dense_2_acc_25: 1.0000 - dense_2_acc_26: 1.0000 - dense_2_acc_27: 1.0000 - dense_2_acc_28: 1.0000 - dense_2_acc_29: 1.0000 - dense_2_acc_30: 0.0167     \n",
      "Epoch 93/100\n",
      "60/60 [==============================] - 0s - loss: 6.1961 - dense_2_loss_1: 3.7901 - dense_2_loss_2: 1.2026 - dense_2_loss_3: 0.3480 - dense_2_loss_4: 0.0981 - dense_2_loss_5: 0.0702 - dense_2_loss_6: 0.0504 - dense_2_loss_7: 0.0438 - dense_2_loss_8: 0.0363 - dense_2_loss_9: 0.0276 - dense_2_loss_10: 0.0268 - dense_2_loss_11: 0.0275 - dense_2_loss_12: 0.0278 - dense_2_loss_13: 0.0250 - dense_2_loss_14: 0.0262 - dense_2_loss_15: 0.0258 - dense_2_loss_16: 0.0262 - dense_2_loss_17: 0.0230 - dense_2_loss_18: 0.0256 - dense_2_loss_19: 0.0252 - dense_2_loss_20: 0.0258 - dense_2_loss_21: 0.0265 - dense_2_loss_22: 0.0271 - dense_2_loss_23: 0.0240 - dense_2_loss_24: 0.0229 - dense_2_loss_25: 0.0283 - dense_2_loss_26: 0.0247 - dense_2_loss_27: 0.0276 - dense_2_loss_28: 0.0299 - dense_2_loss_29: 0.0330 - dense_2_loss_30: 0.0000e+00 - dense_2_acc_1: 0.1000 - dense_2_acc_2: 0.6500 - dense_2_acc_3: 0.9333 - dense_2_acc_4: 1.0000 - dense_2_acc_5: 1.0000 - dense_2_acc_6: 1.0000 - dense_2_acc_7: 1.0000 - dense_2_acc_8: 1.0000 - dense_2_acc_9: 1.0000 - dense_2_acc_10: 1.0000 - dense_2_acc_11: 1.0000 - dense_2_acc_12: 1.0000 - dense_2_acc_13: 1.0000 - dense_2_acc_14: 1.0000 - dense_2_acc_15: 1.0000 - dense_2_acc_16: 1.0000 - dense_2_acc_17: 1.0000 - dense_2_acc_18: 1.0000 - dense_2_acc_19: 1.0000 - dense_2_acc_20: 1.0000 - dense_2_acc_21: 1.0000 - dense_2_acc_22: 1.0000 - dense_2_acc_23: 1.0000 - dense_2_acc_24: 1.0000 - dense_2_acc_25: 1.0000 - dense_2_acc_26: 1.0000 - dense_2_acc_27: 1.0000 - dense_2_acc_28: 1.0000 - dense_2_acc_29: 1.0000 - dense_2_acc_30: 0.0167     \n",
      "Epoch 94/100\n",
      "60/60 [==============================] - 0s - loss: 6.1596 - dense_2_loss_1: 3.7875 - dense_2_loss_2: 1.1917 - dense_2_loss_3: 0.3419 - dense_2_loss_4: 0.0965 - dense_2_loss_5: 0.0688 - dense_2_loss_6: 0.0495 - dense_2_loss_7: 0.0430 - dense_2_loss_8: 0.0356 - dense_2_loss_9: 0.0270 - dense_2_loss_10: 0.0263 - dense_2_loss_11: 0.0269 - dense_2_loss_12: 0.0272 - dense_2_loss_13: 0.0245 - dense_2_loss_14: 0.0256 - dense_2_loss_15: 0.0253 - dense_2_loss_16: 0.0257 - dense_2_loss_17: 0.0225 - dense_2_loss_18: 0.0251 - dense_2_loss_19: 0.0247 - dense_2_loss_20: 0.0252 - dense_2_loss_21: 0.0260 - dense_2_loss_22: 0.0266 - dense_2_loss_23: 0.0235 - dense_2_loss_24: 0.0224 - dense_2_loss_25: 0.0277 - dense_2_loss_26: 0.0242 - dense_2_loss_27: 0.0270 - dense_2_loss_28: 0.0293 - dense_2_loss_29: 0.0324 - dense_2_loss_30: 0.0000e+00 - dense_2_acc_1: 0.1000 - dense_2_acc_2: 0.6500 - dense_2_acc_3: 0.9333 - dense_2_acc_4: 1.0000 - dense_2_acc_5: 1.0000 - dense_2_acc_6: 1.0000 - dense_2_acc_7: 1.0000 - dense_2_acc_8: 1.0000 - dense_2_acc_9: 1.0000 - dense_2_acc_10: 1.0000 - dense_2_acc_11: 1.0000 - dense_2_acc_12: 1.0000 - dense_2_acc_13: 1.0000 - dense_2_acc_14: 1.0000 - dense_2_acc_15: 1.0000 - dense_2_acc_16: 1.0000 - dense_2_acc_17: 1.0000 - dense_2_acc_18: 1.0000 - dense_2_acc_19: 1.0000 - dense_2_acc_20: 1.0000 - dense_2_acc_21: 1.0000 - dense_2_acc_22: 1.0000 - dense_2_acc_23: 1.0000 - dense_2_acc_24: 1.0000 - dense_2_acc_25: 1.0000 - dense_2_acc_26: 1.0000 - dense_2_acc_27: 1.0000 - dense_2_acc_28: 1.0000 - dense_2_acc_29: 1.0000 - dense_2_acc_30: 0.0167     \n",
      "Epoch 95/100\n",
      "60/60 [==============================] - 0s - loss: 6.1236 - dense_2_loss_1: 3.7844 - dense_2_loss_2: 1.1819 - dense_2_loss_3: 0.3357 - dense_2_loss_4: 0.0946 - dense_2_loss_5: 0.0672 - dense_2_loss_6: 0.0484 - dense_2_loss_7: 0.0422 - dense_2_loss_8: 0.0349 - dense_2_loss_9: 0.0264 - dense_2_loss_10: 0.0257 - dense_2_loss_11: 0.0263 - dense_2_loss_12: 0.0266 - dense_2_loss_13: 0.0241 - dense_2_loss_14: 0.0250 - dense_2_loss_15: 0.0249 - dense_2_loss_16: 0.0251 - dense_2_loss_17: 0.0221 - dense_2_loss_18: 0.0246 - dense_2_loss_19: 0.0241 - dense_2_loss_20: 0.0247 - dense_2_loss_21: 0.0254 - dense_2_loss_22: 0.0260 - dense_2_loss_23: 0.0230 - dense_2_loss_24: 0.0220 - dense_2_loss_25: 0.0272 - dense_2_loss_26: 0.0237 - dense_2_loss_27: 0.0265 - dense_2_loss_28: 0.0288 - dense_2_loss_29: 0.0318 - dense_2_loss_30: 0.0000e+00 - dense_2_acc_1: 0.1000 - dense_2_acc_2: 0.6500 - dense_2_acc_3: 0.9333 - dense_2_acc_4: 1.0000 - dense_2_acc_5: 1.0000 - dense_2_acc_6: 1.0000 - dense_2_acc_7: 1.0000 - dense_2_acc_8: 1.0000 - dense_2_acc_9: 1.0000 - dense_2_acc_10: 1.0000 - dense_2_acc_11: 1.0000 - dense_2_acc_12: 1.0000 - dense_2_acc_13: 1.0000 - dense_2_acc_14: 1.0000 - dense_2_acc_15: 1.0000 - dense_2_acc_16: 1.0000 - dense_2_acc_17: 1.0000 - dense_2_acc_18: 1.0000 - dense_2_acc_19: 1.0000 - dense_2_acc_20: 1.0000 - dense_2_acc_21: 1.0000 - dense_2_acc_22: 1.0000 - dense_2_acc_23: 1.0000 - dense_2_acc_24: 1.0000 - dense_2_acc_25: 1.0000 - dense_2_acc_26: 1.0000 - dense_2_acc_27: 1.0000 - dense_2_acc_28: 1.0000 - dense_2_acc_29: 1.0000 - dense_2_acc_30: 0.0167         \n",
      "Epoch 96/100\n",
      "60/60 [==============================] - 0s - loss: 6.0889 - dense_2_loss_1: 3.7814 - dense_2_loss_2: 1.1716 - dense_2_loss_3: 0.3303 - dense_2_loss_4: 0.0929 - dense_2_loss_5: 0.0661 - dense_2_loss_6: 0.0476 - dense_2_loss_7: 0.0413 - dense_2_loss_8: 0.0342 - dense_2_loss_9: 0.0259 - dense_2_loss_10: 0.0252 - dense_2_loss_11: 0.0258 - dense_2_loss_12: 0.0261 - dense_2_loss_13: 0.0236 - dense_2_loss_14: 0.0246 - dense_2_loss_15: 0.0244 - dense_2_loss_16: 0.0246 - dense_2_loss_17: 0.0217 - dense_2_loss_18: 0.0242 - dense_2_loss_19: 0.0236 - dense_2_loss_20: 0.0242 - dense_2_loss_21: 0.0249 - dense_2_loss_22: 0.0256 - dense_2_loss_23: 0.0226 - dense_2_loss_24: 0.0217 - dense_2_loss_25: 0.0265 - dense_2_loss_26: 0.0232 - dense_2_loss_27: 0.0261 - dense_2_loss_28: 0.0283 - dense_2_loss_29: 0.0310 - dense_2_loss_30: 0.0000e+00 - dense_2_acc_1: 0.1000 - dense_2_acc_2: 0.6500 - dense_2_acc_3: 0.9333 - dense_2_acc_4: 1.0000 - dense_2_acc_5: 1.0000 - dense_2_acc_6: 1.0000 - dense_2_acc_7: 1.0000 - dense_2_acc_8: 1.0000 - dense_2_acc_9: 1.0000 - dense_2_acc_10: 1.0000 - dense_2_acc_11: 1.0000 - dense_2_acc_12: 1.0000 - dense_2_acc_13: 1.0000 - dense_2_acc_14: 1.0000 - dense_2_acc_15: 1.0000 - dense_2_acc_16: 1.0000 - dense_2_acc_17: 1.0000 - dense_2_acc_18: 1.0000 - dense_2_acc_19: 1.0000 - dense_2_acc_20: 1.0000 - dense_2_acc_21: 1.0000 - dense_2_acc_22: 1.0000 - dense_2_acc_23: 1.0000 - dense_2_acc_24: 1.0000 - dense_2_acc_25: 1.0000 - dense_2_acc_26: 1.0000 - dense_2_acc_27: 1.0000 - dense_2_acc_28: 1.0000 - dense_2_acc_29: 1.0000 - dense_2_acc_30: 0.0167     \n",
      "Epoch 97/100\n",
      "60/60 [==============================] - 0s - loss: 6.0543 - dense_2_loss_1: 3.7785 - dense_2_loss_2: 1.1613 - dense_2_loss_3: 0.3246 - dense_2_loss_4: 0.0912 - dense_2_loss_5: 0.0645 - dense_2_loss_6: 0.0467 - dense_2_loss_7: 0.0404 - dense_2_loss_8: 0.0335 - dense_2_loss_9: 0.0255 - dense_2_loss_10: 0.0246 - dense_2_loss_11: 0.0253 - dense_2_loss_12: 0.0256 - dense_2_loss_13: 0.0231 - dense_2_loss_14: 0.0241 - dense_2_loss_15: 0.0239 - dense_2_loss_16: 0.0241 - dense_2_loss_17: 0.0212 - dense_2_loss_18: 0.0237 - dense_2_loss_19: 0.0231 - dense_2_loss_20: 0.0237 - dense_2_loss_21: 0.0244 - dense_2_loss_22: 0.0251 - dense_2_loss_23: 0.0222 - dense_2_loss_24: 0.0212 - dense_2_loss_25: 0.0260 - dense_2_loss_26: 0.0228 - dense_2_loss_27: 0.0256 - dense_2_loss_28: 0.0277 - dense_2_loss_29: 0.0304 - dense_2_loss_30: 0.0000e+00 - dense_2_acc_1: 0.1000 - dense_2_acc_2: 0.6500 - dense_2_acc_3: 0.9333 - dense_2_acc_4: 1.0000 - dense_2_acc_5: 1.0000 - dense_2_acc_6: 1.0000 - dense_2_acc_7: 1.0000 - dense_2_acc_8: 1.0000 - dense_2_acc_9: 1.0000 - dense_2_acc_10: 1.0000 - dense_2_acc_11: 1.0000 - dense_2_acc_12: 1.0000 - dense_2_acc_13: 1.0000 - dense_2_acc_14: 1.0000 - dense_2_acc_15: 1.0000 - dense_2_acc_16: 1.0000 - dense_2_acc_17: 1.0000 - dense_2_acc_18: 1.0000 - dense_2_acc_19: 1.0000 - dense_2_acc_20: 1.0000 - dense_2_acc_21: 1.0000 - dense_2_acc_22: 1.0000 - dense_2_acc_23: 1.0000 - dense_2_acc_24: 1.0000 - dense_2_acc_25: 1.0000 - dense_2_acc_26: 1.0000 - dense_2_acc_27: 1.0000 - dense_2_acc_28: 1.0000 - dense_2_acc_29: 1.0000 - dense_2_acc_30: 0.0167     \n",
      "Epoch 98/100\n",
      "60/60 [==============================] - 0s - loss: 6.0229 - dense_2_loss_1: 3.7756 - dense_2_loss_2: 1.1523 - dense_2_loss_3: 0.3198 - dense_2_loss_4: 0.0896 - dense_2_loss_5: 0.0634 - dense_2_loss_6: 0.0459 - dense_2_loss_7: 0.0397 - dense_2_loss_8: 0.0329 - dense_2_loss_9: 0.0250 - dense_2_loss_10: 0.0241 - dense_2_loss_11: 0.0248 - dense_2_loss_12: 0.0251 - dense_2_loss_13: 0.0227 - dense_2_loss_14: 0.0237 - dense_2_loss_15: 0.0234 - dense_2_loss_16: 0.0237 - dense_2_loss_17: 0.0207 - dense_2_loss_18: 0.0233 - dense_2_loss_19: 0.0228 - dense_2_loss_20: 0.0232 - dense_2_loss_21: 0.0239 - dense_2_loss_22: 0.0246 - dense_2_loss_23: 0.0218 - dense_2_loss_24: 0.0208 - dense_2_loss_25: 0.0256 - dense_2_loss_26: 0.0224 - dense_2_loss_27: 0.0250 - dense_2_loss_28: 0.0271 - dense_2_loss_29: 0.0299 - dense_2_loss_30: 0.0000e+00 - dense_2_acc_1: 0.1000 - dense_2_acc_2: 0.6500 - dense_2_acc_3: 0.9333 - dense_2_acc_4: 1.0000 - dense_2_acc_5: 1.0000 - dense_2_acc_6: 1.0000 - dense_2_acc_7: 1.0000 - dense_2_acc_8: 1.0000 - dense_2_acc_9: 1.0000 - dense_2_acc_10: 1.0000 - dense_2_acc_11: 1.0000 - dense_2_acc_12: 1.0000 - dense_2_acc_13: 1.0000 - dense_2_acc_14: 1.0000 - dense_2_acc_15: 1.0000 - dense_2_acc_16: 1.0000 - dense_2_acc_17: 1.0000 - dense_2_acc_18: 1.0000 - dense_2_acc_19: 1.0000 - dense_2_acc_20: 1.0000 - dense_2_acc_21: 1.0000 - dense_2_acc_22: 1.0000 - dense_2_acc_23: 1.0000 - dense_2_acc_24: 1.0000 - dense_2_acc_25: 1.0000 - dense_2_acc_26: 1.0000 - dense_2_acc_27: 1.0000 - dense_2_acc_28: 1.0000 - dense_2_acc_29: 1.0000 - dense_2_acc_30: 0.0167     \n",
      "Epoch 99/100\n",
      "60/60 [==============================] - 0s - loss: 5.9915 - dense_2_loss_1: 3.7727 - dense_2_loss_2: 1.1429 - dense_2_loss_3: 0.3150 - dense_2_loss_4: 0.0882 - dense_2_loss_5: 0.0622 - dense_2_loss_6: 0.0450 - dense_2_loss_7: 0.0390 - dense_2_loss_8: 0.0324 - dense_2_loss_9: 0.0245 - dense_2_loss_10: 0.0238 - dense_2_loss_11: 0.0242 - dense_2_loss_12: 0.0247 - dense_2_loss_13: 0.0223 - dense_2_loss_14: 0.0232 - dense_2_loss_15: 0.0230 - dense_2_loss_16: 0.0232 - dense_2_loss_17: 0.0203 - dense_2_loss_18: 0.0228 - dense_2_loss_19: 0.0224 - dense_2_loss_20: 0.0228 - dense_2_loss_21: 0.0235 - dense_2_loss_22: 0.0240 - dense_2_loss_23: 0.0213 - dense_2_loss_24: 0.0204 - dense_2_loss_25: 0.0251 - dense_2_loss_26: 0.0221 - dense_2_loss_27: 0.0244 - dense_2_loss_28: 0.0267 - dense_2_loss_29: 0.0294 - dense_2_loss_30: 0.0000e+00 - dense_2_acc_1: 0.1000 - dense_2_acc_2: 0.6500 - dense_2_acc_3: 0.9333 - dense_2_acc_4: 1.0000 - dense_2_acc_5: 1.0000 - dense_2_acc_6: 1.0000 - dense_2_acc_7: 1.0000 - dense_2_acc_8: 1.0000 - dense_2_acc_9: 1.0000 - dense_2_acc_10: 1.0000 - dense_2_acc_11: 1.0000 - dense_2_acc_12: 1.0000 - dense_2_acc_13: 1.0000 - dense_2_acc_14: 1.0000 - dense_2_acc_15: 1.0000 - dense_2_acc_16: 1.0000 - dense_2_acc_17: 1.0000 - dense_2_acc_18: 1.0000 - dense_2_acc_19: 1.0000 - dense_2_acc_20: 1.0000 - dense_2_acc_21: 1.0000 - dense_2_acc_22: 1.0000 - dense_2_acc_23: 1.0000 - dense_2_acc_24: 1.0000 - dense_2_acc_25: 1.0000 - dense_2_acc_26: 1.0000 - dense_2_acc_27: 1.0000 - dense_2_acc_28: 1.0000 - dense_2_acc_29: 1.0000 - dense_2_acc_30: 0.0167         \n",
      "Epoch 100/100\n",
      "60/60 [==============================] - 0s - loss: 5.9602 - dense_2_loss_1: 3.7699 - dense_2_loss_2: 1.1338 - dense_2_loss_3: 0.3095 - dense_2_loss_4: 0.0866 - dense_2_loss_5: 0.0611 - dense_2_loss_6: 0.0442 - dense_2_loss_7: 0.0383 - dense_2_loss_8: 0.0318 - dense_2_loss_9: 0.0241 - dense_2_loss_10: 0.0234 - dense_2_loss_11: 0.0238 - dense_2_loss_12: 0.0242 - dense_2_loss_13: 0.0219 - dense_2_loss_14: 0.0228 - dense_2_loss_15: 0.0225 - dense_2_loss_16: 0.0228 - dense_2_loss_17: 0.0199 - dense_2_loss_18: 0.0224 - dense_2_loss_19: 0.0219 - dense_2_loss_20: 0.0224 - dense_2_loss_21: 0.0230 - dense_2_loss_22: 0.0235 - dense_2_loss_23: 0.0209 - dense_2_loss_24: 0.0201 - dense_2_loss_25: 0.0246 - dense_2_loss_26: 0.0217 - dense_2_loss_27: 0.0240 - dense_2_loss_28: 0.0262 - dense_2_loss_29: 0.0288 - dense_2_loss_30: 0.0000e+00 - dense_2_acc_1: 0.1000 - dense_2_acc_2: 0.6500 - dense_2_acc_3: 0.9500 - dense_2_acc_4: 1.0000 - dense_2_acc_5: 1.0000 - dense_2_acc_6: 1.0000 - dense_2_acc_7: 1.0000 - dense_2_acc_8: 1.0000 - dense_2_acc_9: 1.0000 - dense_2_acc_10: 1.0000 - dense_2_acc_11: 1.0000 - dense_2_acc_12: 1.0000 - dense_2_acc_13: 1.0000 - dense_2_acc_14: 1.0000 - dense_2_acc_15: 1.0000 - dense_2_acc_16: 1.0000 - dense_2_acc_17: 1.0000 - dense_2_acc_18: 1.0000 - dense_2_acc_19: 1.0000 - dense_2_acc_20: 1.0000 - dense_2_acc_21: 1.0000 - dense_2_acc_22: 1.0000 - dense_2_acc_23: 1.0000 - dense_2_acc_24: 1.0000 - dense_2_acc_25: 1.0000 - dense_2_acc_26: 1.0000 - dense_2_acc_27: 1.0000 - dense_2_acc_28: 1.0000 - dense_2_acc_29: 1.0000 - dense_2_acc_30: 0.0167         \n"
     ]
    },
    {
     "data": {
      "text/plain": [
       "<keras.callbacks.History at 0x7fd4509e54e0>"
      ]
     },
     "execution_count": 29,
     "metadata": {},
     "output_type": "execute_result"
    }
   ],
   "source": [
    "model.fit([X, a0, c0], list(Y), epochs=100)"
   ]
  },
  {
   "cell_type": "markdown",
   "metadata": {},
   "source": [
    "You should see the model loss going down. Now that you have trained a model, lets go on the the final section to implement an inference algorithm, and generate some music! "
   ]
  },
  {
   "cell_type": "markdown",
   "metadata": {},
   "source": [
    "## 3 - Generating music\n",
    "\n",
    "You now have a trained model which has learned the patterns of the jazz soloist. Lets now use this model to synthesize new music. \n",
    "\n",
    "#### 3.1 - Predicting & Sampling\n",
    "\n",
    "<img src=\"images/music_gen.png\" style=\"width:600;height:400px;\">\n",
    "\n",
    "At each step of sampling, you will take as input the activation `a` and cell state `c` from the previous state of the LSTM, forward propagate by one step, and get a new output activation as well as cell state. The new activation `a` can then be used to generate the output, using `densor` as before. \n",
    "\n",
    "To start off the model, we will initialize `x0` as well as the LSTM activation and and cell value `a0` and `c0` to be zeros. \n",
    "\n",
    "\n",
    "<!-- \n",
    "You are about to build a function that will do this inference for you. Your function takes in your previous model and the number of time steps `Ty` that you want to sample. It will return a keras model that would be able to generate sequences for you. Furthermore, the function takes in a dense layer of `78` units and the number of activations. \n",
    "!--> \n",
    "\n",
    "\n",
    "**Exercise:** Implement the function below to sample a sequence of musical values. Here are some of the key steps you'll need to implement inside the for-loop that generates the $T_y$ output characters: \n",
    "\n",
    "Step 2.A: Use `LSTM_Cell`, which inputs the previous step's `c` and `a` to generate the current step's `c` and `a`. \n",
    "\n",
    "Step 2.B: Use `densor` (defined previously) to compute a softmax on `a` to get the output for the current step. \n",
    "\n",
    "Step 2.C: Save the output you have just generated by appending it to `outputs`.\n",
    "\n",
    "Step 2.D: Sample x to the be \"out\"'s one-hot version (the prediction) so that you can pass it to the next LSTM's step.  We have already provided this line of code, which uses a [Lambda](https://keras.io/layers/core/#lambda) function. \n",
    "```python\n",
    "x = Lambda(one_hot)(out) \n",
    "```\n",
    "[Minor technical note: Rather than sampling a value at random according to the probabilities in `out`, this line of code actually chooses the single most likely note at each step using an argmax.]\n"
   ]
  },
  {
   "cell_type": "code",
   "execution_count": 30,
   "metadata": {
    "collapsed": true
   },
   "outputs": [],
   "source": [
    "# GRADED FUNCTION: music_inference_model\n",
    "\n",
    "def music_inference_model(LSTM_cell, densor, n_values = 78, n_a = 64, Ty = 100):\n",
    "    \"\"\"\n",
    "    Uses the trained \"LSTM_cell\" and \"densor\" from model() to generate a sequence of values.\n",
    "    \n",
    "    Arguments:\n",
    "    LSTM_cell -- the trained \"LSTM_cell\" from model(), Keras layer object\n",
    "    densor -- the trained \"densor\" from model(), Keras layer object\n",
    "    n_values -- integer, umber of unique values\n",
    "    n_a -- number of units in the LSTM_cell\n",
    "    Ty -- integer, number of time steps to generate\n",
    "    \n",
    "    Returns:\n",
    "    inference_model -- Keras model instance\n",
    "    \"\"\"\n",
    "    \n",
    "    # Define the input of your model with a shape \n",
    "    x0 = Input(shape=(1, n_values))\n",
    "    \n",
    "    # Define s0, initial hidden state for the decoder LSTM\n",
    "    a0 = Input(shape=(n_a,), name='a0')\n",
    "    c0 = Input(shape=(n_a,), name='c0')\n",
    "    a = a0\n",
    "    c = c0\n",
    "    x = x0\n",
    "\n",
    "    ### START CODE HERE ###\n",
    "    # Step 1: Create an empty list of \"outputs\" to later store your predicted values (≈1 line)\n",
    "    outputs = []\n",
    "    \n",
    "    # Step 2: Loop over Ty and generate a value at every time step\n",
    "    for t in range(Ty):\n",
    "        \n",
    "        # Step 2.A: Perform one step of LSTM_cell (≈1 line)\n",
    "        a, _, c = LSTM_cell(x, initial_state=[a, c])\n",
    "        \n",
    "        # Step 2.B: Apply Dense layer to the hidden state output of the LSTM_cell (≈1 line)\n",
    "        out = densor(a)\n",
    "\n",
    "        # Step 2.C: Append the prediction \"out\" to \"outputs\". out.shape = (None, 78) (≈1 line)\n",
    "        outputs.append(out)\n",
    "        \n",
    "        # Step 2.D: Select the next value according to \"out\", and set \"x\" to be the one-hot representation of the\n",
    "        #           selected value, which will be passed as the input to LSTM_cell on the next step. We have provided \n",
    "        #           the line of code you need to do this. \n",
    "        x = Lambda(one_hot)(out)\n",
    "        \n",
    "    # Step 3: Create model instance with the correct \"inputs\" and \"outputs\" (≈1 line)\n",
    "    inference_model = Model(inputs=[x0, a0, c0], outputs=outputs)\n",
    "    \n",
    "    ### END CODE HERE ###\n",
    "    \n",
    "    return inference_model"
   ]
  },
  {
   "cell_type": "markdown",
   "metadata": {},
   "source": [
    "Run the cell below to define your inference model. This model is hard coded to generate 50 values."
   ]
  },
  {
   "cell_type": "code",
   "execution_count": 31,
   "metadata": {
    "collapsed": true
   },
   "outputs": [],
   "source": [
    "inference_model = music_inference_model(LSTM_cell, densor, n_values = 78, n_a = 64, Ty = 50)"
   ]
  },
  {
   "cell_type": "markdown",
   "metadata": {},
   "source": [
    "Finally, this creates the zero-valued vectors you will use to initialize `x` and the LSTM state variables `a` and `c`. "
   ]
  },
  {
   "cell_type": "code",
   "execution_count": 32,
   "metadata": {
    "collapsed": true
   },
   "outputs": [],
   "source": [
    "x_initializer = np.zeros((1, 1, 78))\n",
    "a_initializer = np.zeros((1, n_a))\n",
    "c_initializer = np.zeros((1, n_a))"
   ]
  },
  {
   "cell_type": "markdown",
   "metadata": {},
   "source": [
    "**Exercise**: Implement `predict_and_sample()`. This function takes many arguments including the inputs [x_initializer, a_initializer, c_initializer]. In order to predict the output corresponding to this input, you will need to carry-out 3 steps:\n",
    "1. Use your inference model to predict an output given your set of inputs. The output `pred` should be a list of length $T_y$ where each element is a numpy-array of shape (1, n_values).\n",
    "2. Convert `pred` into a numpy array of $T_y$ indices. Each index corresponds is computed by taking the `argmax` of an element of the `pred` list. [Hint](https://docs.scipy.org/doc/numpy/reference/generated/numpy.argmax.html).\n",
    "3. Convert the indices into their one-hot vector representations. [Hint](https://keras.io/utils/#to_categorical)."
   ]
  },
  {
   "cell_type": "code",
   "execution_count": 48,
   "metadata": {},
   "outputs": [],
   "source": [
    "# GRADED FUNCTION: predict_and_sample\n",
    "\n",
    "def predict_and_sample(inference_model, x_initializer = x_initializer, a_initializer = a_initializer, \n",
    "                       c_initializer = c_initializer):\n",
    "    \"\"\"\n",
    "    Predicts the next value of values using the inference model.\n",
    "    \n",
    "    Arguments:\n",
    "    inference_model -- Keras model instance for inference time\n",
    "    x_initializer -- numpy array of shape (1, 1, 78), one-hot vector initializing the values generation\n",
    "    a_initializer -- numpy array of shape (1, n_a), initializing the hidden state of the LSTM_cell\n",
    "    c_initializer -- numpy array of shape (1, n_a), initializing the cell state of the LSTM_cel\n",
    "    \n",
    "    Returns:\n",
    "    results -- numpy-array of shape (Ty, 78), matrix of one-hot vectors representing the values generated\n",
    "    indices -- numpy-array of shape (Ty, 1), matrix of indices representing the values generated\n",
    "    \"\"\"\n",
    "    \n",
    "    ### START CODE HERE ###\n",
    "    # Step 1: Use your inference model to predict an output sequence given x_initializer, a_initializer and c_initializer.\n",
    "    pred = inference_model.predict([x_initializer, a_initializer, c_initializer])\n",
    "    # Step 2: Convert \"pred\" into an np.array() of indices with the maximum probabilities\n",
    "    indices = np.argmax(np.array(pred), axis=2)\n",
    "    # Step 3: Convert indices to one-hot vectors, the shape of the results should be (1, )\n",
    "    results = to_categorical(indices, num_classes=x_initializer.shape[2])\n",
    "    ### END CODE HERE ###\n",
    "    \n",
    "    return results, indices"
   ]
  },
  {
   "cell_type": "code",
   "execution_count": 49,
   "metadata": {},
   "outputs": [
    {
     "name": "stdout",
     "output_type": "stream",
     "text": [
      "[[45]\n",
      " [61]\n",
      " [12]\n",
      " [45]\n",
      " [ 4]\n",
      " [45]\n",
      " [61]\n",
      " [ 2]\n",
      " [23]\n",
      " [37]\n",
      " [77]\n",
      " [ 1]\n",
      " [28]\n",
      " [11]\n",
      " [65]\n",
      " [ 1]\n",
      " [28]\n",
      " [11]\n",
      " [67]\n",
      " [71]\n",
      " [18]\n",
      " [16]\n",
      " [18]\n",
      " [45]\n",
      " [53]\n",
      " [ 1]\n",
      " [31]\n",
      " [19]\n",
      " [13]\n",
      " [16]\n",
      " [44]\n",
      " [ 2]\n",
      " [60]\n",
      " [75]\n",
      " [56]\n",
      " [46]\n",
      " [56]\n",
      " [70]\n",
      " [ 6]\n",
      " [15]\n",
      " [49]\n",
      " [12]\n",
      " [45]\n",
      " [ 1]\n",
      " [68]\n",
      " [ 5]\n",
      " [24]\n",
      " [ 4]\n",
      " [ 3]\n",
      " [16]]\n",
      "np.argmax(results[12]) = 28\n",
      "np.argmax(results[17]) = 11\n",
      "list(indices[12:18]) = [array([28]), array([11]), array([65]), array([1]), array([28]), array([11])]\n"
     ]
    }
   ],
   "source": [
    "results, indices = predict_and_sample(inference_model, x_initializer, a_initializer, c_initializer)\n",
    "print(\"np.argmax(results[12]) =\", np.argmax(results[12]))\n",
    "print(\"np.argmax(results[17]) =\", np.argmax(results[17]))\n",
    "print(\"list(indices[12:18]) =\", list(indices[12:18]))"
   ]
  },
  {
   "cell_type": "markdown",
   "metadata": {},
   "source": [
    "**Expected Output**: Your results may differ because Keras' results are not completely predictable. However, if you have trained your LSTM_cell with model.fit() for exactly 100 epochs as described above, you should very likely observe a sequence of indices that are not all identical. Moreover, you should observe that: np.argmax(results[12]) is the first element of list(indices[12:18]) and np.argmax(results[17]) is the last element of list(indices[12:18]). \n",
    "\n",
    "<table>\n",
    "    <tr>\n",
    "        <td>\n",
    "            **np.argmax(results[12])** =\n",
    "        </td>\n",
    "        <td>\n",
    "        1\n",
    "        </td>\n",
    "    </tr>\n",
    "    <tr>\n",
    "        <td>\n",
    "            **np.argmax(results[12])** =\n",
    "        </td>\n",
    "        <td>\n",
    "        42\n",
    "        </td>\n",
    "    </tr>\n",
    "    <tr>\n",
    "        <td>\n",
    "            **list(indices[12:18])** =\n",
    "        </td>\n",
    "        <td>\n",
    "            [array([1]), array([42]), array([54]), array([17]), array([1]), array([42])]\n",
    "        </td>\n",
    "    </tr>\n",
    "</table>"
   ]
  },
  {
   "cell_type": "markdown",
   "metadata": {},
   "source": [
    "#### 3.3 - Generate music \n",
    "\n",
    "Finally, you are ready to generate music. Your RNN generates a sequence of values. The following code generates music by first calling your `predict_and_sample()` function. These values are then post-processed into musical chords (meaning that multiple values or notes can be played at the same time). \n",
    "\n",
    "Most computational music algorithms use some post-processing because it is difficult to generate music that sounds good without such post-processing. The post-processing does things such as clean up the generated audio by making sure the same sound is not repeated too many times, that two successive notes are not too far from each other in pitch, and so on. One could argue that a lot of these post-processing steps are hacks; also, a lot the music generation literature has also focused on hand-crafting post-processors, and a lot of the output quality depends on the quality of the post-processing and not just the quality of the RNN. But this post-processing does make a huge difference, so lets use it in our implementation as well. \n",
    "\n",
    "Lets make some music! "
   ]
  },
  {
   "cell_type": "markdown",
   "metadata": {},
   "source": [
    "Run the following cell to generate music and record it into your `out_stream`. This can take a couple of minutes."
   ]
  },
  {
   "cell_type": "code",
   "execution_count": null,
   "metadata": {
    "collapsed": true,
    "scrolled": false
   },
   "outputs": [],
   "source": [
    "out_stream = generate_music(inference_model)"
   ]
  },
  {
   "cell_type": "markdown",
   "metadata": {},
   "source": [
    "To listen to your music, click File->Open... Then go to \"output/\" and download \"my_music.midi\". Either play it on your computer with an application that can read midi files if you have one, or use one of the free online \"MIDI to mp3\" conversion tools to convert this to mp3.  \n",
    "\n",
    "As reference, here also is a 30sec audio clip we generated using this algorithm. "
   ]
  },
  {
   "cell_type": "code",
   "execution_count": null,
   "metadata": {
    "collapsed": true
   },
   "outputs": [],
   "source": [
    "IPython.display.Audio('./data/30s_trained_model.mp3')"
   ]
  },
  {
   "cell_type": "markdown",
   "metadata": {},
   "source": [
    "### Congratulations!\n",
    "\n",
    "You have come to the end of the notebook. \n",
    "\n",
    "<font color=\"blue\">\n",
    "Here's what you should remember:\n",
    "- A sequence model can be used to generate musical values, which are then post-processed into midi music. \n",
    "- Fairly similar models can be used to generate dinosaur names or to generate music, with the major difference being the input fed to the model.  \n",
    "- In Keras, sequence generation involves defining layers with shared weights, which are then repeated for the different time steps $1, \\ldots, T_x$. "
   ]
  },
  {
   "cell_type": "markdown",
   "metadata": {},
   "source": [
    "Congratulations on completing this assignment and generating a jazz solo! "
   ]
  },
  {
   "cell_type": "markdown",
   "metadata": {},
   "source": [
    "**References**\n",
    "\n",
    "The ideas presented in this notebook came primarily from three computational music papers cited below. The implementation here also took significant inspiration and used many components from Ji-Sung Kim's github repository.\n",
    "\n",
    "- Ji-Sung Kim, 2016, [deepjazz](https://github.com/jisungk/deepjazz)\n",
    "- Jon Gillick, Kevin Tang and Robert Keller, 2009. [Learning Jazz Grammars](http://ai.stanford.edu/~kdtang/papers/smc09-jazzgrammar.pdf)\n",
    "- Robert Keller and David Morrison, 2007, [A Grammatical Approach to Automatic Improvisation](http://smc07.uoa.gr/SMC07%20Proceedings/SMC07%20Paper%2055.pdf)\n",
    "- François Pachet, 1999, [Surprising Harmonies](http://citeseerx.ist.psu.edu/viewdoc/download?doi=10.1.1.5.7473&rep=rep1&type=pdf)\n",
    "\n",
    "We're also grateful to François Germain for valuable feedback."
   ]
  }
 ],
 "metadata": {
  "coursera": {
   "course_slug": "nlp-sequence-models",
   "graded_item_id": "EG0F7",
   "launcher_item_id": "cxJXc"
  },
  "kernelspec": {
   "display_name": "Python 2",
   "language": "python",
   "name": "python2"
  },
  "language_info": {
   "codemirror_mode": {
    "name": "ipython",
    "version": 2
   },
   "file_extension": ".py",
   "mimetype": "text/x-python",
   "name": "python",
   "nbconvert_exporter": "python",
   "pygments_lexer": "ipython2",
   "version": "2.7.14"
  }
 },
 "nbformat": 4,
 "nbformat_minor": 2
}
